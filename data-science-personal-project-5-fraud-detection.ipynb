{
 "cells": [
  {
   "cell_type": "markdown",
   "id": "5cff9db9",
   "metadata": {
    "papermill": {
     "duration": 0.021161,
     "end_time": "2023-01-20T15:40:33.706850",
     "exception": false,
     "start_time": "2023-01-20T15:40:33.685689",
     "status": "completed"
    },
    "tags": []
   },
   "source": [
    "# Fraud Detection\n",
    "\n",
    "In this project, we'll be building a classification model that aims to detect fraud in credit card transactions. This type of task usually deals with extremely imbalanced datasets, so we'll also be looking into dealing with those. Without further ado, let's check out our dataset."
   ]
  },
  {
   "cell_type": "code",
   "execution_count": 1,
   "id": "878f5c8b",
   "metadata": {
    "execution": {
     "iopub.execute_input": "2023-01-20T15:40:33.742796Z",
     "iopub.status.busy": "2023-01-20T15:40:33.741732Z",
     "iopub.status.idle": "2023-01-20T15:40:35.014829Z",
     "shell.execute_reply": "2023-01-20T15:40:35.013079Z"
    },
    "papermill": {
     "duration": 1.295597,
     "end_time": "2023-01-20T15:40:35.019020",
     "exception": false,
     "start_time": "2023-01-20T15:40:33.723423",
     "status": "completed"
    },
    "tags": []
   },
   "outputs": [],
   "source": [
    "#import modules\n",
    "import pandas as pd\n",
    "import numpy as np\n",
    "import matplotlib.pyplot as plt\n",
    "import seaborn as sns\n",
    "sns.set_theme(style=\"darkgrid\")"
   ]
  },
  {
   "cell_type": "code",
   "execution_count": 2,
   "id": "4afde7d9",
   "metadata": {
    "execution": {
     "iopub.execute_input": "2023-01-20T15:40:35.062573Z",
     "iopub.status.busy": "2023-01-20T15:40:35.062145Z",
     "iopub.status.idle": "2023-01-20T15:40:43.222033Z",
     "shell.execute_reply": "2023-01-20T15:40:43.220943Z"
    },
    "papermill": {
     "duration": 8.182335,
     "end_time": "2023-01-20T15:40:43.224706",
     "exception": false,
     "start_time": "2023-01-20T15:40:35.042371",
     "status": "completed"
    },
    "tags": []
   },
   "outputs": [
    {
     "data": {
      "text/html": [
       "<div>\n",
       "<style scoped>\n",
       "    .dataframe tbody tr th:only-of-type {\n",
       "        vertical-align: middle;\n",
       "    }\n",
       "\n",
       "    .dataframe tbody tr th {\n",
       "        vertical-align: top;\n",
       "    }\n",
       "\n",
       "    .dataframe thead th {\n",
       "        text-align: right;\n",
       "    }\n",
       "</style>\n",
       "<table border=\"1\" class=\"dataframe\">\n",
       "  <thead>\n",
       "    <tr style=\"text-align: right;\">\n",
       "      <th></th>\n",
       "      <th>Time</th>\n",
       "      <th>V1</th>\n",
       "      <th>V2</th>\n",
       "      <th>V3</th>\n",
       "      <th>V4</th>\n",
       "      <th>V5</th>\n",
       "      <th>V6</th>\n",
       "      <th>V7</th>\n",
       "      <th>V8</th>\n",
       "      <th>V9</th>\n",
       "      <th>...</th>\n",
       "      <th>V21</th>\n",
       "      <th>V22</th>\n",
       "      <th>V23</th>\n",
       "      <th>V24</th>\n",
       "      <th>V25</th>\n",
       "      <th>V26</th>\n",
       "      <th>V27</th>\n",
       "      <th>V28</th>\n",
       "      <th>Amount</th>\n",
       "      <th>Class</th>\n",
       "    </tr>\n",
       "  </thead>\n",
       "  <tbody>\n",
       "    <tr>\n",
       "      <th>0</th>\n",
       "      <td>0.0</td>\n",
       "      <td>-1.359807</td>\n",
       "      <td>-0.072781</td>\n",
       "      <td>2.536347</td>\n",
       "      <td>1.378155</td>\n",
       "      <td>-0.338321</td>\n",
       "      <td>0.462388</td>\n",
       "      <td>0.239599</td>\n",
       "      <td>0.098698</td>\n",
       "      <td>0.363787</td>\n",
       "      <td>...</td>\n",
       "      <td>-0.018307</td>\n",
       "      <td>0.277838</td>\n",
       "      <td>-0.110474</td>\n",
       "      <td>0.066928</td>\n",
       "      <td>0.128539</td>\n",
       "      <td>-0.189115</td>\n",
       "      <td>0.133558</td>\n",
       "      <td>-0.021053</td>\n",
       "      <td>149.62</td>\n",
       "      <td>0</td>\n",
       "    </tr>\n",
       "    <tr>\n",
       "      <th>1</th>\n",
       "      <td>0.0</td>\n",
       "      <td>1.191857</td>\n",
       "      <td>0.266151</td>\n",
       "      <td>0.166480</td>\n",
       "      <td>0.448154</td>\n",
       "      <td>0.060018</td>\n",
       "      <td>-0.082361</td>\n",
       "      <td>-0.078803</td>\n",
       "      <td>0.085102</td>\n",
       "      <td>-0.255425</td>\n",
       "      <td>...</td>\n",
       "      <td>-0.225775</td>\n",
       "      <td>-0.638672</td>\n",
       "      <td>0.101288</td>\n",
       "      <td>-0.339846</td>\n",
       "      <td>0.167170</td>\n",
       "      <td>0.125895</td>\n",
       "      <td>-0.008983</td>\n",
       "      <td>0.014724</td>\n",
       "      <td>2.69</td>\n",
       "      <td>0</td>\n",
       "    </tr>\n",
       "    <tr>\n",
       "      <th>2</th>\n",
       "      <td>1.0</td>\n",
       "      <td>-1.358354</td>\n",
       "      <td>-1.340163</td>\n",
       "      <td>1.773209</td>\n",
       "      <td>0.379780</td>\n",
       "      <td>-0.503198</td>\n",
       "      <td>1.800499</td>\n",
       "      <td>0.791461</td>\n",
       "      <td>0.247676</td>\n",
       "      <td>-1.514654</td>\n",
       "      <td>...</td>\n",
       "      <td>0.247998</td>\n",
       "      <td>0.771679</td>\n",
       "      <td>0.909412</td>\n",
       "      <td>-0.689281</td>\n",
       "      <td>-0.327642</td>\n",
       "      <td>-0.139097</td>\n",
       "      <td>-0.055353</td>\n",
       "      <td>-0.059752</td>\n",
       "      <td>378.66</td>\n",
       "      <td>0</td>\n",
       "    </tr>\n",
       "    <tr>\n",
       "      <th>3</th>\n",
       "      <td>1.0</td>\n",
       "      <td>-0.966272</td>\n",
       "      <td>-0.185226</td>\n",
       "      <td>1.792993</td>\n",
       "      <td>-0.863291</td>\n",
       "      <td>-0.010309</td>\n",
       "      <td>1.247203</td>\n",
       "      <td>0.237609</td>\n",
       "      <td>0.377436</td>\n",
       "      <td>-1.387024</td>\n",
       "      <td>...</td>\n",
       "      <td>-0.108300</td>\n",
       "      <td>0.005274</td>\n",
       "      <td>-0.190321</td>\n",
       "      <td>-1.175575</td>\n",
       "      <td>0.647376</td>\n",
       "      <td>-0.221929</td>\n",
       "      <td>0.062723</td>\n",
       "      <td>0.061458</td>\n",
       "      <td>123.50</td>\n",
       "      <td>0</td>\n",
       "    </tr>\n",
       "    <tr>\n",
       "      <th>4</th>\n",
       "      <td>2.0</td>\n",
       "      <td>-1.158233</td>\n",
       "      <td>0.877737</td>\n",
       "      <td>1.548718</td>\n",
       "      <td>0.403034</td>\n",
       "      <td>-0.407193</td>\n",
       "      <td>0.095921</td>\n",
       "      <td>0.592941</td>\n",
       "      <td>-0.270533</td>\n",
       "      <td>0.817739</td>\n",
       "      <td>...</td>\n",
       "      <td>-0.009431</td>\n",
       "      <td>0.798278</td>\n",
       "      <td>-0.137458</td>\n",
       "      <td>0.141267</td>\n",
       "      <td>-0.206010</td>\n",
       "      <td>0.502292</td>\n",
       "      <td>0.219422</td>\n",
       "      <td>0.215153</td>\n",
       "      <td>69.99</td>\n",
       "      <td>0</td>\n",
       "    </tr>\n",
       "  </tbody>\n",
       "</table>\n",
       "<p>5 rows × 31 columns</p>\n",
       "</div>"
      ],
      "text/plain": [
       "   Time        V1        V2        V3        V4        V5        V6        V7  \\\n",
       "0   0.0 -1.359807 -0.072781  2.536347  1.378155 -0.338321  0.462388  0.239599   \n",
       "1   0.0  1.191857  0.266151  0.166480  0.448154  0.060018 -0.082361 -0.078803   \n",
       "2   1.0 -1.358354 -1.340163  1.773209  0.379780 -0.503198  1.800499  0.791461   \n",
       "3   1.0 -0.966272 -0.185226  1.792993 -0.863291 -0.010309  1.247203  0.237609   \n",
       "4   2.0 -1.158233  0.877737  1.548718  0.403034 -0.407193  0.095921  0.592941   \n",
       "\n",
       "         V8        V9  ...       V21       V22       V23       V24       V25  \\\n",
       "0  0.098698  0.363787  ... -0.018307  0.277838 -0.110474  0.066928  0.128539   \n",
       "1  0.085102 -0.255425  ... -0.225775 -0.638672  0.101288 -0.339846  0.167170   \n",
       "2  0.247676 -1.514654  ...  0.247998  0.771679  0.909412 -0.689281 -0.327642   \n",
       "3  0.377436 -1.387024  ... -0.108300  0.005274 -0.190321 -1.175575  0.647376   \n",
       "4 -0.270533  0.817739  ... -0.009431  0.798278 -0.137458  0.141267 -0.206010   \n",
       "\n",
       "        V26       V27       V28  Amount  Class  \n",
       "0 -0.189115  0.133558 -0.021053  149.62      0  \n",
       "1  0.125895 -0.008983  0.014724    2.69      0  \n",
       "2 -0.139097 -0.055353 -0.059752  378.66      0  \n",
       "3 -0.221929  0.062723  0.061458  123.50      0  \n",
       "4  0.502292  0.219422  0.215153   69.99      0  \n",
       "\n",
       "[5 rows x 31 columns]"
      ]
     },
     "execution_count": 2,
     "metadata": {},
     "output_type": "execute_result"
    }
   ],
   "source": [
    "credit_card = pd.read_csv(\"/kaggle/input/creditcardfraud/creditcard.csv\")\n",
    "credit_card.head()"
   ]
  },
  {
   "cell_type": "markdown",
   "id": "67b280a8",
   "metadata": {
    "papermill": {
     "duration": 0.017057,
     "end_time": "2023-01-20T15:40:43.260008",
     "exception": false,
     "start_time": "2023-01-20T15:40:43.242951",
     "status": "completed"
    },
    "tags": []
   },
   "source": [
    "The dataset that we have today consists of 31 variables, including our target variable: Class. 0 represents not fraud and 1 represents fraud. The remaining variables consist of Time, Amount and 28 V variables. The V variables are the result of a PCA (dimensionality reduction) transformation in order to protect customer information. So in this project, we wouldn't have the details to present a very interpretable result. Rather, we'll focus on the methods and evaluations we can adopt to deal with imbalanced datasets."
   ]
  },
  {
   "cell_type": "code",
   "execution_count": 3,
   "id": "0bbdb0dc",
   "metadata": {
    "execution": {
     "iopub.execute_input": "2023-01-20T15:40:43.298201Z",
     "iopub.status.busy": "2023-01-20T15:40:43.297524Z",
     "iopub.status.idle": "2023-01-20T15:40:43.915550Z",
     "shell.execute_reply": "2023-01-20T15:40:43.914201Z"
    },
    "papermill": {
     "duration": 0.640001,
     "end_time": "2023-01-20T15:40:43.918502",
     "exception": false,
     "start_time": "2023-01-20T15:40:43.278501",
     "status": "completed"
    },
    "tags": []
   },
   "outputs": [
    {
     "data": {
      "text/html": [
       "<div>\n",
       "<style scoped>\n",
       "    .dataframe tbody tr th:only-of-type {\n",
       "        vertical-align: middle;\n",
       "    }\n",
       "\n",
       "    .dataframe tbody tr th {\n",
       "        vertical-align: top;\n",
       "    }\n",
       "\n",
       "    .dataframe thead th {\n",
       "        text-align: right;\n",
       "    }\n",
       "</style>\n",
       "<table border=\"1\" class=\"dataframe\">\n",
       "  <thead>\n",
       "    <tr style=\"text-align: right;\">\n",
       "      <th></th>\n",
       "      <th>Time</th>\n",
       "      <th>V1</th>\n",
       "      <th>V2</th>\n",
       "      <th>V3</th>\n",
       "      <th>V4</th>\n",
       "      <th>V5</th>\n",
       "      <th>V6</th>\n",
       "      <th>V7</th>\n",
       "      <th>V8</th>\n",
       "      <th>V9</th>\n",
       "      <th>...</th>\n",
       "      <th>V21</th>\n",
       "      <th>V22</th>\n",
       "      <th>V23</th>\n",
       "      <th>V24</th>\n",
       "      <th>V25</th>\n",
       "      <th>V26</th>\n",
       "      <th>V27</th>\n",
       "      <th>V28</th>\n",
       "      <th>Amount</th>\n",
       "      <th>Class</th>\n",
       "    </tr>\n",
       "  </thead>\n",
       "  <tbody>\n",
       "    <tr>\n",
       "      <th>count</th>\n",
       "      <td>284807.000000</td>\n",
       "      <td>2.848070e+05</td>\n",
       "      <td>2.848070e+05</td>\n",
       "      <td>2.848070e+05</td>\n",
       "      <td>2.848070e+05</td>\n",
       "      <td>2.848070e+05</td>\n",
       "      <td>2.848070e+05</td>\n",
       "      <td>2.848070e+05</td>\n",
       "      <td>2.848070e+05</td>\n",
       "      <td>2.848070e+05</td>\n",
       "      <td>...</td>\n",
       "      <td>2.848070e+05</td>\n",
       "      <td>2.848070e+05</td>\n",
       "      <td>2.848070e+05</td>\n",
       "      <td>2.848070e+05</td>\n",
       "      <td>2.848070e+05</td>\n",
       "      <td>2.848070e+05</td>\n",
       "      <td>2.848070e+05</td>\n",
       "      <td>2.848070e+05</td>\n",
       "      <td>284807.000000</td>\n",
       "      <td>284807.000000</td>\n",
       "    </tr>\n",
       "    <tr>\n",
       "      <th>mean</th>\n",
       "      <td>94813.859575</td>\n",
       "      <td>1.168375e-15</td>\n",
       "      <td>3.416908e-16</td>\n",
       "      <td>-1.379537e-15</td>\n",
       "      <td>2.074095e-15</td>\n",
       "      <td>9.604066e-16</td>\n",
       "      <td>1.487313e-15</td>\n",
       "      <td>-5.556467e-16</td>\n",
       "      <td>1.213481e-16</td>\n",
       "      <td>-2.406331e-15</td>\n",
       "      <td>...</td>\n",
       "      <td>1.654067e-16</td>\n",
       "      <td>-3.568593e-16</td>\n",
       "      <td>2.578648e-16</td>\n",
       "      <td>4.473266e-15</td>\n",
       "      <td>5.340915e-16</td>\n",
       "      <td>1.683437e-15</td>\n",
       "      <td>-3.660091e-16</td>\n",
       "      <td>-1.227390e-16</td>\n",
       "      <td>88.349619</td>\n",
       "      <td>0.001727</td>\n",
       "    </tr>\n",
       "    <tr>\n",
       "      <th>std</th>\n",
       "      <td>47488.145955</td>\n",
       "      <td>1.958696e+00</td>\n",
       "      <td>1.651309e+00</td>\n",
       "      <td>1.516255e+00</td>\n",
       "      <td>1.415869e+00</td>\n",
       "      <td>1.380247e+00</td>\n",
       "      <td>1.332271e+00</td>\n",
       "      <td>1.237094e+00</td>\n",
       "      <td>1.194353e+00</td>\n",
       "      <td>1.098632e+00</td>\n",
       "      <td>...</td>\n",
       "      <td>7.345240e-01</td>\n",
       "      <td>7.257016e-01</td>\n",
       "      <td>6.244603e-01</td>\n",
       "      <td>6.056471e-01</td>\n",
       "      <td>5.212781e-01</td>\n",
       "      <td>4.822270e-01</td>\n",
       "      <td>4.036325e-01</td>\n",
       "      <td>3.300833e-01</td>\n",
       "      <td>250.120109</td>\n",
       "      <td>0.041527</td>\n",
       "    </tr>\n",
       "    <tr>\n",
       "      <th>min</th>\n",
       "      <td>0.000000</td>\n",
       "      <td>-5.640751e+01</td>\n",
       "      <td>-7.271573e+01</td>\n",
       "      <td>-4.832559e+01</td>\n",
       "      <td>-5.683171e+00</td>\n",
       "      <td>-1.137433e+02</td>\n",
       "      <td>-2.616051e+01</td>\n",
       "      <td>-4.355724e+01</td>\n",
       "      <td>-7.321672e+01</td>\n",
       "      <td>-1.343407e+01</td>\n",
       "      <td>...</td>\n",
       "      <td>-3.483038e+01</td>\n",
       "      <td>-1.093314e+01</td>\n",
       "      <td>-4.480774e+01</td>\n",
       "      <td>-2.836627e+00</td>\n",
       "      <td>-1.029540e+01</td>\n",
       "      <td>-2.604551e+00</td>\n",
       "      <td>-2.256568e+01</td>\n",
       "      <td>-1.543008e+01</td>\n",
       "      <td>0.000000</td>\n",
       "      <td>0.000000</td>\n",
       "    </tr>\n",
       "    <tr>\n",
       "      <th>25%</th>\n",
       "      <td>54201.500000</td>\n",
       "      <td>-9.203734e-01</td>\n",
       "      <td>-5.985499e-01</td>\n",
       "      <td>-8.903648e-01</td>\n",
       "      <td>-8.486401e-01</td>\n",
       "      <td>-6.915971e-01</td>\n",
       "      <td>-7.682956e-01</td>\n",
       "      <td>-5.540759e-01</td>\n",
       "      <td>-2.086297e-01</td>\n",
       "      <td>-6.430976e-01</td>\n",
       "      <td>...</td>\n",
       "      <td>-2.283949e-01</td>\n",
       "      <td>-5.423504e-01</td>\n",
       "      <td>-1.618463e-01</td>\n",
       "      <td>-3.545861e-01</td>\n",
       "      <td>-3.171451e-01</td>\n",
       "      <td>-3.269839e-01</td>\n",
       "      <td>-7.083953e-02</td>\n",
       "      <td>-5.295979e-02</td>\n",
       "      <td>5.600000</td>\n",
       "      <td>0.000000</td>\n",
       "    </tr>\n",
       "    <tr>\n",
       "      <th>50%</th>\n",
       "      <td>84692.000000</td>\n",
       "      <td>1.810880e-02</td>\n",
       "      <td>6.548556e-02</td>\n",
       "      <td>1.798463e-01</td>\n",
       "      <td>-1.984653e-02</td>\n",
       "      <td>-5.433583e-02</td>\n",
       "      <td>-2.741871e-01</td>\n",
       "      <td>4.010308e-02</td>\n",
       "      <td>2.235804e-02</td>\n",
       "      <td>-5.142873e-02</td>\n",
       "      <td>...</td>\n",
       "      <td>-2.945017e-02</td>\n",
       "      <td>6.781943e-03</td>\n",
       "      <td>-1.119293e-02</td>\n",
       "      <td>4.097606e-02</td>\n",
       "      <td>1.659350e-02</td>\n",
       "      <td>-5.213911e-02</td>\n",
       "      <td>1.342146e-03</td>\n",
       "      <td>1.124383e-02</td>\n",
       "      <td>22.000000</td>\n",
       "      <td>0.000000</td>\n",
       "    </tr>\n",
       "    <tr>\n",
       "      <th>75%</th>\n",
       "      <td>139320.500000</td>\n",
       "      <td>1.315642e+00</td>\n",
       "      <td>8.037239e-01</td>\n",
       "      <td>1.027196e+00</td>\n",
       "      <td>7.433413e-01</td>\n",
       "      <td>6.119264e-01</td>\n",
       "      <td>3.985649e-01</td>\n",
       "      <td>5.704361e-01</td>\n",
       "      <td>3.273459e-01</td>\n",
       "      <td>5.971390e-01</td>\n",
       "      <td>...</td>\n",
       "      <td>1.863772e-01</td>\n",
       "      <td>5.285536e-01</td>\n",
       "      <td>1.476421e-01</td>\n",
       "      <td>4.395266e-01</td>\n",
       "      <td>3.507156e-01</td>\n",
       "      <td>2.409522e-01</td>\n",
       "      <td>9.104512e-02</td>\n",
       "      <td>7.827995e-02</td>\n",
       "      <td>77.165000</td>\n",
       "      <td>0.000000</td>\n",
       "    </tr>\n",
       "    <tr>\n",
       "      <th>max</th>\n",
       "      <td>172792.000000</td>\n",
       "      <td>2.454930e+00</td>\n",
       "      <td>2.205773e+01</td>\n",
       "      <td>9.382558e+00</td>\n",
       "      <td>1.687534e+01</td>\n",
       "      <td>3.480167e+01</td>\n",
       "      <td>7.330163e+01</td>\n",
       "      <td>1.205895e+02</td>\n",
       "      <td>2.000721e+01</td>\n",
       "      <td>1.559499e+01</td>\n",
       "      <td>...</td>\n",
       "      <td>2.720284e+01</td>\n",
       "      <td>1.050309e+01</td>\n",
       "      <td>2.252841e+01</td>\n",
       "      <td>4.584549e+00</td>\n",
       "      <td>7.519589e+00</td>\n",
       "      <td>3.517346e+00</td>\n",
       "      <td>3.161220e+01</td>\n",
       "      <td>3.384781e+01</td>\n",
       "      <td>25691.160000</td>\n",
       "      <td>1.000000</td>\n",
       "    </tr>\n",
       "  </tbody>\n",
       "</table>\n",
       "<p>8 rows × 31 columns</p>\n",
       "</div>"
      ],
      "text/plain": [
       "                Time            V1            V2            V3            V4  \\\n",
       "count  284807.000000  2.848070e+05  2.848070e+05  2.848070e+05  2.848070e+05   \n",
       "mean    94813.859575  1.168375e-15  3.416908e-16 -1.379537e-15  2.074095e-15   \n",
       "std     47488.145955  1.958696e+00  1.651309e+00  1.516255e+00  1.415869e+00   \n",
       "min         0.000000 -5.640751e+01 -7.271573e+01 -4.832559e+01 -5.683171e+00   \n",
       "25%     54201.500000 -9.203734e-01 -5.985499e-01 -8.903648e-01 -8.486401e-01   \n",
       "50%     84692.000000  1.810880e-02  6.548556e-02  1.798463e-01 -1.984653e-02   \n",
       "75%    139320.500000  1.315642e+00  8.037239e-01  1.027196e+00  7.433413e-01   \n",
       "max    172792.000000  2.454930e+00  2.205773e+01  9.382558e+00  1.687534e+01   \n",
       "\n",
       "                 V5            V6            V7            V8            V9  \\\n",
       "count  2.848070e+05  2.848070e+05  2.848070e+05  2.848070e+05  2.848070e+05   \n",
       "mean   9.604066e-16  1.487313e-15 -5.556467e-16  1.213481e-16 -2.406331e-15   \n",
       "std    1.380247e+00  1.332271e+00  1.237094e+00  1.194353e+00  1.098632e+00   \n",
       "min   -1.137433e+02 -2.616051e+01 -4.355724e+01 -7.321672e+01 -1.343407e+01   \n",
       "25%   -6.915971e-01 -7.682956e-01 -5.540759e-01 -2.086297e-01 -6.430976e-01   \n",
       "50%   -5.433583e-02 -2.741871e-01  4.010308e-02  2.235804e-02 -5.142873e-02   \n",
       "75%    6.119264e-01  3.985649e-01  5.704361e-01  3.273459e-01  5.971390e-01   \n",
       "max    3.480167e+01  7.330163e+01  1.205895e+02  2.000721e+01  1.559499e+01   \n",
       "\n",
       "       ...           V21           V22           V23           V24  \\\n",
       "count  ...  2.848070e+05  2.848070e+05  2.848070e+05  2.848070e+05   \n",
       "mean   ...  1.654067e-16 -3.568593e-16  2.578648e-16  4.473266e-15   \n",
       "std    ...  7.345240e-01  7.257016e-01  6.244603e-01  6.056471e-01   \n",
       "min    ... -3.483038e+01 -1.093314e+01 -4.480774e+01 -2.836627e+00   \n",
       "25%    ... -2.283949e-01 -5.423504e-01 -1.618463e-01 -3.545861e-01   \n",
       "50%    ... -2.945017e-02  6.781943e-03 -1.119293e-02  4.097606e-02   \n",
       "75%    ...  1.863772e-01  5.285536e-01  1.476421e-01  4.395266e-01   \n",
       "max    ...  2.720284e+01  1.050309e+01  2.252841e+01  4.584549e+00   \n",
       "\n",
       "                V25           V26           V27           V28         Amount  \\\n",
       "count  2.848070e+05  2.848070e+05  2.848070e+05  2.848070e+05  284807.000000   \n",
       "mean   5.340915e-16  1.683437e-15 -3.660091e-16 -1.227390e-16      88.349619   \n",
       "std    5.212781e-01  4.822270e-01  4.036325e-01  3.300833e-01     250.120109   \n",
       "min   -1.029540e+01 -2.604551e+00 -2.256568e+01 -1.543008e+01       0.000000   \n",
       "25%   -3.171451e-01 -3.269839e-01 -7.083953e-02 -5.295979e-02       5.600000   \n",
       "50%    1.659350e-02 -5.213911e-02  1.342146e-03  1.124383e-02      22.000000   \n",
       "75%    3.507156e-01  2.409522e-01  9.104512e-02  7.827995e-02      77.165000   \n",
       "max    7.519589e+00  3.517346e+00  3.161220e+01  3.384781e+01   25691.160000   \n",
       "\n",
       "               Class  \n",
       "count  284807.000000  \n",
       "mean        0.001727  \n",
       "std         0.041527  \n",
       "min         0.000000  \n",
       "25%         0.000000  \n",
       "50%         0.000000  \n",
       "75%         0.000000  \n",
       "max         1.000000  \n",
       "\n",
       "[8 rows x 31 columns]"
      ]
     },
     "execution_count": 3,
     "metadata": {},
     "output_type": "execute_result"
    }
   ],
   "source": [
    "credit_card.describe()"
   ]
  },
  {
   "cell_type": "markdown",
   "id": "32699429",
   "metadata": {
    "papermill": {
     "duration": 0.017143,
     "end_time": "2023-01-20T15:40:43.953332",
     "exception": false,
     "start_time": "2023-01-20T15:40:43.936189",
     "status": "completed"
    },
    "tags": []
   },
   "source": [
    "We can see that only Time and Amount have drastically different scales from the other variables. We'll have to scale them later."
   ]
  },
  {
   "cell_type": "markdown",
   "id": "ccb2873f",
   "metadata": {
    "papermill": {
     "duration": 0.018116,
     "end_time": "2023-01-20T15:40:43.989151",
     "exception": false,
     "start_time": "2023-01-20T15:40:43.971035",
     "status": "completed"
    },
    "tags": []
   },
   "source": [
    "# EDA"
   ]
  },
  {
   "cell_type": "markdown",
   "id": "aa94e440",
   "metadata": {
    "papermill": {
     "duration": 0.01786,
     "end_time": "2023-01-20T15:40:44.024919",
     "exception": false,
     "start_time": "2023-01-20T15:40:44.007059",
     "status": "completed"
    },
    "tags": []
   },
   "source": [
    "First, let's perform a simple EDA on our dataset."
   ]
  },
  {
   "cell_type": "markdown",
   "id": "ea63785a",
   "metadata": {
    "papermill": {
     "duration": 0.01718,
     "end_time": "2023-01-20T15:40:44.060551",
     "exception": false,
     "start_time": "2023-01-20T15:40:44.043371",
     "status": "completed"
    },
    "tags": []
   },
   "source": [
    "**Target Variable: Class**"
   ]
  },
  {
   "cell_type": "code",
   "execution_count": 4,
   "id": "d7d48054",
   "metadata": {
    "execution": {
     "iopub.execute_input": "2023-01-20T15:40:44.100221Z",
     "iopub.status.busy": "2023-01-20T15:40:44.098791Z",
     "iopub.status.idle": "2023-01-20T15:40:44.379763Z",
     "shell.execute_reply": "2023-01-20T15:40:44.377963Z"
    },
    "papermill": {
     "duration": 0.303012,
     "end_time": "2023-01-20T15:40:44.382654",
     "exception": false,
     "start_time": "2023-01-20T15:40:44.079642",
     "status": "completed"
    },
    "tags": []
   },
   "outputs": [
    {
     "data": {
      "text/plain": [
       "<AxesSubplot:xlabel='Class', ylabel='count'>"
      ]
     },
     "execution_count": 4,
     "metadata": {},
     "output_type": "execute_result"
    },
    {
     "data": {
      "image/png": "[encoded data removed]",
      "text/plain": [
       "<Figure size 432x288 with 1 Axes>"
      ]
     },
     "metadata": {},
     "output_type": "display_data"
    }
   ],
   "source": [
    "sns.countplot(x=credit_card[\"Class\"])"
   ]
  },
  {
   "cell_type": "code",
   "execution_count": 5,
   "id": "ffe0cf37",
   "metadata": {
    "execution": {
     "iopub.execute_input": "2023-01-20T15:40:44.420912Z",
     "iopub.status.busy": "2023-01-20T15:40:44.420442Z",
     "iopub.status.idle": "2023-01-20T15:40:44.434261Z",
     "shell.execute_reply": "2023-01-20T15:40:44.432854Z"
    },
    "papermill": {
     "duration": 0.036205,
     "end_time": "2023-01-20T15:40:44.436900",
     "exception": false,
     "start_time": "2023-01-20T15:40:44.400695",
     "status": "completed"
    },
    "tags": []
   },
   "outputs": [
    {
     "data": {
      "text/plain": [
       "0    284315\n",
       "1       492\n",
       "Name: Class, dtype: int64"
      ]
     },
     "execution_count": 5,
     "metadata": {},
     "output_type": "execute_result"
    }
   ],
   "source": [
    "credit_card[\"Class\"].value_counts()"
   ]
  },
  {
   "cell_type": "markdown",
   "id": "eae8227f",
   "metadata": {
    "papermill": {
     "duration": 0.017917,
     "end_time": "2023-01-20T15:40:44.472918",
     "exception": false,
     "start_time": "2023-01-20T15:40:44.455001",
     "status": "completed"
    },
    "tags": []
   },
   "source": [
    "We can see the extreme imbalance between the two classes of our target variable. This dataset is an accurate reflection of real-world dataset. Obviously, most credit card transactions are not going to be fraud."
   ]
  },
  {
   "cell_type": "markdown",
   "id": "40ff260d",
   "metadata": {
    "papermill": {
     "duration": 0.017447,
     "end_time": "2023-01-20T15:40:44.508362",
     "exception": false,
     "start_time": "2023-01-20T15:40:44.490915",
     "status": "completed"
    },
    "tags": []
   },
   "source": [
    "**Time and Amount**"
   ]
  },
  {
   "cell_type": "code",
   "execution_count": 6,
   "id": "992011c8",
   "metadata": {
    "execution": {
     "iopub.execute_input": "2023-01-20T15:40:44.549715Z",
     "iopub.status.busy": "2023-01-20T15:40:44.549282Z",
     "iopub.status.idle": "2023-01-20T15:40:45.016969Z",
     "shell.execute_reply": "2023-01-20T15:40:45.015604Z"
    },
    "papermill": {
     "duration": 0.491187,
     "end_time": "2023-01-20T15:40:45.019708",
     "exception": false,
     "start_time": "2023-01-20T15:40:44.528521",
     "status": "completed"
    },
    "tags": []
   },
   "outputs": [
    {
     "data": {
      "text/plain": [
       "<AxesSubplot:xlabel='Time', ylabel='Count'>"
      ]
     },
     "execution_count": 6,
     "metadata": {},
     "output_type": "execute_result"
    },
    {
     "data": {
      "image/png": "[encoded data removed]",
      "text/plain": [
       "<Figure size 432x288 with 1 Axes>"
      ]
     },
     "metadata": {},
     "output_type": "display_data"
    }
   ],
   "source": [
    "sns.histplot(data=credit_card, x=\"Time\")"
   ]
  },
  {
   "cell_type": "code",
   "execution_count": 7,
   "id": "53a47508",
   "metadata": {
    "execution": {
     "iopub.execute_input": "2023-01-20T15:40:45.058572Z",
     "iopub.status.busy": "2023-01-20T15:40:45.057994Z",
     "iopub.status.idle": "2023-01-20T15:40:46.281046Z",
     "shell.execute_reply": "2023-01-20T15:40:46.279584Z"
    },
    "papermill": {
     "duration": 1.245818,
     "end_time": "2023-01-20T15:40:46.283730",
     "exception": false,
     "start_time": "2023-01-20T15:40:45.037912",
     "status": "completed"
    },
    "tags": []
   },
   "outputs": [
    {
     "data": {
      "text/plain": [
       "<AxesSubplot:xlabel='Amount', ylabel='Count'>"
      ]
     },
     "execution_count": 7,
     "metadata": {},
     "output_type": "execute_result"
    },
    {
     "data": {
      "image/png": "[encoded data removed]",
      "text/plain": [
       "<Figure size 432x288 with 1 Axes>"
      ]
     },
     "metadata": {},
     "output_type": "display_data"
    }
   ],
   "source": [
    "sns.histplot(data=credit_card, x=\"Amount\", bins=500)"
   ]
  },
  {
   "cell_type": "markdown",
   "id": "f4d35448",
   "metadata": {
    "papermill": {
     "duration": 0.018149,
     "end_time": "2023-01-20T15:40:46.321867",
     "exception": false,
     "start_time": "2023-01-20T15:40:46.303718",
     "status": "completed"
    },
    "tags": []
   },
   "source": [
    "We can also see that variables Time and Amount have odd distributions. Amount is especially skewed, so it's important that we transform them later."
   ]
  },
  {
   "cell_type": "markdown",
   "id": "6022a7ee",
   "metadata": {
    "papermill": {
     "duration": 0.0185,
     "end_time": "2023-01-20T15:40:46.358683",
     "exception": false,
     "start_time": "2023-01-20T15:40:46.340183",
     "status": "completed"
    },
    "tags": []
   },
   "source": [
    "# Train Test Split"
   ]
  },
  {
   "cell_type": "markdown",
   "id": "caddaaf7",
   "metadata": {
    "papermill": {
     "duration": 0.018733,
     "end_time": "2023-01-20T15:40:46.397649",
     "exception": false,
     "start_time": "2023-01-20T15:40:46.378916",
     "status": "completed"
    },
    "tags": []
   },
   "source": [
    "But first, let's split the data into training and testing before we do anything else."
   ]
  },
  {
   "cell_type": "code",
   "execution_count": 8,
   "id": "a312a446",
   "metadata": {
    "execution": {
     "iopub.execute_input": "2023-01-20T15:40:46.437367Z",
     "iopub.status.busy": "2023-01-20T15:40:46.436666Z",
     "iopub.status.idle": "2023-01-20T15:40:46.687464Z",
     "shell.execute_reply": "2023-01-20T15:40:46.686184Z"
    },
    "papermill": {
     "duration": 0.273937,
     "end_time": "2023-01-20T15:40:46.690342",
     "exception": false,
     "start_time": "2023-01-20T15:40:46.416405",
     "status": "completed"
    },
    "tags": []
   },
   "outputs": [],
   "source": [
    "from sklearn.model_selection import train_test_split"
   ]
  },
  {
   "cell_type": "code",
   "execution_count": 9,
   "id": "9f7b8273",
   "metadata": {
    "execution": {
     "iopub.execute_input": "2023-01-20T15:40:46.730928Z",
     "iopub.status.busy": "2023-01-20T15:40:46.730360Z",
     "iopub.status.idle": "2023-01-20T15:40:46.765310Z",
     "shell.execute_reply": "2023-01-20T15:40:46.763965Z"
    },
    "papermill": {
     "duration": 0.058585,
     "end_time": "2023-01-20T15:40:46.768071",
     "exception": false,
     "start_time": "2023-01-20T15:40:46.709486",
     "status": "completed"
    },
    "tags": []
   },
   "outputs": [],
   "source": [
    "y = credit_card.Class\n",
    "X = credit_card.drop('Class', axis=1)"
   ]
  },
  {
   "cell_type": "code",
   "execution_count": 10,
   "id": "47b457b9",
   "metadata": {
    "execution": {
     "iopub.execute_input": "2023-01-20T15:40:46.807523Z",
     "iopub.status.busy": "2023-01-20T15:40:46.806389Z",
     "iopub.status.idle": "2023-01-20T15:40:47.077868Z",
     "shell.execute_reply": "2023-01-20T15:40:47.076633Z"
    },
    "papermill": {
     "duration": 0.294422,
     "end_time": "2023-01-20T15:40:47.080951",
     "exception": false,
     "start_time": "2023-01-20T15:40:46.786529",
     "status": "completed"
    },
    "tags": []
   },
   "outputs": [],
   "source": [
    "#split so that the proportions of imbalance remains the same in the training and testing\n",
    "X_train, X_test, y_train, y_test = train_test_split(X, y, test_size=0.33, random_state=42, stratify=y)"
   ]
  },
  {
   "cell_type": "markdown",
   "id": "c49f58ec",
   "metadata": {
    "papermill": {
     "duration": 0.018027,
     "end_time": "2023-01-20T15:40:47.117255",
     "exception": false,
     "start_time": "2023-01-20T15:40:47.099228",
     "status": "completed"
    },
    "tags": []
   },
   "source": [
    "We'll split the training and testing dataset such that the proportions of class 1 and class 0 are the same in both the training and testing dataset."
   ]
  },
  {
   "cell_type": "code",
   "execution_count": 11,
   "id": "9a03f76e",
   "metadata": {
    "execution": {
     "iopub.execute_input": "2023-01-20T15:40:47.156552Z",
     "iopub.status.busy": "2023-01-20T15:40:47.156102Z",
     "iopub.status.idle": "2023-01-20T15:40:47.167815Z",
     "shell.execute_reply": "2023-01-20T15:40:47.166339Z"
    },
    "papermill": {
     "duration": 0.034533,
     "end_time": "2023-01-20T15:40:47.170326",
     "exception": false,
     "start_time": "2023-01-20T15:40:47.135793",
     "status": "completed"
    },
    "tags": []
   },
   "outputs": [
    {
     "data": {
      "text/plain": [
       "0    0.998271\n",
       "1    0.001729\n",
       "Name: Class, dtype: float64"
      ]
     },
     "execution_count": 11,
     "metadata": {},
     "output_type": "execute_result"
    }
   ],
   "source": [
    "#training dataset proportion\n",
    "y_train.value_counts(normalize=True)"
   ]
  },
  {
   "cell_type": "code",
   "execution_count": 12,
   "id": "217feb96",
   "metadata": {
    "execution": {
     "iopub.execute_input": "2023-01-20T15:40:47.209786Z",
     "iopub.status.busy": "2023-01-20T15:40:47.208683Z",
     "iopub.status.idle": "2023-01-20T15:40:47.219301Z",
     "shell.execute_reply": "2023-01-20T15:40:47.218056Z"
    },
    "papermill": {
     "duration": 0.033485,
     "end_time": "2023-01-20T15:40:47.222296",
     "exception": false,
     "start_time": "2023-01-20T15:40:47.188811",
     "status": "completed"
    },
    "tags": []
   },
   "outputs": [
    {
     "data": {
      "text/plain": [
       "0    0.998276\n",
       "1    0.001724\n",
       "Name: Class, dtype: float64"
      ]
     },
     "execution_count": 12,
     "metadata": {},
     "output_type": "execute_result"
    }
   ],
   "source": [
    "#testing dataset proportion\n",
    "y_test.value_counts(normalize=True)"
   ]
  },
  {
   "cell_type": "markdown",
   "id": "0b693058",
   "metadata": {
    "papermill": {
     "duration": 0.018714,
     "end_time": "2023-01-20T15:40:47.259537",
     "exception": false,
     "start_time": "2023-01-20T15:40:47.240823",
     "status": "completed"
    },
    "tags": []
   },
   "source": [
    "# Data Preprocessing\n",
    "\n",
    "Next, we'll be scaling Time and Amount. We'll be using the PowerTransfomer to help us automatically scale and normalize the two variables"
   ]
  },
  {
   "cell_type": "code",
   "execution_count": 13,
   "id": "79bcb996",
   "metadata": {
    "execution": {
     "iopub.execute_input": "2023-01-20T15:40:47.300262Z",
     "iopub.status.busy": "2023-01-20T15:40:47.299806Z",
     "iopub.status.idle": "2023-01-20T15:40:47.305578Z",
     "shell.execute_reply": "2023-01-20T15:40:47.304242Z"
    },
    "papermill": {
     "duration": 0.029974,
     "end_time": "2023-01-20T15:40:47.308029",
     "exception": false,
     "start_time": "2023-01-20T15:40:47.278055",
     "status": "completed"
    },
    "tags": []
   },
   "outputs": [],
   "source": [
    "from sklearn.preprocessing import PowerTransformer"
   ]
  },
  {
   "cell_type": "code",
   "execution_count": 14,
   "id": "755da35b",
   "metadata": {
    "execution": {
     "iopub.execute_input": "2023-01-20T15:40:47.347892Z",
     "iopub.status.busy": "2023-01-20T15:40:47.347009Z",
     "iopub.status.idle": "2023-01-20T15:40:48.231926Z",
     "shell.execute_reply": "2023-01-20T15:40:48.230085Z"
    },
    "papermill": {
     "duration": 0.908241,
     "end_time": "2023-01-20T15:40:48.234887",
     "exception": false,
     "start_time": "2023-01-20T15:40:47.326646",
     "status": "completed"
    },
    "tags": []
   },
   "outputs": [
    {
     "data": {
      "text/plain": [
       "<AxesSubplot:xlabel='Amount_scaled', ylabel='Count'>"
      ]
     },
     "execution_count": 14,
     "metadata": {},
     "output_type": "execute_result"
    },
    {
     "data": {
      "image/png": "[encoded data removed]",
      "text/plain": [
       "<Figure size 432x288 with 1 Axes>"
      ]
     },
     "metadata": {},
     "output_type": "display_data"
    }
   ],
   "source": [
    "#instantiate power transformer\n",
    "pt_amount = PowerTransformer()\n",
    "\n",
    "#transform amount \n",
    "X_train['Amount_scaled'] = pt_amount.fit_transform(X_train['Amount'].values.reshape(-1,1))\n",
    "sns.histplot(data=X_train, x=\"Amount_scaled\", bins=100)"
   ]
  },
  {
   "cell_type": "code",
   "execution_count": 15,
   "id": "e41ef702",
   "metadata": {
    "execution": {
     "iopub.execute_input": "2023-01-20T15:40:48.280148Z",
     "iopub.status.busy": "2023-01-20T15:40:48.278908Z",
     "iopub.status.idle": "2023-01-20T15:40:49.221845Z",
     "shell.execute_reply": "2023-01-20T15:40:49.220807Z"
    },
    "papermill": {
     "duration": 0.969109,
     "end_time": "2023-01-20T15:40:49.224537",
     "exception": false,
     "start_time": "2023-01-20T15:40:48.255428",
     "status": "completed"
    },
    "tags": []
   },
   "outputs": [
    {
     "data": {
      "text/plain": [
       "<AxesSubplot:xlabel='Time_scaled', ylabel='Count'>"
      ]
     },
     "execution_count": 15,
     "metadata": {},
     "output_type": "execute_result"
    },
    {
     "data": {
      "image/png": "[encoded data removed]",
      "text/plain": [
       "<Figure size 432x288 with 1 Axes>"
      ]
     },
     "metadata": {},
     "output_type": "display_data"
    }
   ],
   "source": [
    "#instantiate power transformer\n",
    "pt_time = PowerTransformer()\n",
    "\n",
    "#transform time\n",
    "X_train['Time_scaled'] = pt_time.fit_transform(X_train['Time'].values.reshape(-1,1))\n",
    "sns.histplot(data=X_train, x=\"Time_scaled\", bins=100)"
   ]
  },
  {
   "cell_type": "code",
   "execution_count": 16,
   "id": "3e9685b2",
   "metadata": {
    "execution": {
     "iopub.execute_input": "2023-01-20T15:40:49.266896Z",
     "iopub.status.busy": "2023-01-20T15:40:49.266032Z",
     "iopub.status.idle": "2023-01-20T15:40:49.452181Z",
     "shell.execute_reply": "2023-01-20T15:40:49.450920Z"
    },
    "papermill": {
     "duration": 0.210788,
     "end_time": "2023-01-20T15:40:49.454767",
     "exception": false,
     "start_time": "2023-01-20T15:40:49.243979",
     "status": "completed"
    },
    "tags": []
   },
   "outputs": [
    {
     "data": {
      "text/html": [
       "<div>\n",
       "<style scoped>\n",
       "    .dataframe tbody tr th:only-of-type {\n",
       "        vertical-align: middle;\n",
       "    }\n",
       "\n",
       "    .dataframe tbody tr th {\n",
       "        vertical-align: top;\n",
       "    }\n",
       "\n",
       "    .dataframe thead th {\n",
       "        text-align: right;\n",
       "    }\n",
       "</style>\n",
       "<table border=\"1\" class=\"dataframe\">\n",
       "  <thead>\n",
       "    <tr style=\"text-align: right;\">\n",
       "      <th></th>\n",
       "      <th>V1</th>\n",
       "      <th>V2</th>\n",
       "      <th>V3</th>\n",
       "      <th>V4</th>\n",
       "      <th>V5</th>\n",
       "      <th>V6</th>\n",
       "      <th>V7</th>\n",
       "      <th>V8</th>\n",
       "      <th>V9</th>\n",
       "      <th>V10</th>\n",
       "      <th>...</th>\n",
       "      <th>V21</th>\n",
       "      <th>V22</th>\n",
       "      <th>V23</th>\n",
       "      <th>V24</th>\n",
       "      <th>V25</th>\n",
       "      <th>V26</th>\n",
       "      <th>V27</th>\n",
       "      <th>V28</th>\n",
       "      <th>Amount_scaled</th>\n",
       "      <th>Time_scaled</th>\n",
       "    </tr>\n",
       "  </thead>\n",
       "  <tbody>\n",
       "    <tr>\n",
       "      <th>198687</th>\n",
       "      <td>1.974025</td>\n",
       "      <td>-1.240696</td>\n",
       "      <td>-0.537317</td>\n",
       "      <td>-0.919764</td>\n",
       "      <td>-1.085459</td>\n",
       "      <td>-0.265272</td>\n",
       "      <td>-0.974899</td>\n",
       "      <td>0.039702</td>\n",
       "      <td>-0.140586</td>\n",
       "      <td>0.840128</td>\n",
       "      <td>...</td>\n",
       "      <td>0.038919</td>\n",
       "      <td>-0.085885</td>\n",
       "      <td>0.272160</td>\n",
       "      <td>-0.422904</td>\n",
       "      <td>-0.534651</td>\n",
       "      <td>-0.487102</td>\n",
       "      <td>-0.004465</td>\n",
       "      <td>-0.040389</td>\n",
       "      <td>0.840660</td>\n",
       "      <td>0.799759</td>\n",
       "    </tr>\n",
       "    <tr>\n",
       "      <th>129694</th>\n",
       "      <td>1.151280</td>\n",
       "      <td>-0.067410</td>\n",
       "      <td>1.274530</td>\n",
       "      <td>1.348017</td>\n",
       "      <td>-1.024868</td>\n",
       "      <td>-0.211370</td>\n",
       "      <td>-0.591920</td>\n",
       "      <td>0.118255</td>\n",
       "      <td>0.964253</td>\n",
       "      <td>-0.187955</td>\n",
       "      <td>...</td>\n",
       "      <td>-0.067541</td>\n",
       "      <td>-0.012958</td>\n",
       "      <td>0.001064</td>\n",
       "      <td>0.382891</td>\n",
       "      <td>0.398440</td>\n",
       "      <td>-0.407721</td>\n",
       "      <td>0.069214</td>\n",
       "      <td>0.037420</td>\n",
       "      <td>-0.429427</td>\n",
       "      <td>-0.262668</td>\n",
       "    </tr>\n",
       "    <tr>\n",
       "      <th>204218</th>\n",
       "      <td>2.076327</td>\n",
       "      <td>0.042540</td>\n",
       "      <td>-1.803333</td>\n",
       "      <td>0.385207</td>\n",
       "      <td>0.401630</td>\n",
       "      <td>-0.735175</td>\n",
       "      <td>0.072287</td>\n",
       "      <td>-0.120261</td>\n",
       "      <td>0.716797</td>\n",
       "      <td>-0.345200</td>\n",
       "      <td>...</td>\n",
       "      <td>-0.385648</td>\n",
       "      <td>-1.066798</td>\n",
       "      <td>0.342803</td>\n",
       "      <td>0.280876</td>\n",
       "      <td>-0.298808</td>\n",
       "      <td>0.191718</td>\n",
       "      <td>-0.068979</td>\n",
       "      <td>-0.035671</td>\n",
       "      <td>-1.271088</td>\n",
       "      <td>0.847982</td>\n",
       "    </tr>\n",
       "    <tr>\n",
       "      <th>134361</th>\n",
       "      <td>0.951966</td>\n",
       "      <td>-1.002169</td>\n",
       "      <td>0.649152</td>\n",
       "      <td>0.089675</td>\n",
       "      <td>-1.505037</td>\n",
       "      <td>-0.869371</td>\n",
       "      <td>-0.330709</td>\n",
       "      <td>-0.275044</td>\n",
       "      <td>-0.912232</td>\n",
       "      <td>0.619807</td>\n",
       "      <td>...</td>\n",
       "      <td>-0.035766</td>\n",
       "      <td>0.021394</td>\n",
       "      <td>-0.168223</td>\n",
       "      <td>0.784533</td>\n",
       "      <td>0.254052</td>\n",
       "      <td>0.615930</td>\n",
       "      <td>-0.031235</td>\n",
       "      <td>0.060012</td>\n",
       "      <td>1.291711</td>\n",
       "      <td>-0.229212</td>\n",
       "    </tr>\n",
       "    <tr>\n",
       "      <th>173252</th>\n",
       "      <td>-0.418134</td>\n",
       "      <td>-0.093914</td>\n",
       "      <td>0.306298</td>\n",
       "      <td>-2.548619</td>\n",
       "      <td>0.683397</td>\n",
       "      <td>-0.302791</td>\n",
       "      <td>0.554178</td>\n",
       "      <td>-0.103122</td>\n",
       "      <td>-0.808220</td>\n",
       "      <td>0.563669</td>\n",
       "      <td>...</td>\n",
       "      <td>-0.064795</td>\n",
       "      <td>-0.081516</td>\n",
       "      <td>0.115211</td>\n",
       "      <td>0.220057</td>\n",
       "      <td>-0.426465</td>\n",
       "      <td>-0.610719</td>\n",
       "      <td>0.093378</td>\n",
       "      <td>-0.027043</td>\n",
       "      <td>-0.718495</td>\n",
       "      <td>0.586599</td>\n",
       "    </tr>\n",
       "  </tbody>\n",
       "</table>\n",
       "<p>5 rows × 30 columns</p>\n",
       "</div>"
      ],
      "text/plain": [
       "              V1        V2        V3        V4        V5        V6        V7  \\\n",
       "198687  1.974025 -1.240696 -0.537317 -0.919764 -1.085459 -0.265272 -0.974899   \n",
       "129694  1.151280 -0.067410  1.274530  1.348017 -1.024868 -0.211370 -0.591920   \n",
       "204218  2.076327  0.042540 -1.803333  0.385207  0.401630 -0.735175  0.072287   \n",
       "134361  0.951966 -1.002169  0.649152  0.089675 -1.505037 -0.869371 -0.330709   \n",
       "173252 -0.418134 -0.093914  0.306298 -2.548619  0.683397 -0.302791  0.554178   \n",
       "\n",
       "              V8        V9       V10  ...       V21       V22       V23  \\\n",
       "198687  0.039702 -0.140586  0.840128  ...  0.038919 -0.085885  0.272160   \n",
       "129694  0.118255  0.964253 -0.187955  ... -0.067541 -0.012958  0.001064   \n",
       "204218 -0.120261  0.716797 -0.345200  ... -0.385648 -1.066798  0.342803   \n",
       "134361 -0.275044 -0.912232  0.619807  ... -0.035766  0.021394 -0.168223   \n",
       "173252 -0.103122 -0.808220  0.563669  ... -0.064795 -0.081516  0.115211   \n",
       "\n",
       "             V24       V25       V26       V27       V28  Amount_scaled  \\\n",
       "198687 -0.422904 -0.534651 -0.487102 -0.004465 -0.040389       0.840660   \n",
       "129694  0.382891  0.398440 -0.407721  0.069214  0.037420      -0.429427   \n",
       "204218  0.280876 -0.298808  0.191718 -0.068979 -0.035671      -1.271088   \n",
       "134361  0.784533  0.254052  0.615930 -0.031235  0.060012       1.291711   \n",
       "173252  0.220057 -0.426465 -0.610719  0.093378 -0.027043      -0.718495   \n",
       "\n",
       "        Time_scaled  \n",
       "198687     0.799759  \n",
       "129694    -0.262668  \n",
       "204218     0.847982  \n",
       "134361    -0.229212  \n",
       "173252     0.586599  \n",
       "\n",
       "[5 rows x 30 columns]"
      ]
     },
     "execution_count": 16,
     "metadata": {},
     "output_type": "execute_result"
    }
   ],
   "source": [
    "#drop origianl time and amount\n",
    "X_train = X_train.drop(['Time', 'Amount'], axis=1)\n",
    "X_train.head()"
   ]
  },
  {
   "cell_type": "markdown",
   "id": "3cee852a",
   "metadata": {
    "papermill": {
     "duration": 0.019547,
     "end_time": "2023-01-20T15:40:49.494632",
     "exception": false,
     "start_time": "2023-01-20T15:40:49.475085",
     "status": "completed"
    },
    "tags": []
   },
   "source": [
    "**Apply transformation to testing data**\n",
    "\n",
    "Perfect, then we apply the PowerTransformer to our testing dataset as well. (The reason we do this seperately is to prevent data leakage)"
   ]
  },
  {
   "cell_type": "code",
   "execution_count": 17,
   "id": "082ec9eb",
   "metadata": {
    "execution": {
     "iopub.execute_input": "2023-01-20T15:40:49.537265Z",
     "iopub.status.busy": "2023-01-20T15:40:49.536570Z",
     "iopub.status.idle": "2023-01-20T15:40:49.584951Z",
     "shell.execute_reply": "2023-01-20T15:40:49.583538Z"
    },
    "papermill": {
     "duration": 0.073179,
     "end_time": "2023-01-20T15:40:49.587737",
     "exception": false,
     "start_time": "2023-01-20T15:40:49.514558",
     "status": "completed"
    },
    "tags": []
   },
   "outputs": [],
   "source": [
    "#transform Amount and Time for testing data\n",
    "X_test['Amount_scaled'] = pt_amount.transform(X_test['Amount'].values.reshape(-1,1))\n",
    "X_test['Time_scaled'] = pt_time.transform(X_test['Time'].values.reshape(-1,1))\n",
    "\n",
    "X_test = X_test.drop(['Time', 'Amount'], axis=1)"
   ]
  },
  {
   "cell_type": "markdown",
   "id": "8761a0a5",
   "metadata": {
    "papermill": {
     "duration": 0.019607,
     "end_time": "2023-01-20T15:40:49.627501",
     "exception": false,
     "start_time": "2023-01-20T15:40:49.607894",
     "status": "completed"
    },
    "tags": []
   },
   "source": [
    "Perfect! Now that we've performed some basic data preprocessing, let's move on to experiment with different methods of dealing with imbalanced data."
   ]
  },
  {
   "cell_type": "markdown",
   "id": "e0b05c9f",
   "metadata": {
    "papermill": {
     "duration": 0.020629,
     "end_time": "2023-01-20T15:40:49.668950",
     "exception": false,
     "start_time": "2023-01-20T15:40:49.648321",
     "status": "completed"
    },
    "tags": []
   },
   "source": [
    "# Imbalanced Data\n",
    "\n",
    "Imbalanced datasets are a pain to deal with, but some models intrinsically perform better with imbalanced data than others. Typically tree-based and boosting algorithms perform better with imbalanced data. Boosting models are especially ideal as higher weight is given to the minority class at each iteration. We'll see how they perform.\n",
    "\n",
    "**Good for Imbalanced Dataset**\n",
    "- Decision Tree\n",
    "- Random Forest\n",
    "- Adaboost\n",
    "- Gradient Boosting\n",
    "\n",
    "**Bad for Imbalanced Dataset**\n",
    "- Logistics Regression\n",
    "- Support Vector Classifier\n",
    "- Naives Bayes"
   ]
  },
  {
   "cell_type": "code",
   "execution_count": 18,
   "id": "76ae836a",
   "metadata": {
    "execution": {
     "iopub.execute_input": "2023-01-20T15:40:49.711137Z",
     "iopub.status.busy": "2023-01-20T15:40:49.710652Z",
     "iopub.status.idle": "2023-01-20T15:40:49.970712Z",
     "shell.execute_reply": "2023-01-20T15:40:49.969363Z"
    },
    "papermill": {
     "duration": 0.285092,
     "end_time": "2023-01-20T15:40:49.974253",
     "exception": false,
     "start_time": "2023-01-20T15:40:49.689161",
     "status": "completed"
    },
    "tags": []
   },
   "outputs": [],
   "source": [
    "from sklearn.linear_model import LogisticRegression\n",
    "from sklearn.ensemble import RandomForestClassifier, AdaBoostClassifier, GradientBoostingClassifier\n",
    "from sklearn.metrics import accuracy_score,confusion_matrix, classification_report, roc_auc_score, roc_curve, auc, f1_score"
   ]
  },
  {
   "cell_type": "markdown",
   "id": "b58762e4",
   "metadata": {
    "papermill": {
     "duration": 0.01957,
     "end_time": "2023-01-20T15:40:50.013663",
     "exception": false,
     "start_time": "2023-01-20T15:40:49.994093",
     "status": "completed"
    },
    "tags": []
   },
   "source": [
    "Let's start by building a logistic regression model as our baseline model."
   ]
  },
  {
   "cell_type": "code",
   "execution_count": 19,
   "id": "32ed8f9a",
   "metadata": {
    "execution": {
     "iopub.execute_input": "2023-01-20T15:40:50.056397Z",
     "iopub.status.busy": "2023-01-20T15:40:50.055936Z",
     "iopub.status.idle": "2023-01-20T15:40:53.710434Z",
     "shell.execute_reply": "2023-01-20T15:40:53.709214Z"
    },
    "papermill": {
     "duration": 3.679417,
     "end_time": "2023-01-20T15:40:53.713375",
     "exception": false,
     "start_time": "2023-01-20T15:40:50.033958",
     "status": "completed"
    },
    "tags": []
   },
   "outputs": [
    {
     "name": "stdout",
     "output_type": "stream",
     "text": [
      "Logistics Regression Accuracy:  0.9991807377616053\n"
     ]
    },
    {
     "data": {
      "image/png": "[encoded data removed]",
      "text/plain": [
       "<Figure size 432x288 with 2 Axes>"
      ]
     },
     "metadata": {},
     "output_type": "display_data"
    }
   ],
   "source": [
    "#build logistics regression model\n",
    "log_reg = LogisticRegression()\n",
    "\n",
    "log_reg.fit(X_train, y_train)\n",
    "y_pred = log_reg.predict(X_test)\n",
    "\n",
    "log_reg_accuracy = accuracy_score(y_test, y_pred)\n",
    "print(\"Logistics Regression Accuracy: \", log_reg_accuracy)\n",
    "\n",
    "#create confusion matrix\n",
    "cm = confusion_matrix(y_test, y_pred)\n",
    "\n",
    "ax= plt.subplot()\n",
    "sns.heatmap(cm, annot=True, fmt='g', ax=ax);  #ftm='g' to disable scientific notation\n",
    "\n",
    "ax.set_xlabel('Predicted labels');ax.set_ylabel('True labels'); \n",
    "ax.set_title('Confusion Matrix'); \n",
    "ax.xaxis.set_ticklabels(['Not Fraud', 'Fraud']); ax.yaxis.set_ticklabels(['Not Fraud', 'Fraud']);"
   ]
  },
  {
   "cell_type": "markdown",
   "id": "8a426539",
   "metadata": {
    "papermill": {
     "duration": 0.020851,
     "end_time": "2023-01-20T15:40:53.754676",
     "exception": false,
     "start_time": "2023-01-20T15:40:53.733825",
     "status": "completed"
    },
    "tags": []
   },
   "source": [
    "If we were to look at accuracy as our evaluating metric, we can see that logistic regression performed extraordinarily well at 99.9%. But this is often the flaw with imbalanced dataset. Even if the classification model classifies everything as the majority class, the model would achieve high accuracy. So when dealing with imbalanced dataset, we have to look at other metrics. In most cases, we prefer to look at the F-1 score, which is the harmonic mean between precision and recall."
   ]
  },
  {
   "cell_type": "code",
   "execution_count": 20,
   "id": "e133436b",
   "metadata": {
    "execution": {
     "iopub.execute_input": "2023-01-20T15:40:53.796452Z",
     "iopub.status.busy": "2023-01-20T15:40:53.796043Z",
     "iopub.status.idle": "2023-01-20T15:40:53.944800Z",
     "shell.execute_reply": "2023-01-20T15:40:53.943481Z"
    },
    "papermill": {
     "duration": 0.173048,
     "end_time": "2023-01-20T15:40:53.947715",
     "exception": false,
     "start_time": "2023-01-20T15:40:53.774667",
     "status": "completed"
    },
    "tags": []
   },
   "outputs": [
    {
     "name": "stdout",
     "output_type": "stream",
     "text": [
      "              precision    recall  f1-score   support\n",
      "\n",
      "           0       1.00      1.00      1.00     93825\n",
      "           1       0.86      0.62      0.72       162\n",
      "\n",
      "    accuracy                           1.00     93987\n",
      "   macro avg       0.93      0.81      0.86     93987\n",
      "weighted avg       1.00      1.00      1.00     93987\n",
      "\n"
     ]
    }
   ],
   "source": [
    "#print classification report\n",
    "print(classification_report(y_test, y_pred))"
   ]
  },
  {
   "cell_type": "markdown",
   "id": "3bcb0023",
   "metadata": {
    "papermill": {
     "duration": 0.020036,
     "end_time": "2023-01-20T15:40:53.988617",
     "exception": false,
     "start_time": "2023-01-20T15:40:53.968581",
     "status": "completed"
    },
    "tags": []
   },
   "source": [
    "Based on the confusion matrix and classification report above, we can see that the logistics regression model achieved a precision of 0.86 and a recall of 0.62 for class 1. This means that while 86% of its fraud predictions were correct, it only captured 62% of the fraud transactions. In real-life, this recall may be too low. Our primary objective is to identify as much fraud transactions as possible."
   ]
  },
  {
   "cell_type": "markdown",
   "id": "480a10e8",
   "metadata": {
    "papermill": {
     "duration": 0.019877,
     "end_time": "2023-01-20T15:40:54.028659",
     "exception": false,
     "start_time": "2023-01-20T15:40:54.008782",
     "status": "completed"
    },
    "tags": []
   },
   "source": [
    "# Precision-Recall Tradeoff\n",
    "\n",
    "To identify more fraud transactions, what we could do is we could adjust the decision threshold for logistics regression. Eeach sample is assigned a probability (of it being fraud) by the logistic regression model. The decisive threshold is, by default, 0.5. We can lower that threshold so that more samples are predicted as fraud (therefore capable of capturing more actual frauds)."
   ]
  },
  {
   "cell_type": "code",
   "execution_count": 21,
   "id": "52d9943b",
   "metadata": {
    "execution": {
     "iopub.execute_input": "2023-01-20T15:40:54.070899Z",
     "iopub.status.busy": "2023-01-20T15:40:54.070454Z",
     "iopub.status.idle": "2023-01-20T15:40:54.430648Z",
     "shell.execute_reply": "2023-01-20T15:40:54.429359Z"
    },
    "papermill": {
     "duration": 0.384843,
     "end_time": "2023-01-20T15:40:54.433706",
     "exception": false,
     "start_time": "2023-01-20T15:40:54.048863",
     "status": "completed"
    },
    "tags": []
   },
   "outputs": [
    {
     "data": {
      "image/png": "[encoded data removed]",
      "text/plain": [
       "<Figure size 432x288 with 2 Axes>"
      ]
     },
     "metadata": {},
     "output_type": "display_data"
    }
   ],
   "source": [
    "#change threshold to 0.2\n",
    "y_pred_new = (log_reg.predict_proba(X_test)[:,1]>=0.2).astype(int)\n",
    "\n",
    "#build confusion matrix\n",
    "cm = confusion_matrix(y_test, y_pred_new)\n",
    "\n",
    "ax= plt.subplot()\n",
    "sns.heatmap(cm, annot=True, fmt='g', ax=ax); \n",
    "\n",
    "ax.set_xlabel('Predicted labels');ax.set_ylabel('True labels'); \n",
    "ax.set_title('Confusion Matrix'); \n",
    "ax.xaxis.set_ticklabels(['Not Fraud', 'Fraud']); ax.yaxis.set_ticklabels(['Not Fraud', 'Fraud']);"
   ]
  },
  {
   "cell_type": "code",
   "execution_count": 22,
   "id": "651089b8",
   "metadata": {
    "execution": {
     "iopub.execute_input": "2023-01-20T15:40:54.477733Z",
     "iopub.status.busy": "2023-01-20T15:40:54.477313Z",
     "iopub.status.idle": "2023-01-20T15:40:54.628851Z",
     "shell.execute_reply": "2023-01-20T15:40:54.627085Z"
    },
    "papermill": {
     "duration": 0.176425,
     "end_time": "2023-01-20T15:40:54.631528",
     "exception": false,
     "start_time": "2023-01-20T15:40:54.455103",
     "status": "completed"
    },
    "tags": []
   },
   "outputs": [
    {
     "name": "stdout",
     "output_type": "stream",
     "text": [
      "              precision    recall  f1-score   support\n",
      "\n",
      "           0       1.00      1.00      1.00     93825\n",
      "           1       0.79      0.71      0.75       162\n",
      "\n",
      "    accuracy                           1.00     93987\n",
      "   macro avg       0.89      0.85      0.87     93987\n",
      "weighted avg       1.00      1.00      1.00     93987\n",
      "\n"
     ]
    }
   ],
   "source": [
    "print(classification_report(y_test, y_pred_new))"
   ]
  },
  {
   "cell_type": "markdown",
   "id": "33198a48",
   "metadata": {
    "papermill": {
     "duration": 0.021025,
     "end_time": "2023-01-20T15:40:54.673342",
     "exception": false,
     "start_time": "2023-01-20T15:40:54.652317",
     "status": "completed"
    },
    "tags": []
   },
   "source": [
    "As we can see above, by lowering the decision threshold to 0.2, we were able to increase our recall from 0.62 to 0.71, meaning we were able to capture an additional 9% of fraud transactions. This achievement, however, does not come without a cost. As we tried to predict more transactions as fraud, we also misclassified more non-fraud transactions as fraud, decreasing the precision (0.86 -> 0.79). Thus, we can observe a trade-off relationship between precision and recall.\n",
    "\n",
    "We don't want either one of the value (precision and recall) to be too low, so we must strive for a balance between the two. Thankfully, that is exactly what F-1 score is designed to do. The F-1 score is the harmonic mean between recall and precision. So from now on, we will use F1-score as our main evaluation metric.\n",
    "\n",
    "In the example of logistic regression, the F-1 score for a threshold=0.2 is greater than that of the default threshold (0.5). Therefore, if we were to use logistic regression as our model, it will be better to set the threshold around 0.2."
   ]
  },
  {
   "cell_type": "markdown",
   "id": "23ca6390",
   "metadata": {
    "papermill": {
     "duration": 0.020184,
     "end_time": "2023-01-20T15:40:54.714349",
     "exception": false,
     "start_time": "2023-01-20T15:40:54.694165",
     "status": "completed"
    },
    "tags": []
   },
   "source": [
    "# RandomForest\n",
    "\n",
    "Next, let's try using a model that is intrinisically better at dealing with imbalanced datasets. We'll start with RandomForest."
   ]
  },
  {
   "cell_type": "code",
   "execution_count": 23,
   "id": "e512b915",
   "metadata": {
    "execution": {
     "iopub.execute_input": "2023-01-20T15:40:54.759016Z",
     "iopub.status.busy": "2023-01-20T15:40:54.757640Z",
     "iopub.status.idle": "2023-01-20T15:44:38.758008Z",
     "shell.execute_reply": "2023-01-20T15:44:38.756676Z"
    },
    "papermill": {
     "duration": 224.047016,
     "end_time": "2023-01-20T15:44:38.781985",
     "exception": false,
     "start_time": "2023-01-20T15:40:54.734969",
     "status": "completed"
    },
    "tags": []
   },
   "outputs": [
    {
     "data": {
      "image/png": "[encoded data removed]",
      "text/plain": [
       "<Figure size 432x288 with 2 Axes>"
      ]
     },
     "metadata": {},
     "output_type": "display_data"
    }
   ],
   "source": [
    "#build randomforest model\n",
    "rfm = RandomForestClassifier(random_state=42)\n",
    "\n",
    "rfm.fit(X_train, y_train)\n",
    "rfm_pred = rfm.predict(X_test)\n",
    "\n",
    "#build confusion matrix\n",
    "rfm_cm = confusion_matrix(y_test, rfm_pred)\n",
    "\n",
    "ax= plt.subplot()\n",
    "sns.heatmap(rfm_cm, annot=True, fmt='g', ax=ax);\n",
    "\n",
    "ax.set_xlabel('Predicted labels');ax.set_ylabel('True labels'); \n",
    "ax.set_title('Confusion Matrix'); \n",
    "ax.xaxis.set_ticklabels(['Not Fraud', 'Fraud']); ax.yaxis.set_ticklabels(['Not Fraud', 'Fraud']);"
   ]
  },
  {
   "cell_type": "code",
   "execution_count": 24,
   "id": "7f61927f",
   "metadata": {
    "execution": {
     "iopub.execute_input": "2023-01-20T15:44:38.825958Z",
     "iopub.status.busy": "2023-01-20T15:44:38.825548Z",
     "iopub.status.idle": "2023-01-20T15:44:38.970933Z",
     "shell.execute_reply": "2023-01-20T15:44:38.969472Z"
    },
    "papermill": {
     "duration": 0.170149,
     "end_time": "2023-01-20T15:44:38.973413",
     "exception": false,
     "start_time": "2023-01-20T15:44:38.803264",
     "status": "completed"
    },
    "tags": []
   },
   "outputs": [
    {
     "name": "stdout",
     "output_type": "stream",
     "text": [
      "              precision    recall  f1-score   support\n",
      "\n",
      "           0       1.00      1.00      1.00     93825\n",
      "           1       0.95      0.78      0.86       162\n",
      "\n",
      "    accuracy                           1.00     93987\n",
      "   macro avg       0.98      0.89      0.93     93987\n",
      "weighted avg       1.00      1.00      1.00     93987\n",
      "\n"
     ]
    }
   ],
   "source": [
    "print(classification_report(y_test, rfm_pred))"
   ]
  },
  {
   "cell_type": "markdown",
   "id": "6b024dc1",
   "metadata": {
    "papermill": {
     "duration": 0.020667,
     "end_time": "2023-01-20T15:44:39.014934",
     "exception": false,
     "start_time": "2023-01-20T15:44:38.994267",
     "status": "completed"
    },
    "tags": []
   },
   "source": [
    "Wow! We can see that RandomForest performed much better than logistics regression! The F-1 score is much higher. Also note that this model is being built without any tuning and addresses to the imbalanced target variable yet."
   ]
  },
  {
   "cell_type": "markdown",
   "id": "d948086c",
   "metadata": {
    "papermill": {
     "duration": 0.020402,
     "end_time": "2023-01-20T15:44:39.056195",
     "exception": false,
     "start_time": "2023-01-20T15:44:39.035793",
     "status": "completed"
    },
    "tags": []
   },
   "source": [
    "# Adaboost\n",
    "\n",
    "Next, let's try adaboost."
   ]
  },
  {
   "cell_type": "code",
   "execution_count": 25,
   "id": "4ba31f8e",
   "metadata": {
    "execution": {
     "iopub.execute_input": "2023-01-20T15:44:39.099696Z",
     "iopub.status.busy": "2023-01-20T15:44:39.099257Z",
     "iopub.status.idle": "2023-01-20T15:45:43.042412Z",
     "shell.execute_reply": "2023-01-20T15:45:43.040898Z"
    },
    "papermill": {
     "duration": 63.990512,
     "end_time": "2023-01-20T15:45:43.067426",
     "exception": false,
     "start_time": "2023-01-20T15:44:39.076914",
     "status": "completed"
    },
    "tags": []
   },
   "outputs": [
    {
     "data": {
      "image/png": "[encoded data removed]",
      "text/plain": [
       "<Figure size 432x288 with 2 Axes>"
      ]
     },
     "metadata": {},
     "output_type": "display_data"
    }
   ],
   "source": [
    "#build adaboost classifier\n",
    "ada = AdaBoostClassifier(random_state=42)\n",
    "\n",
    "ada.fit(X_train, y_train)\n",
    "ada_pred = ada.predict(X_test)\n",
    "\n",
    "#build confusion matrix\n",
    "ada_cm = confusion_matrix(y_test, ada_pred)\n",
    "\n",
    "ax= plt.subplot()\n",
    "sns.heatmap(ada_cm, annot=True, fmt='g', ax=ax);\n",
    "\n",
    "ax.set_xlabel('Predicted labels');ax.set_ylabel('True labels'); \n",
    "ax.set_title('Confusion Matrix'); \n",
    "ax.xaxis.set_ticklabels(['Not Fraud', 'Fraud']); ax.yaxis.set_ticklabels(['Not Fraud', 'Fraud']);"
   ]
  },
  {
   "cell_type": "code",
   "execution_count": 26,
   "id": "5554bbc8",
   "metadata": {
    "execution": {
     "iopub.execute_input": "2023-01-20T15:45:43.112246Z",
     "iopub.status.busy": "2023-01-20T15:45:43.111778Z",
     "iopub.status.idle": "2023-01-20T15:45:43.261942Z",
     "shell.execute_reply": "2023-01-20T15:45:43.260506Z"
    },
    "papermill": {
     "duration": 0.176287,
     "end_time": "2023-01-20T15:45:43.264802",
     "exception": false,
     "start_time": "2023-01-20T15:45:43.088515",
     "status": "completed"
    },
    "tags": []
   },
   "outputs": [
    {
     "name": "stdout",
     "output_type": "stream",
     "text": [
      "              precision    recall  f1-score   support\n",
      "\n",
      "           0       1.00      1.00      1.00     93825\n",
      "           1       0.77      0.70      0.73       162\n",
      "\n",
      "    accuracy                           1.00     93987\n",
      "   macro avg       0.88      0.85      0.87     93987\n",
      "weighted avg       1.00      1.00      1.00     93987\n",
      "\n"
     ]
    }
   ],
   "source": [
    "print(classification_report(y_test, ada_pred))"
   ]
  },
  {
   "cell_type": "markdown",
   "id": "963ba1cc",
   "metadata": {
    "papermill": {
     "duration": 0.020851,
     "end_time": "2023-01-20T15:45:43.307077",
     "exception": false,
     "start_time": "2023-01-20T15:45:43.286226",
     "status": "completed"
    },
    "tags": []
   },
   "source": [
    "Turns out Adaboost didn't perform very well in this particular case. We probably could improve the model's performance by tuning and playing around with the parameters, but RandomForest seems to be the better choice here."
   ]
  },
  {
   "cell_type": "markdown",
   "id": "ddd08f87",
   "metadata": {
    "papermill": {
     "duration": 0.02144,
     "end_time": "2023-01-20T15:45:43.349964",
     "exception": false,
     "start_time": "2023-01-20T15:45:43.328524",
     "status": "completed"
    },
    "tags": []
   },
   "source": [
    "# Gradient Boosting"
   ]
  },
  {
   "cell_type": "code",
   "execution_count": 27,
   "id": "3ab67e5d",
   "metadata": {
    "execution": {
     "iopub.execute_input": "2023-01-20T15:45:43.395620Z",
     "iopub.status.busy": "2023-01-20T15:45:43.395108Z",
     "iopub.status.idle": "2023-01-20T15:50:45.974049Z",
     "shell.execute_reply": "2023-01-20T15:50:45.972495Z"
    },
    "papermill": {
     "duration": 302.627887,
     "end_time": "2023-01-20T15:50:45.999475",
     "exception": false,
     "start_time": "2023-01-20T15:45:43.371588",
     "status": "completed"
    },
    "tags": []
   },
   "outputs": [
    {
     "data": {
      "image/png": "[encoded data removed]",
      "text/plain": [
       "<Figure size 432x288 with 2 Axes>"
      ]
     },
     "metadata": {},
     "output_type": "display_data"
    }
   ],
   "source": [
    "#build gradient boosting\n",
    "gb = GradientBoostingClassifier(random_state=42)\n",
    "\n",
    "gb.fit(X_train, y_train)\n",
    "gb_pred = gb.predict(X_test)\n",
    "\n",
    "#build confusion matrix\n",
    "gb_cm = confusion_matrix(y_test, gb_pred)\n",
    "\n",
    "ax= plt.subplot()\n",
    "sns.heatmap(gb_cm, annot=True, fmt='g', ax=ax);\n",
    "\n",
    "ax.set_xlabel('Predicted labels');ax.set_ylabel('True labels'); \n",
    "ax.set_title('Confusion Matrix'); \n",
    "ax.xaxis.set_ticklabels(['Not Fraud', 'Fraud']); ax.yaxis.set_ticklabels(['Not Fraud', 'Fraud']);"
   ]
  },
  {
   "cell_type": "code",
   "execution_count": 28,
   "id": "e7917463",
   "metadata": {
    "execution": {
     "iopub.execute_input": "2023-01-20T15:50:46.046724Z",
     "iopub.status.busy": "2023-01-20T15:50:46.046318Z",
     "iopub.status.idle": "2023-01-20T15:50:46.199011Z",
     "shell.execute_reply": "2023-01-20T15:50:46.197176Z"
    },
    "papermill": {
     "duration": 0.178825,
     "end_time": "2023-01-20T15:50:46.201769",
     "exception": false,
     "start_time": "2023-01-20T15:50:46.022944",
     "status": "completed"
    },
    "tags": []
   },
   "outputs": [
    {
     "name": "stdout",
     "output_type": "stream",
     "text": [
      "              precision    recall  f1-score   support\n",
      "\n",
      "           0       1.00      1.00      1.00     93825\n",
      "           1       0.74      0.16      0.26       162\n",
      "\n",
      "    accuracy                           1.00     93987\n",
      "   macro avg       0.87      0.58      0.63     93987\n",
      "weighted avg       1.00      1.00      1.00     93987\n",
      "\n"
     ]
    }
   ],
   "source": [
    "print(classification_report(y_test, gb_pred))"
   ]
  },
  {
   "cell_type": "markdown",
   "id": "268a2656",
   "metadata": {
    "papermill": {
     "duration": 0.022283,
     "end_time": "2023-01-20T15:50:46.246022",
     "exception": false,
     "start_time": "2023-01-20T15:50:46.223739",
     "status": "completed"
    },
    "tags": []
   },
   "source": [
    "Wow! GradientBoosting actually performed horribly! We can see that the F-1 score is super low. It almost feels like it's not predicting any fraud transactions at all. Let's just resort to using RandomForest."
   ]
  },
  {
   "cell_type": "markdown",
   "id": "8327f3f1",
   "metadata": {
    "papermill": {
     "duration": 0.021969,
     "end_time": "2023-01-20T15:50:46.291446",
     "exception": false,
     "start_time": "2023-01-20T15:50:46.269477",
     "status": "completed"
    },
    "tags": []
   },
   "source": [
    "# Oversampling, Undersampling, SMOTE\n",
    "\n",
    "Now, let's move on to dealing with imbalanced data. The three most popular ways to treat imbalanced data is oversampling, undersampling and SMOTE. We will demonstrate and try all three to compare which method works out the best in this scenario."
   ]
  },
  {
   "cell_type": "markdown",
   "id": "814e94c0",
   "metadata": {
    "papermill": {
     "duration": 0.021403,
     "end_time": "2023-01-20T15:50:46.334660",
     "exception": false,
     "start_time": "2023-01-20T15:50:46.313257",
     "status": "completed"
    },
    "tags": []
   },
   "source": [
    "> When we resample our data, remember it's important that you only resample the training data and not the testing data. Build your model using the resampled data and then test it with the untouched testing data."
   ]
  },
  {
   "cell_type": "code",
   "execution_count": 29,
   "id": "6aa0b0b4",
   "metadata": {
    "execution": {
     "iopub.execute_input": "2023-01-20T15:50:46.381073Z",
     "iopub.status.busy": "2023-01-20T15:50:46.379806Z",
     "iopub.status.idle": "2023-01-20T15:50:46.386374Z",
     "shell.execute_reply": "2023-01-20T15:50:46.384946Z"
    },
    "papermill": {
     "duration": 0.032521,
     "end_time": "2023-01-20T15:50:46.388882",
     "exception": false,
     "start_time": "2023-01-20T15:50:46.356361",
     "status": "completed"
    },
    "tags": []
   },
   "outputs": [],
   "source": [
    "from sklearn.utils import resample"
   ]
  },
  {
   "cell_type": "code",
   "execution_count": 30,
   "id": "276db38c",
   "metadata": {
    "execution": {
     "iopub.execute_input": "2023-01-20T15:50:46.435761Z",
     "iopub.status.busy": "2023-01-20T15:50:46.434831Z",
     "iopub.status.idle": "2023-01-20T15:50:46.445465Z",
     "shell.execute_reply": "2023-01-20T15:50:46.444253Z"
    },
    "papermill": {
     "duration": 0.036863,
     "end_time": "2023-01-20T15:50:46.448351",
     "exception": false,
     "start_time": "2023-01-20T15:50:46.411488",
     "status": "completed"
    },
    "tags": []
   },
   "outputs": [
    {
     "data": {
      "text/plain": [
       "0    190490\n",
       "1       330\n",
       "Name: Class, dtype: int64"
      ]
     },
     "execution_count": 30,
     "metadata": {},
     "output_type": "execute_result"
    }
   ],
   "source": [
    "#double check the counts of 0 and 1s\n",
    "y_train.value_counts()"
   ]
  },
  {
   "cell_type": "code",
   "execution_count": 31,
   "id": "eccfc729",
   "metadata": {
    "execution": {
     "iopub.execute_input": "2023-01-20T15:50:46.497134Z",
     "iopub.status.busy": "2023-01-20T15:50:46.496317Z",
     "iopub.status.idle": "2023-01-20T15:50:46.597462Z",
     "shell.execute_reply": "2023-01-20T15:50:46.596111Z"
    },
    "papermill": {
     "duration": 0.128989,
     "end_time": "2023-01-20T15:50:46.600566",
     "exception": false,
     "start_time": "2023-01-20T15:50:46.471577",
     "status": "completed"
    },
    "tags": []
   },
   "outputs": [],
   "source": [
    "# concatenate our training data back together\n",
    "X_concat = pd.concat([X_train, y_train], axis=1)\n",
    "\n",
    "# separate minority and majority classes\n",
    "not_fraud = X_concat[X_concat.Class==0]\n",
    "fraud = X_concat[X_concat.Class==1]"
   ]
  },
  {
   "cell_type": "markdown",
   "id": "123b9fbb",
   "metadata": {
    "papermill": {
     "duration": 0.023205,
     "end_time": "2023-01-20T15:50:46.647104",
     "exception": false,
     "start_time": "2023-01-20T15:50:46.623899",
     "status": "completed"
    },
    "tags": []
   },
   "source": [
    "**Oversampling**"
   ]
  },
  {
   "cell_type": "code",
   "execution_count": 32,
   "id": "27fe8d7a",
   "metadata": {
    "execution": {
     "iopub.execute_input": "2023-01-20T15:50:46.695862Z",
     "iopub.status.busy": "2023-01-20T15:50:46.695384Z",
     "iopub.status.idle": "2023-01-20T15:50:46.909805Z",
     "shell.execute_reply": "2023-01-20T15:50:46.908536Z"
    },
    "papermill": {
     "duration": 0.241909,
     "end_time": "2023-01-20T15:50:46.912517",
     "exception": false,
     "start_time": "2023-01-20T15:50:46.670608",
     "status": "completed"
    },
    "tags": []
   },
   "outputs": [
    {
     "data": {
      "text/plain": [
       "0    190490\n",
       "1    190490\n",
       "Name: Class, dtype: int64"
      ]
     },
     "execution_count": 32,
     "metadata": {},
     "output_type": "execute_result"
    }
   ],
   "source": [
    "# oversample fraud transaction (minority)\n",
    "fraud_oversampled = resample(fraud, replace=True, n_samples=len(not_fraud), random_state=42) # with replacement\n",
    "\n",
    "# combine majority and oversampled minority\n",
    "oversampled = pd.concat([not_fraud, fraud_oversampled])\n",
    "\n",
    "#split X and y\n",
    "y_train_oversampled = oversampled.Class\n",
    "X_train_oversampled = oversampled.drop('Class', axis=1)\n",
    "\n",
    "# check new class counts\n",
    "oversampled.Class.value_counts()"
   ]
  },
  {
   "cell_type": "markdown",
   "id": "9532c733",
   "metadata": {
    "papermill": {
     "duration": 0.022113,
     "end_time": "2023-01-20T15:50:46.957595",
     "exception": false,
     "start_time": "2023-01-20T15:50:46.935482",
     "status": "completed"
    },
    "tags": []
   },
   "source": [
    "**Undersampling**"
   ]
  },
  {
   "cell_type": "code",
   "execution_count": 33,
   "id": "c2bce902",
   "metadata": {
    "execution": {
     "iopub.execute_input": "2023-01-20T15:50:47.005050Z",
     "iopub.status.busy": "2023-01-20T15:50:47.004625Z",
     "iopub.status.idle": "2023-01-20T15:50:47.023590Z",
     "shell.execute_reply": "2023-01-20T15:50:47.022691Z"
    },
    "papermill": {
     "duration": 0.046032,
     "end_time": "2023-01-20T15:50:47.026081",
     "exception": false,
     "start_time": "2023-01-20T15:50:46.980049",
     "status": "completed"
    },
    "tags": []
   },
   "outputs": [
    {
     "data": {
      "text/plain": [
       "0    330\n",
       "1    330\n",
       "Name: Class, dtype: int64"
      ]
     },
     "execution_count": 33,
     "metadata": {},
     "output_type": "execute_result"
    }
   ],
   "source": [
    "# undersample not fraud (majority)\n",
    "not_fraud_undersampled = resample(not_fraud, replace=False, n_samples=len(fraud), random_state=42) #without replacement\n",
    "\n",
    "# combine undersampled majority and minority\n",
    "undersampled = pd.concat([not_fraud_undersampled, fraud])\n",
    "\n",
    "#split X and y\n",
    "y_train_undersampled = undersampled.Class\n",
    "X_train_undersampled = undersampled.drop('Class', axis=1)\n",
    "\n",
    "# check new class counts\n",
    "undersampled.Class.value_counts()"
   ]
  },
  {
   "cell_type": "markdown",
   "id": "5aeeb77f",
   "metadata": {
    "papermill": {
     "duration": 0.021712,
     "end_time": "2023-01-20T15:50:47.070740",
     "exception": false,
     "start_time": "2023-01-20T15:50:47.049028",
     "status": "completed"
    },
    "tags": []
   },
   "source": [
    "**SMOTE**"
   ]
  },
  {
   "cell_type": "code",
   "execution_count": 34,
   "id": "acbdd5b5",
   "metadata": {
    "execution": {
     "iopub.execute_input": "2023-01-20T15:50:47.117659Z",
     "iopub.status.busy": "2023-01-20T15:50:47.116638Z",
     "iopub.status.idle": "2023-01-20T15:50:47.891748Z",
     "shell.execute_reply": "2023-01-20T15:50:47.890477Z"
    },
    "papermill": {
     "duration": 0.801505,
     "end_time": "2023-01-20T15:50:47.894684",
     "exception": false,
     "start_time": "2023-01-20T15:50:47.093179",
     "status": "completed"
    },
    "tags": []
   },
   "outputs": [
    {
     "data": {
      "text/plain": [
       "0    190490\n",
       "1    190490\n",
       "Name: Class, dtype: int64"
      ]
     },
     "execution_count": 34,
     "metadata": {},
     "output_type": "execute_result"
    }
   ],
   "source": [
    "from imblearn.over_sampling import SMOTE\n",
    "\n",
    "sm = SMOTE(random_state=42)\n",
    "\n",
    "X_train_sm, y_train_sm = sm.fit_resample(X_train, y_train)\n",
    "\n",
    "y_train_sm.value_counts()"
   ]
  },
  {
   "cell_type": "markdown",
   "id": "45f4ae44",
   "metadata": {
    "papermill": {
     "duration": 0.021981,
     "end_time": "2023-01-20T15:50:47.939186",
     "exception": false,
     "start_time": "2023-01-20T15:50:47.917205",
     "status": "completed"
    },
    "tags": []
   },
   "source": [
    "# Oversampling\n",
    "\n",
    "Now that we have equalized the imbalanced ratio of our target variable, we'll try RandomForest again to see if we can observe an improvement."
   ]
  },
  {
   "cell_type": "code",
   "execution_count": 35,
   "id": "c76ab1fb",
   "metadata": {
    "execution": {
     "iopub.execute_input": "2023-01-20T15:50:47.987296Z",
     "iopub.status.busy": "2023-01-20T15:50:47.986110Z",
     "iopub.status.idle": "2023-01-20T15:54:34.946949Z",
     "shell.execute_reply": "2023-01-20T15:54:34.945621Z"
    },
    "papermill": {
     "duration": 227.01135,
     "end_time": "2023-01-20T15:54:34.972896",
     "exception": false,
     "start_time": "2023-01-20T15:50:47.961546",
     "status": "completed"
    },
    "tags": []
   },
   "outputs": [
    {
     "data": {
      "image/png": "[encoded data removed]",
      "text/plain": [
       "<Figure size 432x288 with 2 Axes>"
      ]
     },
     "metadata": {},
     "output_type": "display_data"
    }
   ],
   "source": [
    "#RFM with oversampled data\n",
    "rfm_OS = RandomForestClassifier(random_state=42)\n",
    "\n",
    "rfm_OS.fit(X_train_oversampled, y_train_oversampled)\n",
    "rfm_OS_pred = rfm_OS.predict(X_test)\n",
    "\n",
    "#build confusion matrix\n",
    "rfm_OS_cm = confusion_matrix(y_test, rfm_OS_pred)\n",
    "\n",
    "ax= plt.subplot()\n",
    "sns.heatmap(rfm_OS_cm, annot=True, fmt='g', ax=ax); \n",
    "\n",
    "ax.set_xlabel('Predicted labels');ax.set_ylabel('True labels'); \n",
    "ax.set_title('Confusion Matrix'); \n",
    "ax.xaxis.set_ticklabels(['Not Fraud', 'Fraud']); ax.yaxis.set_ticklabels(['Not Fraud', 'Fraud']);"
   ]
  },
  {
   "cell_type": "code",
   "execution_count": 36,
   "id": "ef0148f3",
   "metadata": {
    "execution": {
     "iopub.execute_input": "2023-01-20T15:54:35.020850Z",
     "iopub.status.busy": "2023-01-20T15:54:35.020393Z",
     "iopub.status.idle": "2023-01-20T15:54:35.172313Z",
     "shell.execute_reply": "2023-01-20T15:54:35.170958Z"
    },
    "papermill": {
     "duration": 0.179336,
     "end_time": "2023-01-20T15:54:35.175330",
     "exception": false,
     "start_time": "2023-01-20T15:54:34.995994",
     "status": "completed"
    },
    "tags": []
   },
   "outputs": [
    {
     "name": "stdout",
     "output_type": "stream",
     "text": [
      "              precision    recall  f1-score   support\n",
      "\n",
      "           0       1.00      1.00      1.00     93825\n",
      "           1       0.97      0.73      0.84       162\n",
      "\n",
      "    accuracy                           1.00     93987\n",
      "   macro avg       0.98      0.87      0.92     93987\n",
      "weighted avg       1.00      1.00      1.00     93987\n",
      "\n"
     ]
    }
   ],
   "source": [
    "print(classification_report(y_test, rfm_OS_pred))"
   ]
  },
  {
   "cell_type": "markdown",
   "id": "1890f929",
   "metadata": {
    "papermill": {
     "duration": 0.02291,
     "end_time": "2023-01-20T15:54:35.221825",
     "exception": false,
     "start_time": "2023-01-20T15:54:35.198915",
     "status": "completed"
    },
    "tags": []
   },
   "source": [
    "Based on F-1 score, training RF on an oversampled data does not exceed the performance of the initial RF model. "
   ]
  },
  {
   "cell_type": "markdown",
   "id": "a42573f3",
   "metadata": {
    "papermill": {
     "duration": 0.023864,
     "end_time": "2023-01-20T15:54:35.269075",
     "exception": false,
     "start_time": "2023-01-20T15:54:35.245211",
     "status": "completed"
    },
    "tags": []
   },
   "source": [
    "# Undersampling"
   ]
  },
  {
   "cell_type": "code",
   "execution_count": 37,
   "id": "db8e5a3c",
   "metadata": {
    "execution": {
     "iopub.execute_input": "2023-01-20T15:54:35.317088Z",
     "iopub.status.busy": "2023-01-20T15:54:35.316670Z",
     "iopub.status.idle": "2023-01-20T15:54:36.714167Z",
     "shell.execute_reply": "2023-01-20T15:54:36.712880Z"
    },
    "papermill": {
     "duration": 1.424463,
     "end_time": "2023-01-20T15:54:36.716639",
     "exception": false,
     "start_time": "2023-01-20T15:54:35.292176",
     "status": "completed"
    },
    "tags": []
   },
   "outputs": [
    {
     "data": {
      "image/png": "[encoded data removed]",
      "text/plain": [
       "<Figure size 432x288 with 2 Axes>"
      ]
     },
     "metadata": {},
     "output_type": "display_data"
    }
   ],
   "source": [
    "#RFM with undersampled data\n",
    "rfm_US = RandomForestClassifier(random_state=42)\n",
    "\n",
    "rfm_US.fit(X_train_undersampled, y_train_undersampled)\n",
    "rfm_US_pred = rfm_US.predict(X_test)\n",
    "\n",
    "#build confusion matrix\n",
    "rfm_US_cm = confusion_matrix(y_test, rfm_US_pred)\n",
    "\n",
    "ax= plt.subplot()\n",
    "sns.heatmap(rfm_US_cm, annot=True, fmt='g', ax=ax);\n",
    "\n",
    "ax.set_xlabel('Predicted labels');ax.set_ylabel('True labels'); \n",
    "ax.set_title('Confusion Matrix'); \n",
    "ax.xaxis.set_ticklabels(['Not Fraud', 'Fraud']); ax.yaxis.set_ticklabels(['Not Fraud', 'Fraud']);"
   ]
  },
  {
   "cell_type": "code",
   "execution_count": 38,
   "id": "18baeb3c",
   "metadata": {
    "execution": {
     "iopub.execute_input": "2023-01-20T15:54:36.765246Z",
     "iopub.status.busy": "2023-01-20T15:54:36.764797Z",
     "iopub.status.idle": "2023-01-20T15:54:36.926269Z",
     "shell.execute_reply": "2023-01-20T15:54:36.924074Z"
    },
    "papermill": {
     "duration": 0.189121,
     "end_time": "2023-01-20T15:54:36.929078",
     "exception": false,
     "start_time": "2023-01-20T15:54:36.739957",
     "status": "completed"
    },
    "tags": []
   },
   "outputs": [
    {
     "name": "stdout",
     "output_type": "stream",
     "text": [
      "              precision    recall  f1-score   support\n",
      "\n",
      "           0       1.00      0.97      0.99     93825\n",
      "           1       0.05      0.90      0.10       162\n",
      "\n",
      "    accuracy                           0.97     93987\n",
      "   macro avg       0.53      0.94      0.54     93987\n",
      "weighted avg       1.00      0.97      0.98     93987\n",
      "\n"
     ]
    }
   ],
   "source": [
    "print(classification_report(y_test, rfm_US_pred))"
   ]
  },
  {
   "cell_type": "markdown",
   "id": "4ae861af",
   "metadata": {
    "papermill": {
     "duration": 0.023813,
     "end_time": "2023-01-20T15:54:36.976494",
     "exception": false,
     "start_time": "2023-01-20T15:54:36.952681",
     "status": "completed"
    },
    "tags": []
   },
   "source": [
    "Undersampling seems to do even worse than oversampling. We can see that precision dropped to 0.05 in exchange for a relatively high recall at 0.90. This leads to a low f1-score. Although we were able to identify 90% of the fraud transactions, the predictions are not precise at all."
   ]
  },
  {
   "cell_type": "markdown",
   "id": "e0e24f8b",
   "metadata": {
    "papermill": {
     "duration": 0.023338,
     "end_time": "2023-01-20T15:54:37.023404",
     "exception": false,
     "start_time": "2023-01-20T15:54:37.000066",
     "status": "completed"
    },
    "tags": []
   },
   "source": [
    "# SMOTE"
   ]
  },
  {
   "cell_type": "code",
   "execution_count": 39,
   "id": "ffd93ad1",
   "metadata": {
    "execution": {
     "iopub.execute_input": "2023-01-20T15:54:37.072218Z",
     "iopub.status.busy": "2023-01-20T15:54:37.071733Z",
     "iopub.status.idle": "2023-01-20T16:01:03.130984Z",
     "shell.execute_reply": "2023-01-20T16:01:03.129566Z"
    },
    "papermill": {
     "duration": 386.110905,
     "end_time": "2023-01-20T16:01:03.157734",
     "exception": false,
     "start_time": "2023-01-20T15:54:37.046829",
     "status": "completed"
    },
    "tags": []
   },
   "outputs": [
    {
     "data": {
      "image/png": "[encoded data removed]",
      "text/plain": [
       "<Figure size 432x288 with 2 Axes>"
      ]
     },
     "metadata": {},
     "output_type": "display_data"
    }
   ],
   "source": [
    "#RFM with SMOTE\n",
    "rfm_sm = RandomForestClassifier(random_state=42)\n",
    "\n",
    "rfm_sm.fit(X_train_sm, y_train_sm)\n",
    "rfm_sm_pred = rfm_sm.predict(X_test)\n",
    "\n",
    "#build confusion matrix\n",
    "rfm_sm_cm = confusion_matrix(y_test, rfm_sm_pred)\n",
    "\n",
    "ax= plt.subplot()\n",
    "sns.heatmap(rfm_sm_cm, annot=True, fmt='g', ax=ax);\n",
    "\n",
    "ax.set_xlabel('Predicted labels');ax.set_ylabel('True labels'); \n",
    "ax.set_title('Confusion Matrix'); \n",
    "ax.xaxis.set_ticklabels(['Not Fraud', 'Fraud']); ax.yaxis.set_ticklabels(['Not Fraud', 'Fraud']);"
   ]
  },
  {
   "cell_type": "code",
   "execution_count": 40,
   "id": "09159270",
   "metadata": {
    "execution": {
     "iopub.execute_input": "2023-01-20T16:01:03.207902Z",
     "iopub.status.busy": "2023-01-20T16:01:03.207491Z",
     "iopub.status.idle": "2023-01-20T16:01:03.364425Z",
     "shell.execute_reply": "2023-01-20T16:01:03.362959Z"
    },
    "papermill": {
     "duration": 0.185833,
     "end_time": "2023-01-20T16:01:03.367418",
     "exception": false,
     "start_time": "2023-01-20T16:01:03.181585",
     "status": "completed"
    },
    "tags": []
   },
   "outputs": [
    {
     "name": "stdout",
     "output_type": "stream",
     "text": [
      "              precision    recall  f1-score   support\n",
      "\n",
      "           0       1.00      1.00      1.00     93825\n",
      "           1       0.89      0.80      0.84       162\n",
      "\n",
      "    accuracy                           1.00     93987\n",
      "   macro avg       0.95      0.90      0.92     93987\n",
      "weighted avg       1.00      1.00      1.00     93987\n",
      "\n"
     ]
    }
   ],
   "source": [
    "print(classification_report(y_test, rfm_sm_pred))"
   ]
  },
  {
   "cell_type": "markdown",
   "id": "abd34a31",
   "metadata": {
    "papermill": {
     "duration": 0.023339,
     "end_time": "2023-01-20T16:01:03.414704",
     "exception": false,
     "start_time": "2023-01-20T16:01:03.391365",
     "status": "completed"
    },
    "tags": []
   },
   "source": [
    "The results from SMOTE is also pretty good. Although the F-1 score was not as high as the initial RF model, the recall is higher. In turn, the precision is still within acceptable range, so not too bad."
   ]
  },
  {
   "cell_type": "markdown",
   "id": "5fe1ccca",
   "metadata": {
    "papermill": {
     "duration": 0.023311,
     "end_time": "2023-01-20T16:01:03.461707",
     "exception": false,
     "start_time": "2023-01-20T16:01:03.438396",
     "status": "completed"
    },
    "tags": []
   },
   "source": [
    "# Model Comparison\n",
    "\n",
    "Finally, let's put everything together to compare the different statistics of the four RFM that we built."
   ]
  },
  {
   "cell_type": "code",
   "execution_count": 41,
   "id": "a028167a",
   "metadata": {
    "execution": {
     "iopub.execute_input": "2023-01-20T16:01:03.511494Z",
     "iopub.status.busy": "2023-01-20T16:01:03.511048Z",
     "iopub.status.idle": "2023-01-20T16:01:03.947775Z",
     "shell.execute_reply": "2023-01-20T16:01:03.946545Z"
    },
    "papermill": {
     "duration": 0.46503,
     "end_time": "2023-01-20T16:01:03.950473",
     "exception": false,
     "start_time": "2023-01-20T16:01:03.485443",
     "status": "completed"
    },
    "tags": []
   },
   "outputs": [
    {
     "data": {
      "text/html": [
       "<div>\n",
       "<style scoped>\n",
       "    .dataframe tbody tr th:only-of-type {\n",
       "        vertical-align: middle;\n",
       "    }\n",
       "\n",
       "    .dataframe tbody tr th {\n",
       "        vertical-align: top;\n",
       "    }\n",
       "\n",
       "    .dataframe thead th {\n",
       "        text-align: right;\n",
       "    }\n",
       "</style>\n",
       "<table border=\"1\" class=\"dataframe\">\n",
       "  <thead>\n",
       "    <tr style=\"text-align: right;\">\n",
       "      <th></th>\n",
       "      <th>precision</th>\n",
       "      <th>recall</th>\n",
       "      <th>f1_score</th>\n",
       "    </tr>\n",
       "    <tr>\n",
       "      <th>model</th>\n",
       "      <th></th>\n",
       "      <th></th>\n",
       "      <th></th>\n",
       "    </tr>\n",
       "  </thead>\n",
       "  <tbody>\n",
       "    <tr>\n",
       "      <th>RandomForest</th>\n",
       "      <td>0.954545</td>\n",
       "      <td>0.777778</td>\n",
       "      <td>0.857143</td>\n",
       "    </tr>\n",
       "    <tr>\n",
       "      <th>RandomForest OS</th>\n",
       "      <td>0.967480</td>\n",
       "      <td>0.734568</td>\n",
       "      <td>0.835088</td>\n",
       "    </tr>\n",
       "    <tr>\n",
       "      <th>RandomForest US</th>\n",
       "      <td>0.052124</td>\n",
       "      <td>0.901235</td>\n",
       "      <td>0.098549</td>\n",
       "    </tr>\n",
       "    <tr>\n",
       "      <th>RandomForest SMOTE</th>\n",
       "      <td>0.890411</td>\n",
       "      <td>0.802469</td>\n",
       "      <td>0.844156</td>\n",
       "    </tr>\n",
       "  </tbody>\n",
       "</table>\n",
       "</div>"
      ],
      "text/plain": [
       "                    precision    recall  f1_score\n",
       "model                                            \n",
       "RandomForest         0.954545  0.777778  0.857143\n",
       "RandomForest OS      0.967480  0.734568  0.835088\n",
       "RandomForest US      0.052124  0.901235  0.098549\n",
       "RandomForest SMOTE   0.890411  0.802469  0.844156"
      ]
     },
     "execution_count": 41,
     "metadata": {},
     "output_type": "execute_result"
    }
   ],
   "source": [
    "from sklearn.metrics import precision_recall_fscore_support\n",
    "\n",
    "#model dictionary\n",
    "predicted_values = {\"RandomForest\": rfm_pred, \"RandomForest OS\": rfm_OS_pred, \"RandomForest US\": rfm_US_pred, \"RandomForest SMOTE\": rfm_sm_pred}\n",
    "\n",
    "#create df\n",
    "df = pd.DataFrame(columns=['model', 'precision', 'recall', 'f1_score'])\n",
    "\n",
    "#plug precision recall and f1score into the dataframe for each model\n",
    "for key, value in predicted_values.items():\n",
    "    precision = precision_recall_fscore_support(y_test, value, average=None)[0][1]\n",
    "    recall = precision_recall_fscore_support(y_test, value, average=None)[1][1]\n",
    "    f1_score = precision_recall_fscore_support(y_test, value, average=None)[2][1]\n",
    "    df = df.append({'model': key, 'precision':precision, 'recall':recall, 'f1_score':f1_score}, ignore_index=True)\n",
    "\n",
    "df = df.set_index('model')\n",
    "df.head()"
   ]
  },
  {
   "cell_type": "markdown",
   "id": "037e3328",
   "metadata": {
    "papermill": {
     "duration": 0.024069,
     "end_time": "2023-01-20T16:01:03.998685",
     "exception": false,
     "start_time": "2023-01-20T16:01:03.974616",
     "status": "completed"
    },
    "tags": []
   },
   "source": [
    "Again, we can see that the f1_score is the highest for the initial RandomForest model (without any treatments to the imbalanced dataset). The first model, however, has a relatively higher precision than its recall. In many cases of imbalanced dataset (like this with fraud detection), we should be willing to sacrifice some precision for better recall. Therefore, RandomForest with SMOTE also seems like a pretty good choice. RandomForest US would be way too extreme as it sacrificed way too much precision for a little increase in recall."
   ]
  },
  {
   "cell_type": "markdown",
   "id": "9cc168d1",
   "metadata": {
    "papermill": {
     "duration": 0.023956,
     "end_time": "2023-01-20T16:01:04.046510",
     "exception": false,
     "start_time": "2023-01-20T16:01:04.022554",
     "status": "completed"
    },
    "tags": []
   },
   "source": [
    "# ROC and AUC\n",
    "\n",
    "Finally, let's take a look at another evaluation metric ROC and AUC, and see if we can extract some insights."
   ]
  },
  {
   "cell_type": "code",
   "execution_count": 42,
   "id": "c78eec7a",
   "metadata": {
    "execution": {
     "iopub.execute_input": "2023-01-20T16:01:04.096264Z",
     "iopub.status.busy": "2023-01-20T16:01:04.095807Z",
     "iopub.status.idle": "2023-01-20T16:01:08.759063Z",
     "shell.execute_reply": "2023-01-20T16:01:08.757739Z"
    },
    "papermill": {
     "duration": 4.691496,
     "end_time": "2023-01-20T16:01:08.761886",
     "exception": false,
     "start_time": "2023-01-20T16:01:04.070390",
     "status": "completed"
    },
    "tags": []
   },
   "outputs": [
    {
     "data": {
      "image/png": "[encoded data removed]",
      "text/plain": [
       "<Figure size 720x720 with 1 Axes>"
      ]
     },
     "metadata": {},
     "output_type": "display_data"
    }
   ],
   "source": [
    "#change figure size\n",
    "plt.figure(figsize=(10, 10))\n",
    "\n",
    "# RFM SMOTE\n",
    "rfm_sm_probas = rfm_sm.predict_proba(X_test)[:,1]\n",
    "fpr, tpr, threshold = roc_curve(y_test, rfm_sm_probas)\n",
    "roc_auc = auc(fpr, tpr)\n",
    "plt.plot(fpr, tpr, 'b', linewidth=3, label = 'SMOTE AUC = %0.4f' % roc_auc)\n",
    "\n",
    "#RFM Undersampled\n",
    "rfm_US_probas = rfm_US.predict_proba(X_test)[:,1]\n",
    "fpr, tpr, threshold = roc_curve(y_test, rfm_US_probas)\n",
    "roc_auc = auc(fpr, tpr)\n",
    "plt.plot(fpr, tpr, 'g', linewidth=3, label = 'US AUC = %0.4f' % roc_auc)\n",
    "\n",
    "#RFM Oversampled\n",
    "rfm_OS_probas = rfm_OS.predict_proba(X_test)[:,1]\n",
    "fpr, tpr, threshold = roc_curve(y_test, rfm_OS_probas)\n",
    "roc_auc = auc(fpr, tpr)\n",
    "plt.plot(fpr, tpr, 'r', linewidth=3, label = 'OS AUC = %0.4f' % roc_auc)\n",
    "\n",
    "#RFM\n",
    "rfm_probas = rfm.predict_proba(X_test)[:,1]\n",
    "fpr, tpr, threshold = roc_curve(y_test, rfm_probas)\n",
    "roc_auc = auc(fpr, tpr)\n",
    "plt.plot(fpr, tpr, 'purple', linewidth=3, label = 'Nth AUC = %0.4f' % roc_auc)\n",
    "\n",
    "#plot horizontal line at y=0.9 and y=0.99\n",
    "plt.axhline(y=0.9, color = 'black', linestyle='dashed', linewidth=3)\n",
    "plt.axhline(y=0.99, color = 'black', linestyle='dashed', linewidth=3)\n",
    "\n",
    "plt.title('RFM Receiver Operating Characteristic')\n",
    "plt.legend(loc = 'lower right')\n",
    "plt.plot([0, 1], [0, 1],'r--')\n",
    "plt.ylabel('True Positive Rate')\n",
    "plt.xlabel('False Positive Rate')\n",
    "plt.show()"
   ]
  },
  {
   "cell_type": "markdown",
   "id": "e25b2f81",
   "metadata": {
    "papermill": {
     "duration": 0.02475,
     "end_time": "2023-01-20T16:01:08.812491",
     "exception": false,
     "start_time": "2023-01-20T16:01:08.787741",
     "status": "completed"
    },
    "tags": []
   },
   "source": [
    "We can see from the comparison of the ROC curves for the four different models. For those who always gets confused by TPR and FPR (confusing terms) like I do, let's give it a quick review:\n",
    "\n",
    "* True Positive Rate (sensitivity): Out of all fraud cases, the amount that is classified as fraud\n",
    "* False Positive Rate (1-specificity): Out of all non-fraud cases, the amount that is classified as fraud"
   ]
  },
  {
   "cell_type": "markdown",
   "id": "703cdf54",
   "metadata": {
    "papermill": {
     "duration": 0.024927,
     "end_time": "2023-01-20T16:01:08.862453",
     "exception": false,
     "start_time": "2023-01-20T16:01:08.837526",
     "status": "completed"
    },
    "tags": []
   },
   "source": [
    "> Again, we have a trade-off relationship between the two. Which model is better ultimately comes down to what is the minimum TPR that you're willing to accept. We can see that if we can accept a TPR of 0.9 (90% of all fraud captured), then RF with SMOTE may be best because it achieves that TPR with the lowest FPR (bottom dashed horizontal line). But if we want to achieve a TPR of 0.99 (99% of all fraud captured), then RF with Undersampling is the best. (top dashed horizontal line)"
   ]
  },
  {
   "attachments": {
    "91b7969f-f444-47ba-b97c-012ba8494125.png": {
     "image/png": "[encoded data removed]"
    }
   },
   "cell_type": "markdown",
   "id": "61fa55d3",
   "metadata": {
    "papermill": {
     "duration": 0.024981,
     "end_time": "2023-01-20T16:01:08.912483",
     "exception": false,
     "start_time": "2023-01-20T16:01:08.887502",
     "status": "completed"
    },
    "tags": []
   },
   "source": [
    "But be aware that in the case of an imbalanced dataset, even a false positive rate of just 0.2 means a very low precision. This is due to the extreme difference in the majority and minority class. We can see this being the case for RF with Undersampling.\n",
    "\n",
    "![image.png](attachment:91b7969f-f444-47ba-b97c-012ba8494125.png)\n",
    "\n",
    "The FPR is only 0.03 here (2555/(91170+2555), but we can see that the precision dropped significantly. A small portion of the majority class could still be huge when compared to the minority class."
   ]
  }
 ],
 "metadata": {
  "kernelspec": {
   "display_name": "Python 3",
   "language": "python",
   "name": "python3"
  },
  "language_info": {
   "codemirror_mode": {
    "name": "ipython",
    "version": 3
   },
   "file_extension": ".py",
   "mimetype": "text/x-python",
   "name": "python",
   "nbconvert_exporter": "python",
   "pygments_lexer": "ipython3",
   "version": "3.8.8"
  },
  "papermill": {
   "default_parameters": {},
   "duration": 1245.603409,
   "end_time": "2023-01-20T16:01:09.964416",
   "environment_variables": {},
   "exception": null,
   "input_path": "__notebook__.ipynb",
   "output_path": "__notebook__.ipynb",
   "parameters": {},
   "start_time": "2023-01-20T15:40:24.361007",
   "version": "2.3.4"
  }
 },
 "nbformat": 4,
 "nbformat_minor": 5
}
