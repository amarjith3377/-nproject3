{
 "cells": [
  {
   "cell_type": "code",
   "execution_count": 1,
   "id": "325307e5",
   "metadata": {
    "execution": {
     "iopub.execute_input": "2023-01-03T23:43:16.277502Z",
     "iopub.status.busy": "2023-01-03T23:43:16.276899Z",
     "iopub.status.idle": "2023-01-03T23:43:17.481220Z",
     "shell.execute_reply": "2023-01-03T23:43:17.479784Z"
    },
    "papermill": {
     "duration": 1.22461,
     "end_time": "2023-01-03T23:43:17.484521",
     "exception": false,
     "start_time": "2023-01-03T23:43:16.259911",
     "status": "completed"
    },
    "tags": []
   },
   "outputs": [],
   "source": [
    "import numpy as np\n",
    "import pandas as pd\n",
    "from matplotlib import pyplot as plt\n",
    "from scipy.stats import shapiro\n",
    "from sklearn.preprocessing import scale, OneHotEncoder"
   ]
  },
  {
   "cell_type": "markdown",
   "id": "a264545d",
   "metadata": {
    "papermill": {
     "duration": 0.012928,
     "end_time": "2023-01-03T23:43:17.509115",
     "exception": false,
     "start_time": "2023-01-03T23:43:17.496187",
     "status": "completed"
    },
    "tags": []
   },
   "source": [
    "# Data Preparation\n",
    "We have a mixture of categorical and numerical information. Before modelling we must:\n",
    "1. Remove or fill null values\n",
    "2. Make some assumptions about each feature\n",
    "2. Prepare features such that we can input all as numerical\n",
    "3. Normalise features as needed and remove outliers"
   ]
  },
  {
   "cell_type": "code",
   "execution_count": 2,
   "id": "989f0859",
   "metadata": {
    "execution": {
     "iopub.execute_input": "2023-01-03T23:43:17.533528Z",
     "iopub.status.busy": "2023-01-03T23:43:17.533107Z",
     "iopub.status.idle": "2023-01-03T23:43:17.566846Z",
     "shell.execute_reply": "2023-01-03T23:43:17.565675Z"
    },
    "papermill": {
     "duration": 0.049605,
     "end_time": "2023-01-03T23:43:17.569936",
     "exception": false,
     "start_time": "2023-01-03T23:43:17.520331",
     "status": "completed"
    },
    "tags": []
   },
   "outputs": [],
   "source": [
    "superstore_data = pd.read_csv(r\"/kaggle/input/superstore-marketing-campaign-dataset/superstore_data.csv\")"
   ]
  },
  {
   "cell_type": "markdown",
   "id": "7b5f7068",
   "metadata": {
    "papermill": {
     "duration": 0.011117,
     "end_time": "2023-01-03T23:43:17.592609",
     "exception": false,
     "start_time": "2023-01-03T23:43:17.581492",
     "status": "completed"
    },
    "tags": []
   },
   "source": [
    "**Removing/Filling null values**\n",
    "As we have 24 null incomes, we will remove these rather than make any assumptions about zero income."
   ]
  },
  {
   "cell_type": "code",
   "execution_count": 3,
   "id": "43b1ea0b",
   "metadata": {
    "execution": {
     "iopub.execute_input": "2023-01-03T23:43:17.617613Z",
     "iopub.status.busy": "2023-01-03T23:43:17.617023Z",
     "iopub.status.idle": "2023-01-03T23:43:17.641189Z",
     "shell.execute_reply": "2023-01-03T23:43:17.639930Z"
    },
    "papermill": {
     "duration": 0.03979,
     "end_time": "2023-01-03T23:43:17.643814",
     "exception": false,
     "start_time": "2023-01-03T23:43:17.604024",
     "status": "completed"
    },
    "tags": []
   },
   "outputs": [
    {
     "data": {
      "text/plain": [
       "Id                      0\n",
       "Year_Birth              0\n",
       "Education               0\n",
       "Marital_Status          0\n",
       "Income                 24\n",
       "Kidhome                 0\n",
       "Teenhome                0\n",
       "Dt_Customer             0\n",
       "Recency                 0\n",
       "MntWines                0\n",
       "MntFruits               0\n",
       "MntMeatProducts         0\n",
       "MntFishProducts         0\n",
       "MntSweetProducts        0\n",
       "MntGoldProds            0\n",
       "NumDealsPurchases       0\n",
       "NumWebPurchases         0\n",
       "NumCatalogPurchases     0\n",
       "NumStorePurchases       0\n",
       "NumWebVisitsMonth       0\n",
       "Response                0\n",
       "Complain                0\n",
       "dtype: int64"
      ]
     },
     "execution_count": 3,
     "metadata": {},
     "output_type": "execute_result"
    }
   ],
   "source": [
    "superstore_data.apply(lambda x: sum(x.isnull()),axis=0)"
   ]
  },
  {
   "cell_type": "code",
   "execution_count": 4,
   "id": "7f4b378c",
   "metadata": {
    "execution": {
     "iopub.execute_input": "2023-01-03T23:43:17.669406Z",
     "iopub.status.busy": "2023-01-03T23:43:17.668990Z",
     "iopub.status.idle": "2023-01-03T23:43:17.684745Z",
     "shell.execute_reply": "2023-01-03T23:43:17.683132Z"
    },
    "papermill": {
     "duration": 0.03215,
     "end_time": "2023-01-03T23:43:17.687688",
     "exception": false,
     "start_time": "2023-01-03T23:43:17.655538",
     "status": "completed"
    },
    "tags": []
   },
   "outputs": [],
   "source": [
    "superstore_data = superstore_data.dropna(subset=[\"Income\"])"
   ]
  },
  {
   "cell_type": "markdown",
   "id": "f4f3e733",
   "metadata": {
    "papermill": {
     "duration": 0.01117,
     "end_time": "2023-01-03T23:43:17.710560",
     "exception": false,
     "start_time": "2023-01-03T23:43:17.699390",
     "status": "completed"
    },
    "tags": []
   },
   "source": [
    "# Year of Birth\n",
    "We assume that the current year is 2023. \n",
    "We find some outliers that seem to make some customers more than 123 years old, so we remove these"
   ]
  },
  {
   "cell_type": "code",
   "execution_count": 5,
   "id": "8bec1f05",
   "metadata": {
    "execution": {
     "iopub.execute_input": "2023-01-03T23:43:17.736101Z",
     "iopub.status.busy": "2023-01-03T23:43:17.735641Z",
     "iopub.status.idle": "2023-01-03T23:43:18.043484Z",
     "shell.execute_reply": "2023-01-03T23:43:18.042134Z"
    },
    "papermill": {
     "duration": 0.324017,
     "end_time": "2023-01-03T23:43:18.046124",
     "exception": false,
     "start_time": "2023-01-03T23:43:17.722107",
     "status": "completed"
    },
    "tags": []
   },
   "outputs": [
    {
     "data": {
      "text/plain": [
       "(array([  3.,   0.,   0.,   0.,  15., 298., 533., 678., 502., 187.]),\n",
       " array([1893. , 1903.3, 1913.6, 1923.9, 1934.2, 1944.5, 1954.8, 1965.1,\n",
       "        1975.4, 1985.7, 1996. ]),\n",
       " <BarContainer object of 10 artists>)"
      ]
     },
     "execution_count": 5,
     "metadata": {},
     "output_type": "execute_result"
    },
    {
     "data": {
      "image/png": "[encoded data removed]",
      "text/plain": [
       "<Figure size 432x288 with 1 Axes>"
      ]
     },
     "metadata": {
      "needs_background": "light"
     },
     "output_type": "display_data"
    }
   ],
   "source": [
    "plt.hist(superstore_data[\"Year_Birth\"])"
   ]
  },
  {
   "cell_type": "code",
   "execution_count": 6,
   "id": "188e7aef",
   "metadata": {
    "execution": {
     "iopub.execute_input": "2023-01-03T23:43:18.072506Z",
     "iopub.status.busy": "2023-01-03T23:43:18.072091Z",
     "iopub.status.idle": "2023-01-03T23:43:18.080532Z",
     "shell.execute_reply": "2023-01-03T23:43:18.079255Z"
    },
    "papermill": {
     "duration": 0.024478,
     "end_time": "2023-01-03T23:43:18.083078",
     "exception": false,
     "start_time": "2023-01-03T23:43:18.058600",
     "status": "completed"
    },
    "tags": []
   },
   "outputs": [],
   "source": [
    "def find_iqr_outliers(input_array):\n",
    "\n",
    "    q1, q3 = np.percentile(input_array,[25,75])\n",
    "    iqr = q3 - q1\n",
    "    lower_bound = q1 - (1.5*iqr)\n",
    "    upper_bound = q3 + (1.5*iqr)\n",
    "    print(\"Lower bound: \" + str(lower_bound) + \" | Upper bound: \" + str(upper_bound))\n",
    "    \n",
    "    outlier_indices = np.where((input_array<lower_bound) | (input_array>upper_bound))\n",
    "    print(\"Outliers : \" + str(list(input_array.iloc[outlier_indices])))\n",
    "    return outlier_indices, [lower_bound,upper_bound]"
   ]
  },
  {
   "cell_type": "code",
   "execution_count": 7,
   "id": "6ed71072",
   "metadata": {
    "execution": {
     "iopub.execute_input": "2023-01-03T23:43:18.109232Z",
     "iopub.status.busy": "2023-01-03T23:43:18.108795Z",
     "iopub.status.idle": "2023-01-03T23:43:18.126014Z",
     "shell.execute_reply": "2023-01-03T23:43:18.124282Z"
    },
    "papermill": {
     "duration": 0.033645,
     "end_time": "2023-01-03T23:43:18.128986",
     "exception": false,
     "start_time": "2023-01-03T23:43:18.095341",
     "status": "completed"
    },
    "tags": []
   },
   "outputs": [
    {
     "name": "stdout",
     "output_type": "stream",
     "text": [
      "Lower bound: 1932.0 | Upper bound: 2004.0\n",
      "Outliers : [1893, 1899, 1900]\n"
     ]
    }
   ],
   "source": [
    "superstore_data = superstore_data.drop(superstore_data.index[find_iqr_outliers(superstore_data[\"Year_Birth\"])[0]])\n",
    "superstore_data[\"Year_Birth\"] = 2023 - superstore_data[\"Year_Birth\"]\n",
    "superstore_data[\"Year_Birth\"] /= max(superstore_data[\"Year_Birth\"])"
   ]
  },
  {
   "cell_type": "markdown",
   "id": "2e69692f",
   "metadata": {
    "papermill": {
     "duration": 0.012581,
     "end_time": "2023-01-03T23:43:18.154035",
     "exception": false,
     "start_time": "2023-01-03T23:43:18.141454",
     "status": "completed"
    },
    "tags": []
   },
   "source": [
    "# Education\n",
    "We find initially that there are not very many customers with \"Basic\" education. 2n cycle is difficult to interpret as I am a UK student. We collect these into three categories: Basic, Undergrad, and Postgrad (2n Cycle, Master, PhD)"
   ]
  },
  {
   "cell_type": "code",
   "execution_count": 8,
   "id": "edf4c6d1",
   "metadata": {
    "execution": {
     "iopub.execute_input": "2023-01-03T23:43:18.181032Z",
     "iopub.status.busy": "2023-01-03T23:43:18.180539Z",
     "iopub.status.idle": "2023-01-03T23:43:18.191814Z",
     "shell.execute_reply": "2023-01-03T23:43:18.190496Z"
    },
    "papermill": {
     "duration": 0.028308,
     "end_time": "2023-01-03T23:43:18.194612",
     "exception": false,
     "start_time": "2023-01-03T23:43:18.166304",
     "status": "completed"
    },
    "tags": []
   },
   "outputs": [],
   "source": [
    "original_distribution = np.unique(superstore_data[\"Education\"],return_counts=True)\n",
    "education_mapping = {\"Basic\":\"Basic\",\"Graduation\":\"Undergrad\",\"2n Cycle\":\"Postgrad\",\"Master\":\"Postgrad\",\"PhD\":\"Postgrad\"}\n",
    "superstore_data[\"Education\"] = superstore_data[\"Education\"].map(education_mapping)\n",
    "new_distribution = np.unique(superstore_data[\"Education\"],return_counts=True)"
   ]
  },
  {
   "cell_type": "code",
   "execution_count": 9,
   "id": "35164606",
   "metadata": {
    "execution": {
     "iopub.execute_input": "2023-01-03T23:43:18.222344Z",
     "iopub.status.busy": "2023-01-03T23:43:18.221921Z",
     "iopub.status.idle": "2023-01-03T23:43:18.527046Z",
     "shell.execute_reply": "2023-01-03T23:43:18.525640Z"
    },
    "papermill": {
     "duration": 0.322426,
     "end_time": "2023-01-03T23:43:18.529960",
     "exception": false,
     "start_time": "2023-01-03T23:43:18.207534",
     "status": "completed"
    },
    "tags": []
   },
   "outputs": [
    {
     "data": {
      "text/plain": [
       "<BarContainer object of 3 artists>"
      ]
     },
     "execution_count": 9,
     "metadata": {},
     "output_type": "execute_result"
    },
    {
     "data": {
      "image/png": "[encoded data removed]",
      "text/plain": [
       "<Figure size 1080x216 with 2 Axes>"
      ]
     },
     "metadata": {
      "needs_background": "light"
     },
     "output_type": "display_data"
    }
   ],
   "source": [
    "fig, axes = plt.subplots(nrows=1, ncols=2, figsize=(15, 3))\n",
    "axes[0].bar(original_distribution[0],original_distribution[1])\n",
    "axes[1].bar(new_distribution[0],new_distribution[1])"
   ]
  },
  {
   "cell_type": "code",
   "execution_count": 10,
   "id": "a0106e81",
   "metadata": {
    "execution": {
     "iopub.execute_input": "2023-01-03T23:43:18.557931Z",
     "iopub.status.busy": "2023-01-03T23:43:18.557463Z",
     "iopub.status.idle": "2023-01-03T23:43:18.572442Z",
     "shell.execute_reply": "2023-01-03T23:43:18.571161Z"
    },
    "papermill": {
     "duration": 0.032674,
     "end_time": "2023-01-03T23:43:18.575435",
     "exception": false,
     "start_time": "2023-01-03T23:43:18.542761",
     "status": "completed"
    },
    "tags": []
   },
   "outputs": [],
   "source": [
    "education_dummy = pd.get_dummies(superstore_data[\"Education\"])\n",
    "education_dummy = education_dummy.drop([\"Basic\"],axis=1)\n",
    "superstore_data = pd.concat([superstore_data,education_dummy],axis = 1)\n",
    "superstore_data = superstore_data.drop([\"Education\"],axis=1)"
   ]
  },
  {
   "cell_type": "code",
   "execution_count": 11,
   "id": "e08a8e22",
   "metadata": {
    "execution": {
     "iopub.execute_input": "2023-01-03T23:43:18.603341Z",
     "iopub.status.busy": "2023-01-03T23:43:18.602926Z",
     "iopub.status.idle": "2023-01-03T23:43:18.640749Z",
     "shell.execute_reply": "2023-01-03T23:43:18.639432Z"
    },
    "papermill": {
     "duration": 0.055235,
     "end_time": "2023-01-03T23:43:18.643404",
     "exception": false,
     "start_time": "2023-01-03T23:43:18.588169",
     "status": "completed"
    },
    "tags": []
   },
   "outputs": [
    {
     "data": {
      "text/html": [
       "<div>\n",
       "<style scoped>\n",
       "    .dataframe tbody tr th:only-of-type {\n",
       "        vertical-align: middle;\n",
       "    }\n",
       "\n",
       "    .dataframe tbody tr th {\n",
       "        vertical-align: top;\n",
       "    }\n",
       "\n",
       "    .dataframe thead th {\n",
       "        text-align: right;\n",
       "    }\n",
       "</style>\n",
       "<table border=\"1\" class=\"dataframe\">\n",
       "  <thead>\n",
       "    <tr style=\"text-align: right;\">\n",
       "      <th></th>\n",
       "      <th>Id</th>\n",
       "      <th>Year_Birth</th>\n",
       "      <th>Marital_Status</th>\n",
       "      <th>Income</th>\n",
       "      <th>Kidhome</th>\n",
       "      <th>Teenhome</th>\n",
       "      <th>Dt_Customer</th>\n",
       "      <th>Recency</th>\n",
       "      <th>MntWines</th>\n",
       "      <th>MntFruits</th>\n",
       "      <th>...</th>\n",
       "      <th>MntGoldProds</th>\n",
       "      <th>NumDealsPurchases</th>\n",
       "      <th>NumWebPurchases</th>\n",
       "      <th>NumCatalogPurchases</th>\n",
       "      <th>NumStorePurchases</th>\n",
       "      <th>NumWebVisitsMonth</th>\n",
       "      <th>Response</th>\n",
       "      <th>Complain</th>\n",
       "      <th>Postgrad</th>\n",
       "      <th>Undergrad</th>\n",
       "    </tr>\n",
       "  </thead>\n",
       "  <tbody>\n",
       "    <tr>\n",
       "      <th>0</th>\n",
       "      <td>1826</td>\n",
       "      <td>0.638554</td>\n",
       "      <td>Divorced</td>\n",
       "      <td>84835.0</td>\n",
       "      <td>0</td>\n",
       "      <td>0</td>\n",
       "      <td>6/16/2014</td>\n",
       "      <td>0</td>\n",
       "      <td>189</td>\n",
       "      <td>104</td>\n",
       "      <td>...</td>\n",
       "      <td>218</td>\n",
       "      <td>1</td>\n",
       "      <td>4</td>\n",
       "      <td>4</td>\n",
       "      <td>6</td>\n",
       "      <td>1</td>\n",
       "      <td>1</td>\n",
       "      <td>0</td>\n",
       "      <td>0</td>\n",
       "      <td>1</td>\n",
       "    </tr>\n",
       "    <tr>\n",
       "      <th>1</th>\n",
       "      <td>1</td>\n",
       "      <td>0.746988</td>\n",
       "      <td>Single</td>\n",
       "      <td>57091.0</td>\n",
       "      <td>0</td>\n",
       "      <td>0</td>\n",
       "      <td>6/15/2014</td>\n",
       "      <td>0</td>\n",
       "      <td>464</td>\n",
       "      <td>5</td>\n",
       "      <td>...</td>\n",
       "      <td>37</td>\n",
       "      <td>1</td>\n",
       "      <td>7</td>\n",
       "      <td>3</td>\n",
       "      <td>7</td>\n",
       "      <td>5</td>\n",
       "      <td>1</td>\n",
       "      <td>0</td>\n",
       "      <td>0</td>\n",
       "      <td>1</td>\n",
       "    </tr>\n",
       "    <tr>\n",
       "      <th>2</th>\n",
       "      <td>10476</td>\n",
       "      <td>0.783133</td>\n",
       "      <td>Married</td>\n",
       "      <td>67267.0</td>\n",
       "      <td>0</td>\n",
       "      <td>1</td>\n",
       "      <td>5/13/2014</td>\n",
       "      <td>0</td>\n",
       "      <td>134</td>\n",
       "      <td>11</td>\n",
       "      <td>...</td>\n",
       "      <td>30</td>\n",
       "      <td>1</td>\n",
       "      <td>3</td>\n",
       "      <td>2</td>\n",
       "      <td>5</td>\n",
       "      <td>2</td>\n",
       "      <td>0</td>\n",
       "      <td>0</td>\n",
       "      <td>0</td>\n",
       "      <td>1</td>\n",
       "    </tr>\n",
       "    <tr>\n",
       "      <th>3</th>\n",
       "      <td>1386</td>\n",
       "      <td>0.674699</td>\n",
       "      <td>Together</td>\n",
       "      <td>32474.0</td>\n",
       "      <td>1</td>\n",
       "      <td>1</td>\n",
       "      <td>11/5/2014</td>\n",
       "      <td>0</td>\n",
       "      <td>10</td>\n",
       "      <td>0</td>\n",
       "      <td>...</td>\n",
       "      <td>0</td>\n",
       "      <td>1</td>\n",
       "      <td>1</td>\n",
       "      <td>0</td>\n",
       "      <td>2</td>\n",
       "      <td>7</td>\n",
       "      <td>0</td>\n",
       "      <td>0</td>\n",
       "      <td>0</td>\n",
       "      <td>1</td>\n",
       "    </tr>\n",
       "    <tr>\n",
       "      <th>4</th>\n",
       "      <td>5371</td>\n",
       "      <td>0.409639</td>\n",
       "      <td>Single</td>\n",
       "      <td>21474.0</td>\n",
       "      <td>1</td>\n",
       "      <td>0</td>\n",
       "      <td>8/4/2014</td>\n",
       "      <td>0</td>\n",
       "      <td>6</td>\n",
       "      <td>16</td>\n",
       "      <td>...</td>\n",
       "      <td>34</td>\n",
       "      <td>2</td>\n",
       "      <td>3</td>\n",
       "      <td>1</td>\n",
       "      <td>2</td>\n",
       "      <td>7</td>\n",
       "      <td>1</td>\n",
       "      <td>0</td>\n",
       "      <td>0</td>\n",
       "      <td>1</td>\n",
       "    </tr>\n",
       "    <tr>\n",
       "      <th>...</th>\n",
       "      <td>...</td>\n",
       "      <td>...</td>\n",
       "      <td>...</td>\n",
       "      <td>...</td>\n",
       "      <td>...</td>\n",
       "      <td>...</td>\n",
       "      <td>...</td>\n",
       "      <td>...</td>\n",
       "      <td>...</td>\n",
       "      <td>...</td>\n",
       "      <td>...</td>\n",
       "      <td>...</td>\n",
       "      <td>...</td>\n",
       "      <td>...</td>\n",
       "      <td>...</td>\n",
       "      <td>...</td>\n",
       "      <td>...</td>\n",
       "      <td>...</td>\n",
       "      <td>...</td>\n",
       "      <td>...</td>\n",
       "      <td>...</td>\n",
       "    </tr>\n",
       "    <tr>\n",
       "      <th>2235</th>\n",
       "      <td>10142</td>\n",
       "      <td>0.566265</td>\n",
       "      <td>Divorced</td>\n",
       "      <td>66476.0</td>\n",
       "      <td>0</td>\n",
       "      <td>1</td>\n",
       "      <td>7/3/2013</td>\n",
       "      <td>99</td>\n",
       "      <td>372</td>\n",
       "      <td>18</td>\n",
       "      <td>...</td>\n",
       "      <td>78</td>\n",
       "      <td>2</td>\n",
       "      <td>5</td>\n",
       "      <td>2</td>\n",
       "      <td>11</td>\n",
       "      <td>4</td>\n",
       "      <td>0</td>\n",
       "      <td>0</td>\n",
       "      <td>1</td>\n",
       "      <td>0</td>\n",
       "    </tr>\n",
       "    <tr>\n",
       "      <th>2236</th>\n",
       "      <td>5263</td>\n",
       "      <td>0.554217</td>\n",
       "      <td>Married</td>\n",
       "      <td>31056.0</td>\n",
       "      <td>1</td>\n",
       "      <td>0</td>\n",
       "      <td>1/22/2013</td>\n",
       "      <td>99</td>\n",
       "      <td>5</td>\n",
       "      <td>10</td>\n",
       "      <td>...</td>\n",
       "      <td>16</td>\n",
       "      <td>1</td>\n",
       "      <td>1</td>\n",
       "      <td>0</td>\n",
       "      <td>3</td>\n",
       "      <td>8</td>\n",
       "      <td>0</td>\n",
       "      <td>0</td>\n",
       "      <td>1</td>\n",
       "      <td>0</td>\n",
       "    </tr>\n",
       "    <tr>\n",
       "      <th>2237</th>\n",
       "      <td>22</td>\n",
       "      <td>0.566265</td>\n",
       "      <td>Divorced</td>\n",
       "      <td>46310.0</td>\n",
       "      <td>1</td>\n",
       "      <td>0</td>\n",
       "      <td>3/12/2012</td>\n",
       "      <td>99</td>\n",
       "      <td>185</td>\n",
       "      <td>2</td>\n",
       "      <td>...</td>\n",
       "      <td>14</td>\n",
       "      <td>2</td>\n",
       "      <td>6</td>\n",
       "      <td>1</td>\n",
       "      <td>5</td>\n",
       "      <td>8</td>\n",
       "      <td>0</td>\n",
       "      <td>0</td>\n",
       "      <td>0</td>\n",
       "      <td>1</td>\n",
       "    </tr>\n",
       "    <tr>\n",
       "      <th>2238</th>\n",
       "      <td>528</td>\n",
       "      <td>0.542169</td>\n",
       "      <td>Married</td>\n",
       "      <td>65819.0</td>\n",
       "      <td>0</td>\n",
       "      <td>0</td>\n",
       "      <td>11/29/2012</td>\n",
       "      <td>99</td>\n",
       "      <td>267</td>\n",
       "      <td>38</td>\n",
       "      <td>...</td>\n",
       "      <td>63</td>\n",
       "      <td>1</td>\n",
       "      <td>5</td>\n",
       "      <td>4</td>\n",
       "      <td>10</td>\n",
       "      <td>3</td>\n",
       "      <td>0</td>\n",
       "      <td>0</td>\n",
       "      <td>0</td>\n",
       "      <td>1</td>\n",
       "    </tr>\n",
       "    <tr>\n",
       "      <th>2239</th>\n",
       "      <td>4070</td>\n",
       "      <td>0.650602</td>\n",
       "      <td>Married</td>\n",
       "      <td>94871.0</td>\n",
       "      <td>0</td>\n",
       "      <td>2</td>\n",
       "      <td>1/9/2012</td>\n",
       "      <td>99</td>\n",
       "      <td>169</td>\n",
       "      <td>24</td>\n",
       "      <td>...</td>\n",
       "      <td>144</td>\n",
       "      <td>1</td>\n",
       "      <td>8</td>\n",
       "      <td>5</td>\n",
       "      <td>4</td>\n",
       "      <td>7</td>\n",
       "      <td>1</td>\n",
       "      <td>0</td>\n",
       "      <td>1</td>\n",
       "      <td>0</td>\n",
       "    </tr>\n",
       "  </tbody>\n",
       "</table>\n",
       "<p>2213 rows × 23 columns</p>\n",
       "</div>"
      ],
      "text/plain": [
       "         Id  Year_Birth Marital_Status   Income  Kidhome  Teenhome  \\\n",
       "0      1826    0.638554       Divorced  84835.0        0         0   \n",
       "1         1    0.746988         Single  57091.0        0         0   \n",
       "2     10476    0.783133        Married  67267.0        0         1   \n",
       "3      1386    0.674699       Together  32474.0        1         1   \n",
       "4      5371    0.409639         Single  21474.0        1         0   \n",
       "...     ...         ...            ...      ...      ...       ...   \n",
       "2235  10142    0.566265       Divorced  66476.0        0         1   \n",
       "2236   5263    0.554217        Married  31056.0        1         0   \n",
       "2237     22    0.566265       Divorced  46310.0        1         0   \n",
       "2238    528    0.542169        Married  65819.0        0         0   \n",
       "2239   4070    0.650602        Married  94871.0        0         2   \n",
       "\n",
       "     Dt_Customer  Recency  MntWines  MntFruits  ...  MntGoldProds  \\\n",
       "0      6/16/2014        0       189        104  ...           218   \n",
       "1      6/15/2014        0       464          5  ...            37   \n",
       "2      5/13/2014        0       134         11  ...            30   \n",
       "3      11/5/2014        0        10          0  ...             0   \n",
       "4       8/4/2014        0         6         16  ...            34   \n",
       "...          ...      ...       ...        ...  ...           ...   \n",
       "2235    7/3/2013       99       372         18  ...            78   \n",
       "2236   1/22/2013       99         5         10  ...            16   \n",
       "2237   3/12/2012       99       185          2  ...            14   \n",
       "2238  11/29/2012       99       267         38  ...            63   \n",
       "2239    1/9/2012       99       169         24  ...           144   \n",
       "\n",
       "      NumDealsPurchases  NumWebPurchases  NumCatalogPurchases  \\\n",
       "0                     1                4                    4   \n",
       "1                     1                7                    3   \n",
       "2                     1                3                    2   \n",
       "3                     1                1                    0   \n",
       "4                     2                3                    1   \n",
       "...                 ...              ...                  ...   \n",
       "2235                  2                5                    2   \n",
       "2236                  1                1                    0   \n",
       "2237                  2                6                    1   \n",
       "2238                  1                5                    4   \n",
       "2239                  1                8                    5   \n",
       "\n",
       "      NumStorePurchases  NumWebVisitsMonth  Response  Complain  Postgrad  \\\n",
       "0                     6                  1         1         0         0   \n",
       "1                     7                  5         1         0         0   \n",
       "2                     5                  2         0         0         0   \n",
       "3                     2                  7         0         0         0   \n",
       "4                     2                  7         1         0         0   \n",
       "...                 ...                ...       ...       ...       ...   \n",
       "2235                 11                  4         0         0         1   \n",
       "2236                  3                  8         0         0         1   \n",
       "2237                  5                  8         0         0         0   \n",
       "2238                 10                  3         0         0         0   \n",
       "2239                  4                  7         1         0         1   \n",
       "\n",
       "      Undergrad  \n",
       "0             1  \n",
       "1             1  \n",
       "2             1  \n",
       "3             1  \n",
       "4             1  \n",
       "...         ...  \n",
       "2235          0  \n",
       "2236          0  \n",
       "2237          1  \n",
       "2238          1  \n",
       "2239          0  \n",
       "\n",
       "[2213 rows x 23 columns]"
      ]
     },
     "execution_count": 11,
     "metadata": {},
     "output_type": "execute_result"
    }
   ],
   "source": [
    "superstore_data"
   ]
  },
  {
   "cell_type": "markdown",
   "id": "ca7c15f7",
   "metadata": {
    "papermill": {
     "duration": 0.012562,
     "end_time": "2023-01-03T23:43:18.668938",
     "exception": false,
     "start_time": "2023-01-03T23:43:18.656376",
     "status": "completed"
    },
    "tags": []
   },
   "source": [
    "# Marital Status\n",
    "We see some invalid answers to the question such as \"Absurd\", \"Alone\", and \"YOLO\". We remove these as there are only 2/3 entries.\n",
    "\n",
    "We group together Divorced and Widow, as they represent some break in partnership and there are not such a substantial amount of widowers that they require a category."
   ]
  },
  {
   "cell_type": "code",
   "execution_count": 12,
   "id": "5701c129",
   "metadata": {
    "execution": {
     "iopub.execute_input": "2023-01-03T23:43:18.696379Z",
     "iopub.status.busy": "2023-01-03T23:43:18.695927Z",
     "iopub.status.idle": "2023-01-03T23:43:18.707331Z",
     "shell.execute_reply": "2023-01-03T23:43:18.706144Z"
    },
    "papermill": {
     "duration": 0.027997,
     "end_time": "2023-01-03T23:43:18.709728",
     "exception": false,
     "start_time": "2023-01-03T23:43:18.681731",
     "status": "completed"
    },
    "tags": []
   },
   "outputs": [
    {
     "data": {
      "text/plain": [
       "(array(['Absurd', 'Alone', 'Divorced', 'Married', 'Single', 'Together',\n",
       "        'Widow', 'YOLO'], dtype=object),\n",
       " array([  2,   3, 231, 857, 470, 572,  76,   2]))"
      ]
     },
     "execution_count": 12,
     "metadata": {},
     "output_type": "execute_result"
    }
   ],
   "source": [
    "np.unique(superstore_data[\"Marital_Status\"],return_counts=True)"
   ]
  },
  {
   "cell_type": "code",
   "execution_count": 13,
   "id": "678b812c",
   "metadata": {
    "execution": {
     "iopub.execute_input": "2023-01-03T23:43:18.737635Z",
     "iopub.status.busy": "2023-01-03T23:43:18.737201Z",
     "iopub.status.idle": "2023-01-03T23:43:18.748403Z",
     "shell.execute_reply": "2023-01-03T23:43:18.746807Z"
    },
    "papermill": {
     "duration": 0.028081,
     "end_time": "2023-01-03T23:43:18.751010",
     "exception": false,
     "start_time": "2023-01-03T23:43:18.722929",
     "status": "completed"
    },
    "tags": []
   },
   "outputs": [
    {
     "name": "stderr",
     "output_type": "stream",
     "text": [
      "/opt/conda/lib/python3.7/site-packages/ipykernel_launcher.py:4: SettingWithCopyWarning: \n",
      "A value is trying to be set on a copy of a slice from a DataFrame.\n",
      "Try using .loc[row_indexer,col_indexer] = value instead\n",
      "\n",
      "See the caveats in the documentation: https://pandas.pydata.org/pandas-docs/stable/user_guide/indexing.html#returning-a-view-versus-a-copy\n",
      "  after removing the cwd from sys.path.\n"
     ]
    }
   ],
   "source": [
    "superstore_data = superstore_data[~superstore_data[\"Marital_Status\"].isin([\"Absurd\",\"Alone\",\"YOLO\"])]\n",
    "\n",
    "marital_mapping = {\"Divorced\":\"Seperated\",\"Married\":\"Married\",\"Single\":\"Single\",\"Together\":\"Together\",\"Widow\":\"Seperated\"}\n",
    "superstore_data[\"Marital_Status\"] = superstore_data[\"Marital_Status\"].map(marital_mapping)"
   ]
  },
  {
   "cell_type": "code",
   "execution_count": 14,
   "id": "71600cff",
   "metadata": {
    "execution": {
     "iopub.execute_input": "2023-01-03T23:43:18.779060Z",
     "iopub.status.busy": "2023-01-03T23:43:18.778615Z",
     "iopub.status.idle": "2023-01-03T23:43:18.788243Z",
     "shell.execute_reply": "2023-01-03T23:43:18.786848Z"
    },
    "papermill": {
     "duration": 0.026155,
     "end_time": "2023-01-03T23:43:18.790630",
     "exception": false,
     "start_time": "2023-01-03T23:43:18.764475",
     "status": "completed"
    },
    "tags": []
   },
   "outputs": [
    {
     "data": {
      "text/plain": [
       "(array(['Married', 'Seperated', 'Single', 'Together'], dtype=object),\n",
       " array([857, 307, 470, 572]))"
      ]
     },
     "execution_count": 14,
     "metadata": {},
     "output_type": "execute_result"
    }
   ],
   "source": [
    "np.unique(superstore_data[\"Marital_Status\"],return_counts=True)"
   ]
  },
  {
   "cell_type": "code",
   "execution_count": 15,
   "id": "d6ec2b68",
   "metadata": {
    "execution": {
     "iopub.execute_input": "2023-01-03T23:43:18.818421Z",
     "iopub.status.busy": "2023-01-03T23:43:18.818020Z",
     "iopub.status.idle": "2023-01-03T23:43:18.829104Z",
     "shell.execute_reply": "2023-01-03T23:43:18.827850Z"
    },
    "papermill": {
     "duration": 0.028255,
     "end_time": "2023-01-03T23:43:18.831884",
     "exception": false,
     "start_time": "2023-01-03T23:43:18.803629",
     "status": "completed"
    },
    "tags": []
   },
   "outputs": [],
   "source": [
    "marital_dummy = pd.get_dummies(superstore_data[\"Marital_Status\"])\n",
    "marital_dummy = marital_dummy.drop([\"Single\"],axis=1)\n",
    "superstore_data = pd.concat([superstore_data,marital_dummy],axis = 1)\n",
    "superstore_data = superstore_data.drop([\"Marital_Status\"],axis=1)"
   ]
  },
  {
   "cell_type": "markdown",
   "id": "b7a07a04",
   "metadata": {
    "papermill": {
     "duration": 0.012482,
     "end_time": "2023-01-03T23:43:18.857360",
     "exception": false,
     "start_time": "2023-01-03T23:43:18.844878",
     "status": "completed"
    },
    "tags": []
   },
   "source": [
    "# Income\n",
    "We see that none of the outliers redeemed the offer. With this in mind we (probably incorrectly depending on more data) exclude higher income than 118667.25\n",
    "\n",
    "We standardise Income and test normality under some standard transforms. We see that the untransformed data now follows a very standard looking normal curve, so we use this."
   ]
  },
  {
   "cell_type": "code",
   "execution_count": 16,
   "id": "7945aa03",
   "metadata": {
    "execution": {
     "iopub.execute_input": "2023-01-03T23:43:18.884849Z",
     "iopub.status.busy": "2023-01-03T23:43:18.884395Z",
     "iopub.status.idle": "2023-01-03T23:43:18.913494Z",
     "shell.execute_reply": "2023-01-03T23:43:18.911859Z"
    },
    "papermill": {
     "duration": 0.046173,
     "end_time": "2023-01-03T23:43:18.916406",
     "exception": false,
     "start_time": "2023-01-03T23:43:18.870233",
     "status": "completed"
    },
    "tags": []
   },
   "outputs": [
    {
     "name": "stdout",
     "output_type": "stream",
     "text": [
      "Lower bound: -14866.75 | Upper bound: 118667.25\n",
      "Outliers : [157146.0, 160803.0, 666666.0, 162397.0, 157733.0, 153924.0, 156924.0, 157243.0]\n"
     ]
    },
    {
     "data": {
      "text/html": [
       "<div>\n",
       "<style scoped>\n",
       "    .dataframe tbody tr th:only-of-type {\n",
       "        vertical-align: middle;\n",
       "    }\n",
       "\n",
       "    .dataframe tbody tr th {\n",
       "        vertical-align: top;\n",
       "    }\n",
       "\n",
       "    .dataframe thead th {\n",
       "        text-align: right;\n",
       "    }\n",
       "</style>\n",
       "<table border=\"1\" class=\"dataframe\">\n",
       "  <thead>\n",
       "    <tr style=\"text-align: right;\">\n",
       "      <th></th>\n",
       "      <th>Id</th>\n",
       "      <th>Year_Birth</th>\n",
       "      <th>Income</th>\n",
       "      <th>Kidhome</th>\n",
       "      <th>Teenhome</th>\n",
       "      <th>Dt_Customer</th>\n",
       "      <th>Recency</th>\n",
       "      <th>MntWines</th>\n",
       "      <th>MntFruits</th>\n",
       "      <th>MntMeatProducts</th>\n",
       "      <th>...</th>\n",
       "      <th>NumCatalogPurchases</th>\n",
       "      <th>NumStorePurchases</th>\n",
       "      <th>NumWebVisitsMonth</th>\n",
       "      <th>Response</th>\n",
       "      <th>Complain</th>\n",
       "      <th>Postgrad</th>\n",
       "      <th>Undergrad</th>\n",
       "      <th>Married</th>\n",
       "      <th>Seperated</th>\n",
       "      <th>Together</th>\n",
       "    </tr>\n",
       "  </thead>\n",
       "  <tbody>\n",
       "    <tr>\n",
       "      <th>325</th>\n",
       "      <td>4931</td>\n",
       "      <td>0.554217</td>\n",
       "      <td>157146.0</td>\n",
       "      <td>0</td>\n",
       "      <td>0</td>\n",
       "      <td>4/29/2013</td>\n",
       "      <td>13</td>\n",
       "      <td>1</td>\n",
       "      <td>0</td>\n",
       "      <td>1725</td>\n",
       "      <td>...</td>\n",
       "      <td>28</td>\n",
       "      <td>0</td>\n",
       "      <td>1</td>\n",
       "      <td>0</td>\n",
       "      <td>0</td>\n",
       "      <td>0</td>\n",
       "      <td>1</td>\n",
       "      <td>0</td>\n",
       "      <td>0</td>\n",
       "      <td>1</td>\n",
       "    </tr>\n",
       "    <tr>\n",
       "      <th>497</th>\n",
       "      <td>1501</td>\n",
       "      <td>0.493976</td>\n",
       "      <td>160803.0</td>\n",
       "      <td>0</td>\n",
       "      <td>0</td>\n",
       "      <td>4/8/2012</td>\n",
       "      <td>21</td>\n",
       "      <td>55</td>\n",
       "      <td>16</td>\n",
       "      <td>1622</td>\n",
       "      <td>...</td>\n",
       "      <td>28</td>\n",
       "      <td>1</td>\n",
       "      <td>0</td>\n",
       "      <td>0</td>\n",
       "      <td>0</td>\n",
       "      <td>1</td>\n",
       "      <td>0</td>\n",
       "      <td>1</td>\n",
       "      <td>0</td>\n",
       "      <td>0</td>\n",
       "    </tr>\n",
       "    <tr>\n",
       "      <th>527</th>\n",
       "      <td>9432</td>\n",
       "      <td>0.554217</td>\n",
       "      <td>666666.0</td>\n",
       "      <td>1</td>\n",
       "      <td>0</td>\n",
       "      <td>2/6/2013</td>\n",
       "      <td>23</td>\n",
       "      <td>9</td>\n",
       "      <td>14</td>\n",
       "      <td>18</td>\n",
       "      <td>...</td>\n",
       "      <td>1</td>\n",
       "      <td>3</td>\n",
       "      <td>6</td>\n",
       "      <td>0</td>\n",
       "      <td>0</td>\n",
       "      <td>0</td>\n",
       "      <td>1</td>\n",
       "      <td>0</td>\n",
       "      <td>0</td>\n",
       "      <td>1</td>\n",
       "    </tr>\n",
       "    <tr>\n",
       "      <th>731</th>\n",
       "      <td>1503</td>\n",
       "      <td>0.566265</td>\n",
       "      <td>162397.0</td>\n",
       "      <td>1</td>\n",
       "      <td>1</td>\n",
       "      <td>3/6/2013</td>\n",
       "      <td>31</td>\n",
       "      <td>85</td>\n",
       "      <td>1</td>\n",
       "      <td>16</td>\n",
       "      <td>...</td>\n",
       "      <td>0</td>\n",
       "      <td>1</td>\n",
       "      <td>1</td>\n",
       "      <td>0</td>\n",
       "      <td>0</td>\n",
       "      <td>1</td>\n",
       "      <td>0</td>\n",
       "      <td>0</td>\n",
       "      <td>0</td>\n",
       "      <td>1</td>\n",
       "    </tr>\n",
       "    <tr>\n",
       "      <th>853</th>\n",
       "      <td>5336</td>\n",
       "      <td>0.626506</td>\n",
       "      <td>157733.0</td>\n",
       "      <td>1</td>\n",
       "      <td>0</td>\n",
       "      <td>4/6/2013</td>\n",
       "      <td>37</td>\n",
       "      <td>39</td>\n",
       "      <td>1</td>\n",
       "      <td>9</td>\n",
       "      <td>...</td>\n",
       "      <td>0</td>\n",
       "      <td>1</td>\n",
       "      <td>1</td>\n",
       "      <td>0</td>\n",
       "      <td>0</td>\n",
       "      <td>1</td>\n",
       "      <td>0</td>\n",
       "      <td>0</td>\n",
       "      <td>0</td>\n",
       "      <td>1</td>\n",
       "    </tr>\n",
       "    <tr>\n",
       "      <th>1826</th>\n",
       "      <td>5555</td>\n",
       "      <td>0.578313</td>\n",
       "      <td>153924.0</td>\n",
       "      <td>0</td>\n",
       "      <td>0</td>\n",
       "      <td>7/2/2014</td>\n",
       "      <td>81</td>\n",
       "      <td>1</td>\n",
       "      <td>1</td>\n",
       "      <td>1</td>\n",
       "      <td>...</td>\n",
       "      <td>0</td>\n",
       "      <td>0</td>\n",
       "      <td>0</td>\n",
       "      <td>0</td>\n",
       "      <td>0</td>\n",
       "      <td>0</td>\n",
       "      <td>1</td>\n",
       "      <td>0</td>\n",
       "      <td>1</td>\n",
       "      <td>0</td>\n",
       "    </tr>\n",
       "    <tr>\n",
       "      <th>1925</th>\n",
       "      <td>11181</td>\n",
       "      <td>0.891566</td>\n",
       "      <td>156924.0</td>\n",
       "      <td>0</td>\n",
       "      <td>0</td>\n",
       "      <td>8/29/2013</td>\n",
       "      <td>85</td>\n",
       "      <td>2</td>\n",
       "      <td>1</td>\n",
       "      <td>2</td>\n",
       "      <td>...</td>\n",
       "      <td>0</td>\n",
       "      <td>0</td>\n",
       "      <td>0</td>\n",
       "      <td>0</td>\n",
       "      <td>0</td>\n",
       "      <td>1</td>\n",
       "      <td>0</td>\n",
       "      <td>1</td>\n",
       "      <td>0</td>\n",
       "      <td>0</td>\n",
       "    </tr>\n",
       "    <tr>\n",
       "      <th>2204</th>\n",
       "      <td>8475</td>\n",
       "      <td>0.602410</td>\n",
       "      <td>157243.0</td>\n",
       "      <td>0</td>\n",
       "      <td>1</td>\n",
       "      <td>1/3/2014</td>\n",
       "      <td>98</td>\n",
       "      <td>20</td>\n",
       "      <td>2</td>\n",
       "      <td>1582</td>\n",
       "      <td>...</td>\n",
       "      <td>22</td>\n",
       "      <td>0</td>\n",
       "      <td>0</td>\n",
       "      <td>0</td>\n",
       "      <td>0</td>\n",
       "      <td>1</td>\n",
       "      <td>0</td>\n",
       "      <td>1</td>\n",
       "      <td>0</td>\n",
       "      <td>0</td>\n",
       "    </tr>\n",
       "  </tbody>\n",
       "</table>\n",
       "<p>8 rows × 25 columns</p>\n",
       "</div>"
      ],
      "text/plain": [
       "         Id  Year_Birth    Income  Kidhome  Teenhome Dt_Customer  Recency  \\\n",
       "325    4931    0.554217  157146.0        0         0   4/29/2013       13   \n",
       "497    1501    0.493976  160803.0        0         0    4/8/2012       21   \n",
       "527    9432    0.554217  666666.0        1         0    2/6/2013       23   \n",
       "731    1503    0.566265  162397.0        1         1    3/6/2013       31   \n",
       "853    5336    0.626506  157733.0        1         0    4/6/2013       37   \n",
       "1826   5555    0.578313  153924.0        0         0    7/2/2014       81   \n",
       "1925  11181    0.891566  156924.0        0         0   8/29/2013       85   \n",
       "2204   8475    0.602410  157243.0        0         1    1/3/2014       98   \n",
       "\n",
       "      MntWines  MntFruits  MntMeatProducts  ...  NumCatalogPurchases  \\\n",
       "325          1          0             1725  ...                   28   \n",
       "497         55         16             1622  ...                   28   \n",
       "527          9         14               18  ...                    1   \n",
       "731         85          1               16  ...                    0   \n",
       "853         39          1                9  ...                    0   \n",
       "1826         1          1                1  ...                    0   \n",
       "1925         2          1                2  ...                    0   \n",
       "2204        20          2             1582  ...                   22   \n",
       "\n",
       "      NumStorePurchases  NumWebVisitsMonth  Response  Complain  Postgrad  \\\n",
       "325                   0                  1         0         0         0   \n",
       "497                   1                  0         0         0         1   \n",
       "527                   3                  6         0         0         0   \n",
       "731                   1                  1         0         0         1   \n",
       "853                   1                  1         0         0         1   \n",
       "1826                  0                  0         0         0         0   \n",
       "1925                  0                  0         0         0         1   \n",
       "2204                  0                  0         0         0         1   \n",
       "\n",
       "      Undergrad  Married  Seperated  Together  \n",
       "325           1        0          0         1  \n",
       "497           0        1          0         0  \n",
       "527           1        0          0         1  \n",
       "731           0        0          0         1  \n",
       "853           0        0          0         1  \n",
       "1826          1        0          1         0  \n",
       "1925          0        1          0         0  \n",
       "2204          0        1          0         0  \n",
       "\n",
       "[8 rows x 25 columns]"
      ]
     },
     "execution_count": 16,
     "metadata": {},
     "output_type": "execute_result"
    }
   ],
   "source": [
    "superstore_data.iloc[find_iqr_outliers(superstore_data[\"Income\"])[0]]"
   ]
  },
  {
   "cell_type": "markdown",
   "id": "d1c71741",
   "metadata": {
    "papermill": {
     "duration": 0.013666,
     "end_time": "2023-01-03T23:43:18.943848",
     "exception": false,
     "start_time": "2023-01-03T23:43:18.930182",
     "status": "completed"
    },
    "tags": []
   },
   "source": []
  },
  {
   "cell_type": "code",
   "execution_count": 17,
   "id": "27e21137",
   "metadata": {
    "execution": {
     "iopub.execute_input": "2023-01-03T23:43:18.974172Z",
     "iopub.status.busy": "2023-01-03T23:43:18.973692Z",
     "iopub.status.idle": "2023-01-03T23:43:18.983322Z",
     "shell.execute_reply": "2023-01-03T23:43:18.982380Z"
    },
    "papermill": {
     "duration": 0.027464,
     "end_time": "2023-01-03T23:43:18.985835",
     "exception": false,
     "start_time": "2023-01-03T23:43:18.958371",
     "status": "completed"
    },
    "tags": []
   },
   "outputs": [
    {
     "name": "stdout",
     "output_type": "stream",
     "text": [
      "Lower bound: -14866.75 | Upper bound: 118667.25\n",
      "Outliers : [157146.0, 160803.0, 666666.0, 162397.0, 157733.0, 153924.0, 156924.0, 157243.0]\n"
     ]
    }
   ],
   "source": [
    "superstore_data = superstore_data.drop(superstore_data.index[find_iqr_outliers(superstore_data[\"Income\"])[0]])"
   ]
  },
  {
   "cell_type": "code",
   "execution_count": 18,
   "id": "efd7b41b",
   "metadata": {
    "execution": {
     "iopub.execute_input": "2023-01-03T23:43:19.015708Z",
     "iopub.status.busy": "2023-01-03T23:43:19.015295Z",
     "iopub.status.idle": "2023-01-03T23:43:19.959138Z",
     "shell.execute_reply": "2023-01-03T23:43:19.957514Z"
    },
    "papermill": {
     "duration": 0.962733,
     "end_time": "2023-01-03T23:43:19.962534",
     "exception": false,
     "start_time": "2023-01-03T23:43:18.999801",
     "status": "completed"
    },
    "tags": []
   },
   "outputs": [
    {
     "name": "stdout",
     "output_type": "stream",
     "text": [
      "[  1730.   2447.   3502. ... 102692. 105471. 113734.]\n",
      "ShapiroResult(statistic=0.9844251871109009, pvalue=9.100666827934183e-15)\n",
      "9.098097777005161e-15\n",
      "1.735088069189253e-33\n",
      "4.779152866656835e-23\n"
     ]
    },
    {
     "data": {
      "image/png": "[encoded data removed]",
      "text/plain": [
       "<Figure size 1296x504 with 6 Axes>"
      ]
     },
     "metadata": {
      "needs_background": "light"
     },
     "output_type": "display_data"
    }
   ],
   "source": [
    "fig, axes = plt.subplots(nrows=2, ncols=3, figsize=(18, 7))\n",
    "print(np.sort(superstore_data[\"Income\"]))\n",
    "proposals = [superstore_data[\"Income\"],\n",
    "            np.log(superstore_data[\"Income\"]),\n",
    "            np.power(superstore_data[\"Income\"],1/3)]\n",
    "proposal_titles = [\"No Transformation\",\"Log Transform\",\"Cube Root Transform\"]\n",
    "\n",
    "print(shapiro(scale(list(superstore_data[\"Income\"]))))\n",
    "\n",
    "for i in range(3):\n",
    "    axes[0,i].hist(proposals[i])\n",
    "    axes[1,i].hist(scale(proposals[i]))\n",
    "    print(shapiro(np.array(proposals[i])).pvalue)\n",
    "    axes[1,i].set_title(proposal_titles[i] + \" -> pvalue = \" + str(shapiro(scale(list(proposals[i]))).pvalue))\n",
    "fig.show()"
   ]
  },
  {
   "cell_type": "code",
   "execution_count": 19,
   "id": "5f454905",
   "metadata": {
    "execution": {
     "iopub.execute_input": "2023-01-03T23:43:19.994204Z",
     "iopub.status.busy": "2023-01-03T23:43:19.993742Z",
     "iopub.status.idle": "2023-01-03T23:43:20.000914Z",
     "shell.execute_reply": "2023-01-03T23:43:19.999519Z"
    },
    "papermill": {
     "duration": 0.025978,
     "end_time": "2023-01-03T23:43:20.003240",
     "exception": false,
     "start_time": "2023-01-03T23:43:19.977262",
     "status": "completed"
    },
    "tags": []
   },
   "outputs": [],
   "source": [
    "superstore_data[\"Income\"] = scale(superstore_data[\"Income\"])"
   ]
  },
  {
   "cell_type": "markdown",
   "id": "f1dbaadd",
   "metadata": {
    "papermill": {
     "duration": 0.014209,
     "end_time": "2023-01-03T23:43:20.031705",
     "exception": false,
     "start_time": "2023-01-03T23:43:20.017496",
     "status": "completed"
    },
    "tags": []
   },
   "source": [
    "# Kidhome and Teenhome\n",
    "\n",
    "For both categories, we see that there is a very small amount of households with value 2, hence we turn this into a binary predictor of either having a kidhome/teenhome or not."
   ]
  },
  {
   "cell_type": "code",
   "execution_count": 20,
   "id": "f6cb33a0",
   "metadata": {
    "execution": {
     "iopub.execute_input": "2023-01-03T23:43:20.062300Z",
     "iopub.status.busy": "2023-01-03T23:43:20.061864Z",
     "iopub.status.idle": "2023-01-03T23:43:20.074205Z",
     "shell.execute_reply": "2023-01-03T23:43:20.072486Z"
    },
    "papermill": {
     "duration": 0.030566,
     "end_time": "2023-01-03T23:43:20.076587",
     "exception": false,
     "start_time": "2023-01-03T23:43:20.046021",
     "status": "completed"
    },
    "tags": []
   },
   "outputs": [
    {
     "name": "stdout",
     "output_type": "stream",
     "text": [
      "Kids home: (array([0, 1, 2]), array([1272,  880,   46]))  --->  Has Kids: (array([0, 1]), array([1272,  926]))\n",
      "Teen home: (array([0, 1, 2]), array([1136, 1011,   51]))  --->  Has Teens: (array([0, 1]), array([1136, 1062]))\n"
     ]
    }
   ],
   "source": [
    "original_kidhome = superstore_data[\"Kidhome\"]\n",
    "new_kidhome = (superstore_data[\"Kidhome\"]>0).astype(int)\n",
    "original_teenhome = superstore_data[\"Teenhome\"]\n",
    "new_teenhome = (superstore_data[\"Teenhome\"]>0).astype(int)\n",
    "print(\"Kids home: \"+ str(np.unique(original_kidhome,return_counts=True)) + \"  --->  Has Kids: \" + str(np.unique(new_kidhome,return_counts=True)))\n",
    "print(\"Teen home: \"+ str(np.unique(original_teenhome,return_counts=True)) + \"  --->  Has Teens: \" + str(np.unique(new_teenhome,return_counts=True)))"
   ]
  },
  {
   "cell_type": "code",
   "execution_count": 21,
   "id": "ad4b5913",
   "metadata": {
    "execution": {
     "iopub.execute_input": "2023-01-03T23:43:20.107612Z",
     "iopub.status.busy": "2023-01-03T23:43:20.106422Z",
     "iopub.status.idle": "2023-01-03T23:43:20.113401Z",
     "shell.execute_reply": "2023-01-03T23:43:20.112373Z"
    },
    "papermill": {
     "duration": 0.025095,
     "end_time": "2023-01-03T23:43:20.115906",
     "exception": false,
     "start_time": "2023-01-03T23:43:20.090811",
     "status": "completed"
    },
    "tags": []
   },
   "outputs": [],
   "source": [
    "superstore_data[\"Kidhome\"] = (superstore_data[\"Kidhome\"]>0).astype(int)\n",
    "superstore_data[\"Teenhome\"] = (superstore_data[\"Teenhome\"]>0).astype(int)"
   ]
  },
  {
   "cell_type": "markdown",
   "id": "5bce79cb",
   "metadata": {
    "papermill": {
     "duration": 0.014478,
     "end_time": "2023-01-03T23:43:20.144865",
     "exception": false,
     "start_time": "2023-01-03T23:43:20.130387",
     "status": "completed"
    },
    "tags": []
   },
   "source": [
    "# Dt_Customer\n",
    "We assume that the day of the week/month **WILL NOT** have a major effect on the outcome.\n",
    "\n",
    "We take the year and month of sign-up as features. With the years being transformed into years since sign up, and having the month encoded using a sine-cosine transformation into a continuous 2D space (for now, could refactor this into onehot encoding)\n"
   ]
  },
  {
   "cell_type": "code",
   "execution_count": 22,
   "id": "357009ea",
   "metadata": {
    "execution": {
     "iopub.execute_input": "2023-01-03T23:43:20.176847Z",
     "iopub.status.busy": "2023-01-03T23:43:20.175879Z",
     "iopub.status.idle": "2023-01-03T23:43:20.465758Z",
     "shell.execute_reply": "2023-01-03T23:43:20.464497Z"
    },
    "papermill": {
     "duration": 0.308666,
     "end_time": "2023-01-03T23:43:20.468152",
     "exception": false,
     "start_time": "2023-01-03T23:43:20.159486",
     "status": "completed"
    },
    "tags": []
   },
   "outputs": [
    {
     "data": {
      "image/png": "[encoded data removed]",
      "text/plain": [
       "<Figure size 432x288 with 1 Axes>"
      ]
     },
     "metadata": {
      "needs_background": "light"
     },
     "output_type": "display_data"
    }
   ],
   "source": [
    "import datetime\n",
    "from math import sin, cos, pi\n",
    "dttm_cust = pd.to_datetime(superstore_data[\"Dt_Customer\"],format=\"%m/%d/%Y\")\n",
    "\n",
    "sin_time = dttm_cust.map(lambda dt: sin(2* pi * dt.month/12))\n",
    "cos_time = dttm_cust.map(lambda dt: cos(2* pi * dt.month/12))\n",
    "\n",
    "years_customer = dttm_cust.map(lambda dt: 2023-dt.year)\n",
    "plt.hist(years_customer)\n",
    "years_customer /= max(years_customer)\n",
    "\n",
    "superstore_data = superstore_data.drop(['Dt_Customer'],axis=1)\n",
    "\n",
    "superstore_data[\"Customer_Month_Sin\"] = sin_time\n",
    "superstore_data[\"Customer_Month_Cos\"] = cos_time\n",
    "superstore_data[\"Customer_Years\"] = years_customer"
   ]
  },
  {
   "cell_type": "markdown",
   "id": "e0fc6417",
   "metadata": {
    "execution": {
     "iopub.execute_input": "2023-01-03T21:21:15.558327Z",
     "iopub.status.busy": "2023-01-03T21:21:15.557718Z",
     "iopub.status.idle": "2023-01-03T21:21:15.595330Z",
     "shell.execute_reply": "2023-01-03T21:21:15.593684Z",
     "shell.execute_reply.started": "2023-01-03T21:21:15.558281Z"
    },
    "papermill": {
     "duration": 0.014653,
     "end_time": "2023-01-03T23:43:20.498230",
     "exception": false,
     "start_time": "2023-01-03T23:43:20.483577",
     "status": "completed"
    },
    "tags": []
   },
   "source": [
    "# Recency\n",
    "\n",
    "As we can see outliers above 100 do not exist, we normalise data from 0-100 to 0-1"
   ]
  },
  {
   "cell_type": "code",
   "execution_count": 23,
   "id": "9fd4b044",
   "metadata": {
    "execution": {
     "iopub.execute_input": "2023-01-03T23:43:20.529873Z",
     "iopub.status.busy": "2023-01-03T23:43:20.528526Z",
     "iopub.status.idle": "2023-01-03T23:43:20.750748Z",
     "shell.execute_reply": "2023-01-03T23:43:20.749621Z"
    },
    "papermill": {
     "duration": 0.240602,
     "end_time": "2023-01-03T23:43:20.753340",
     "exception": false,
     "start_time": "2023-01-03T23:43:20.512738",
     "status": "completed"
    },
    "tags": []
   },
   "outputs": [
    {
     "data": {
      "text/plain": [
       "(array([230., 218., 231., 209., 212., 230., 211., 223., 221., 213.]),\n",
       " array([ 0. ,  9.9, 19.8, 29.7, 39.6, 49.5, 59.4, 69.3, 79.2, 89.1, 99. ]),\n",
       " <BarContainer object of 10 artists>)"
      ]
     },
     "execution_count": 23,
     "metadata": {},
     "output_type": "execute_result"
    },
    {
     "data": {
      "image/png": "[encoded data removed]",
      "text/plain": [
       "<Figure size 432x288 with 1 Axes>"
      ]
     },
     "metadata": {
      "needs_background": "light"
     },
     "output_type": "display_data"
    }
   ],
   "source": [
    "plt.hist(superstore_data[\"Recency\"])"
   ]
  },
  {
   "cell_type": "code",
   "execution_count": 24,
   "id": "928c2575",
   "metadata": {
    "execution": {
     "iopub.execute_input": "2023-01-03T23:43:20.785452Z",
     "iopub.status.busy": "2023-01-03T23:43:20.784694Z",
     "iopub.status.idle": "2023-01-03T23:43:20.791112Z",
     "shell.execute_reply": "2023-01-03T23:43:20.790033Z"
    },
    "papermill": {
     "duration": 0.0254,
     "end_time": "2023-01-03T23:43:20.793796",
     "exception": false,
     "start_time": "2023-01-03T23:43:20.768396",
     "status": "completed"
    },
    "tags": []
   },
   "outputs": [],
   "source": [
    "superstore_data[\"Recency\"] = superstore_data[\"Recency\"]/100"
   ]
  },
  {
   "cell_type": "markdown",
   "id": "2cb705ff",
   "metadata": {
    "execution": {
     "iopub.execute_input": "2023-01-03T21:54:53.619744Z",
     "iopub.status.busy": "2023-01-03T21:54:53.619259Z",
     "iopub.status.idle": "2023-01-03T21:54:53.628822Z",
     "shell.execute_reply": "2023-01-03T21:54:53.627153Z",
     "shell.execute_reply.started": "2023-01-03T21:54:53.619709Z"
    },
    "papermill": {
     "duration": 0.01445,
     "end_time": "2023-01-03T23:43:20.823478",
     "exception": false,
     "start_time": "2023-01-03T23:43:20.809028",
     "status": "completed"
    },
    "tags": []
   },
   "source": [
    "# Amount Spent in Category\n",
    "\n",
    "We see immediately that each category is largely expontentially distributed.\n",
    "\n",
    "We test both the log transform and the standardised log transform to visualise the data. We see from observation that we could excuse using a standardised approach for Meat and Gold, but for uniformality, we will use a normalisation between 0 and 1 of the log transform to make predictors more understandable"
   ]
  },
  {
   "cell_type": "code",
   "execution_count": 25,
   "id": "6d874470",
   "metadata": {
    "execution": {
     "iopub.execute_input": "2023-01-03T23:43:20.855161Z",
     "iopub.status.busy": "2023-01-03T23:43:20.854735Z",
     "iopub.status.idle": "2023-01-03T23:43:20.860793Z",
     "shell.execute_reply": "2023-01-03T23:43:20.859423Z"
    },
    "papermill": {
     "duration": 0.024633,
     "end_time": "2023-01-03T23:43:20.863086",
     "exception": false,
     "start_time": "2023-01-03T23:43:20.838453",
     "status": "completed"
    },
    "tags": []
   },
   "outputs": [],
   "source": [
    "mnt_cols = [\"MntWines\",\"MntFruits\",\"MntMeatProducts\",\"MntFishProducts\",\"MntSweetProducts\",\"MntGoldProds\"]\n",
    "mnt_indices = [superstore_data.columns.get_loc(mnt_col) for mnt_col in mnt_cols]"
   ]
  },
  {
   "cell_type": "code",
   "execution_count": 26,
   "id": "e725f818",
   "metadata": {
    "execution": {
     "iopub.execute_input": "2023-01-03T23:43:20.895146Z",
     "iopub.status.busy": "2023-01-03T23:43:20.894743Z",
     "iopub.status.idle": "2023-01-03T23:43:20.907259Z",
     "shell.execute_reply": "2023-01-03T23:43:20.906346Z"
    },
    "papermill": {
     "duration": 0.030738,
     "end_time": "2023-01-03T23:43:20.909300",
     "exception": false,
     "start_time": "2023-01-03T23:43:20.878562",
     "status": "completed"
    },
    "tags": []
   },
   "outputs": [
    {
     "name": "stdout",
     "output_type": "stream",
     "text": [
      "1\n",
      "1\n",
      "1\n",
      "1\n",
      "1\n",
      "1\n"
     ]
    }
   ],
   "source": [
    "for i in range(len(mnt_indices)):\n",
    "    superstore_data.loc[superstore_data[mnt_cols[i]] == 0,mnt_cols[i]]=1\n",
    "    print(min(superstore_data[mnt_cols[i]]))"
   ]
  },
  {
   "cell_type": "code",
   "execution_count": 27,
   "id": "c6f2856a",
   "metadata": {
    "execution": {
     "iopub.execute_input": "2023-01-03T23:43:20.941644Z",
     "iopub.status.busy": "2023-01-03T23:43:20.940620Z",
     "iopub.status.idle": "2023-01-03T23:43:23.113473Z",
     "shell.execute_reply": "2023-01-03T23:43:23.112613Z"
    },
    "papermill": {
     "duration": 2.191609,
     "end_time": "2023-01-03T23:43:23.116102",
     "exception": false,
     "start_time": "2023-01-03T23:43:20.924493",
     "status": "completed"
    },
    "tags": []
   },
   "outputs": [
    {
     "data": {
      "image/png": "[encoded data removed]",
      "text/plain": [
       "<Figure size 1296x504 with 18 Axes>"
      ]
     },
     "metadata": {
      "needs_background": "light"
     },
     "output_type": "display_data"
    }
   ],
   "source": [
    "fig, axes = plt.subplots(nrows=3, ncols=len(mnt_indices), figsize=(18, 7))\n",
    "\n",
    "\n",
    "for i in range(len(mnt_indices)):\n",
    "    axes[0,i].hist(superstore_data[mnt_cols[i]])\n",
    "    axes[0,i].set_title(str(mnt_cols[i]))\n",
    "    log_transform = np.log(superstore_data[mnt_cols[i]])\n",
    "    axes[1,i].hist(log_transform/max(log_transform))\n",
    "    axes[2,i].hist(scale(log_transform))\n",
    "    "
   ]
  },
  {
   "cell_type": "code",
   "execution_count": 28,
   "id": "9ec72419",
   "metadata": {
    "execution": {
     "iopub.execute_input": "2023-01-03T23:43:23.149701Z",
     "iopub.status.busy": "2023-01-03T23:43:23.149095Z",
     "iopub.status.idle": "2023-01-03T23:43:23.159625Z",
     "shell.execute_reply": "2023-01-03T23:43:23.158359Z"
    },
    "papermill": {
     "duration": 0.030443,
     "end_time": "2023-01-03T23:43:23.162487",
     "exception": false,
     "start_time": "2023-01-03T23:43:23.132044",
     "status": "completed"
    },
    "tags": []
   },
   "outputs": [],
   "source": [
    "for i in range(len(mnt_indices)):\n",
    "    log_transform = np.log(superstore_data[mnt_cols[i]])\n",
    "    superstore_data[mnt_cols[i]] = log_transform/max(log_transform)"
   ]
  },
  {
   "cell_type": "markdown",
   "id": "17f773a4",
   "metadata": {
    "execution": {
     "iopub.execute_input": "2023-01-03T21:46:54.797063Z",
     "iopub.status.busy": "2023-01-03T21:46:54.796463Z",
     "iopub.status.idle": "2023-01-03T21:46:57.636153Z",
     "shell.execute_reply": "2023-01-03T21:46:57.634424Z",
     "shell.execute_reply.started": "2023-01-03T21:46:54.797011Z"
    },
    "papermill": {
     "duration": 0.014834,
     "end_time": "2023-01-03T23:43:23.192619",
     "exception": false,
     "start_time": "2023-01-03T23:43:23.177785",
     "status": "completed"
    },
    "tags": []
   },
   "source": [
    "# Number of Deals/WebPurchases/Catalog/Store/WebVisits"
   ]
  },
  {
   "cell_type": "code",
   "execution_count": 29,
   "id": "3bbefe17",
   "metadata": {
    "execution": {
     "iopub.execute_input": "2023-01-03T23:43:23.226052Z",
     "iopub.status.busy": "2023-01-03T23:43:23.225399Z",
     "iopub.status.idle": "2023-01-03T23:43:23.231035Z",
     "shell.execute_reply": "2023-01-03T23:43:23.230164Z"
    },
    "papermill": {
     "duration": 0.025079,
     "end_time": "2023-01-03T23:43:23.233239",
     "exception": false,
     "start_time": "2023-01-03T23:43:23.208160",
     "status": "completed"
    },
    "tags": []
   },
   "outputs": [],
   "source": [
    "num_cols = [\"NumDealsPurchases\",\n",
    "\"NumCatalogPurchases\",\n",
    "\"NumStorePurchases\",\n",
    "\"NumWebPurchases\",\n",
    "\"NumWebVisitsMonth\"]\n",
    "num_indices = [superstore_data.columns.get_loc(num_col) for num_col in num_cols]"
   ]
  },
  {
   "cell_type": "code",
   "execution_count": 30,
   "id": "51116a6e",
   "metadata": {
    "execution": {
     "iopub.execute_input": "2023-01-03T23:43:23.265868Z",
     "iopub.status.busy": "2023-01-03T23:43:23.265211Z",
     "iopub.status.idle": "2023-01-03T23:43:23.975686Z",
     "shell.execute_reply": "2023-01-03T23:43:23.974457Z"
    },
    "papermill": {
     "duration": 0.72988,
     "end_time": "2023-01-03T23:43:23.978292",
     "exception": false,
     "start_time": "2023-01-03T23:43:23.248412",
     "status": "completed"
    },
    "tags": []
   },
   "outputs": [
    {
     "data": {
      "image/png": "[encoded data removed]",
      "text/plain": [
       "<Figure size 1296x216 with 5 Axes>"
      ]
     },
     "metadata": {
      "needs_background": "light"
     },
     "output_type": "display_data"
    }
   ],
   "source": [
    "fig, axes = plt.subplots(nrows=1, ncols=len(num_cols), figsize=(18, 3))\n",
    "for i in range(len(num_indices)):\n",
    "    axes[i].hist(superstore_data[num_cols[i]])\n",
    "    axes[i].set_title(str(num_cols[i]))\n",
    "    "
   ]
  },
  {
   "cell_type": "code",
   "execution_count": 31,
   "id": "b0746307",
   "metadata": {
    "execution": {
     "iopub.execute_input": "2023-01-03T23:43:24.012977Z",
     "iopub.status.busy": "2023-01-03T23:43:24.012253Z",
     "iopub.status.idle": "2023-01-03T23:43:24.054779Z",
     "shell.execute_reply": "2023-01-03T23:43:24.053262Z"
    },
    "papermill": {
     "duration": 0.062656,
     "end_time": "2023-01-03T23:43:24.057271",
     "exception": false,
     "start_time": "2023-01-03T23:43:23.994615",
     "status": "completed"
    },
    "tags": []
   },
   "outputs": [
    {
     "name": "stdout",
     "output_type": "stream",
     "text": [
      "Lower bound: -2.0 | Upper bound: 6.0\n",
      "Outliers : [12, 12, 7, 11, 11, 9, 8, 7, 9, 10, 7, 11, 10, 12, 10, 8, 7, 7, 7, 11, 7, 15, 8, 9, 9, 7, 7, 9, 7, 10, 15, 7, 8, 7, 7, 9, 8, 8, 8, 7, 8, 7, 8, 7, 11, 7, 7, 7, 7, 7, 7, 7, 7, 8, 7, 9, 15, 7, 9, 15, 7, 7, 7, 8, 7, 8, 13, 13, 15, 8, 7, 7, 7, 8, 7, 13, 7, 7, 7, 7, 7, 10]\n",
      "Lower bound: -6.0 | Upper bound: 10.0\n",
      "Outliers : [11, 11, 11, 11, 11, 11, 11, 11, 28, 11, 11, 11, 11, 11, 11, 11, 11, 11, 11, 11]\n",
      "Lower bound: -4.5 | Upper bound: 15.5\n",
      "Outliers : []\n",
      "Lower bound: -4.0 | Upper bound: 12.0\n",
      "Outliers : [25, 27, 23]\n",
      "Lower bound: -3.0 | Upper bound: 13.0\n",
      "Outliers : [17, 14, 19, 14, 19, 20, 20, 20]\n"
     ]
    }
   ],
   "source": [
    "\n",
    "for i in range(len(num_indices)):\n",
    "    iqr_stats = find_iqr_outliers(superstore_data[num_cols[i]])\n",
    "    for index in iqr_stats[0][0]:\n",
    "        superstore_data.iloc[index,[num_indices[i]]] = iqr_stats[1][1]\n",
    "    superstore_data[num_cols[i]]/=max(superstore_data[num_cols[i]])"
   ]
  },
  {
   "cell_type": "code",
   "execution_count": 32,
   "id": "a346040c",
   "metadata": {
    "execution": {
     "iopub.execute_input": "2023-01-03T23:43:24.092097Z",
     "iopub.status.busy": "2023-01-03T23:43:24.091297Z",
     "iopub.status.idle": "2023-01-03T23:43:24.850782Z",
     "shell.execute_reply": "2023-01-03T23:43:24.849490Z"
    },
    "papermill": {
     "duration": 0.77938,
     "end_time": "2023-01-03T23:43:24.853309",
     "exception": false,
     "start_time": "2023-01-03T23:43:24.073929",
     "status": "completed"
    },
    "tags": []
   },
   "outputs": [
    {
     "data": {
      "image/png": "[encoded data removed]",
      "text/plain": [
       "<Figure size 1296x216 with 5 Axes>"
      ]
     },
     "metadata": {
      "needs_background": "light"
     },
     "output_type": "display_data"
    }
   ],
   "source": [
    "fig, axes = plt.subplots(nrows=1, ncols=len(num_cols), figsize=(18, 3))\n",
    "for i in range(len(num_indices)):\n",
    "    axes[i].hist(superstore_data[num_cols[i]])\n",
    "    axes[i].set_title(str(num_cols[i]))"
   ]
  },
  {
   "cell_type": "code",
   "execution_count": 33,
   "id": "dbbaeaea",
   "metadata": {
    "execution": {
     "iopub.execute_input": "2023-01-03T23:43:24.888664Z",
     "iopub.status.busy": "2023-01-03T23:43:24.888256Z",
     "iopub.status.idle": "2023-01-03T23:43:24.921192Z",
     "shell.execute_reply": "2023-01-03T23:43:24.920180Z"
    },
    "papermill": {
     "duration": 0.053095,
     "end_time": "2023-01-03T23:43:24.923659",
     "exception": false,
     "start_time": "2023-01-03T23:43:24.870564",
     "status": "completed"
    },
    "tags": []
   },
   "outputs": [
    {
     "data": {
      "text/html": [
       "<div>\n",
       "<style scoped>\n",
       "    .dataframe tbody tr th:only-of-type {\n",
       "        vertical-align: middle;\n",
       "    }\n",
       "\n",
       "    .dataframe tbody tr th {\n",
       "        vertical-align: top;\n",
       "    }\n",
       "\n",
       "    .dataframe thead th {\n",
       "        text-align: right;\n",
       "    }\n",
       "</style>\n",
       "<table border=\"1\" class=\"dataframe\">\n",
       "  <thead>\n",
       "    <tr style=\"text-align: right;\">\n",
       "      <th></th>\n",
       "      <th>Id</th>\n",
       "      <th>Year_Birth</th>\n",
       "      <th>Income</th>\n",
       "      <th>Kidhome</th>\n",
       "      <th>Teenhome</th>\n",
       "      <th>Recency</th>\n",
       "      <th>MntWines</th>\n",
       "      <th>MntFruits</th>\n",
       "      <th>MntMeatProducts</th>\n",
       "      <th>MntFishProducts</th>\n",
       "      <th>...</th>\n",
       "      <th>Response</th>\n",
       "      <th>Complain</th>\n",
       "      <th>Postgrad</th>\n",
       "      <th>Undergrad</th>\n",
       "      <th>Married</th>\n",
       "      <th>Seperated</th>\n",
       "      <th>Together</th>\n",
       "      <th>Customer_Month_Sin</th>\n",
       "      <th>Customer_Month_Cos</th>\n",
       "      <th>Customer_Years</th>\n",
       "    </tr>\n",
       "  </thead>\n",
       "  <tbody>\n",
       "    <tr>\n",
       "      <th>0</th>\n",
       "      <td>1826</td>\n",
       "      <td>0.638554</td>\n",
       "      <td>1.602923</td>\n",
       "      <td>0</td>\n",
       "      <td>0</td>\n",
       "      <td>0.00</td>\n",
       "      <td>0.717208</td>\n",
       "      <td>0.877409</td>\n",
       "      <td>0.796666</td>\n",
       "      <td>0.847521</td>\n",
       "      <td>...</td>\n",
       "      <td>1</td>\n",
       "      <td>0</td>\n",
       "      <td>0</td>\n",
       "      <td>1</td>\n",
       "      <td>0</td>\n",
       "      <td>1</td>\n",
       "      <td>0</td>\n",
       "      <td>1.224647e-16</td>\n",
       "      <td>-1.000000e+00</td>\n",
       "      <td>0.818182</td>\n",
       "    </tr>\n",
       "    <tr>\n",
       "      <th>1</th>\n",
       "      <td>1</td>\n",
       "      <td>0.746988</td>\n",
       "      <td>0.264153</td>\n",
       "      <td>0</td>\n",
       "      <td>0</td>\n",
       "      <td>0.00</td>\n",
       "      <td>0.840097</td>\n",
       "      <td>0.304052</td>\n",
       "      <td>0.558016</td>\n",
       "      <td>0.350184</td>\n",
       "      <td>...</td>\n",
       "      <td>1</td>\n",
       "      <td>0</td>\n",
       "      <td>0</td>\n",
       "      <td>1</td>\n",
       "      <td>0</td>\n",
       "      <td>0</td>\n",
       "      <td>0</td>\n",
       "      <td>1.224647e-16</td>\n",
       "      <td>-1.000000e+00</td>\n",
       "      <td>0.818182</td>\n",
       "    </tr>\n",
       "    <tr>\n",
       "      <th>2</th>\n",
       "      <td>10476</td>\n",
       "      <td>0.783133</td>\n",
       "      <td>0.755190</td>\n",
       "      <td>0</td>\n",
       "      <td>1</td>\n",
       "      <td>0.00</td>\n",
       "      <td>0.670153</td>\n",
       "      <td>0.453005</td>\n",
       "      <td>0.547101</td>\n",
       "      <td>0.487337</td>\n",
       "      <td>...</td>\n",
       "      <td>0</td>\n",
       "      <td>0</td>\n",
       "      <td>0</td>\n",
       "      <td>1</td>\n",
       "      <td>1</td>\n",
       "      <td>0</td>\n",
       "      <td>0</td>\n",
       "      <td>5.000000e-01</td>\n",
       "      <td>-8.660254e-01</td>\n",
       "      <td>0.818182</td>\n",
       "    </tr>\n",
       "    <tr>\n",
       "      <th>3</th>\n",
       "      <td>1386</td>\n",
       "      <td>0.674699</td>\n",
       "      <td>-0.923724</td>\n",
       "      <td>1</td>\n",
       "      <td>1</td>\n",
       "      <td>0.00</td>\n",
       "      <td>0.315054</td>\n",
       "      <td>0.000000</td>\n",
       "      <td>0.000000</td>\n",
       "      <td>0.000000</td>\n",
       "      <td>...</td>\n",
       "      <td>0</td>\n",
       "      <td>0</td>\n",
       "      <td>0</td>\n",
       "      <td>1</td>\n",
       "      <td>0</td>\n",
       "      <td>0</td>\n",
       "      <td>1</td>\n",
       "      <td>-5.000000e-01</td>\n",
       "      <td>8.660254e-01</td>\n",
       "      <td>0.818182</td>\n",
       "    </tr>\n",
       "    <tr>\n",
       "      <th>4</th>\n",
       "      <td>5371</td>\n",
       "      <td>0.409639</td>\n",
       "      <td>-1.454523</td>\n",
       "      <td>1</td>\n",
       "      <td>0</td>\n",
       "      <td>0.00</td>\n",
       "      <td>0.245160</td>\n",
       "      <td>0.523792</td>\n",
       "      <td>0.426414</td>\n",
       "      <td>0.431522</td>\n",
       "      <td>...</td>\n",
       "      <td>1</td>\n",
       "      <td>0</td>\n",
       "      <td>0</td>\n",
       "      <td>1</td>\n",
       "      <td>0</td>\n",
       "      <td>0</td>\n",
       "      <td>0</td>\n",
       "      <td>-8.660254e-01</td>\n",
       "      <td>-5.000000e-01</td>\n",
       "      <td>0.818182</td>\n",
       "    </tr>\n",
       "    <tr>\n",
       "      <th>...</th>\n",
       "      <td>...</td>\n",
       "      <td>...</td>\n",
       "      <td>...</td>\n",
       "      <td>...</td>\n",
       "      <td>...</td>\n",
       "      <td>...</td>\n",
       "      <td>...</td>\n",
       "      <td>...</td>\n",
       "      <td>...</td>\n",
       "      <td>...</td>\n",
       "      <td>...</td>\n",
       "      <td>...</td>\n",
       "      <td>...</td>\n",
       "      <td>...</td>\n",
       "      <td>...</td>\n",
       "      <td>...</td>\n",
       "      <td>...</td>\n",
       "      <td>...</td>\n",
       "      <td>...</td>\n",
       "      <td>...</td>\n",
       "      <td>...</td>\n",
       "    </tr>\n",
       "    <tr>\n",
       "      <th>2235</th>\n",
       "      <td>10142</td>\n",
       "      <td>0.566265</td>\n",
       "      <td>0.717021</td>\n",
       "      <td>0</td>\n",
       "      <td>1</td>\n",
       "      <td>0.99</td>\n",
       "      <td>0.809860</td>\n",
       "      <td>0.546043</td>\n",
       "      <td>0.648906</td>\n",
       "      <td>0.692868</td>\n",
       "      <td>...</td>\n",
       "      <td>0</td>\n",
       "      <td>0</td>\n",
       "      <td>1</td>\n",
       "      <td>0</td>\n",
       "      <td>0</td>\n",
       "      <td>1</td>\n",
       "      <td>0</td>\n",
       "      <td>-5.000000e-01</td>\n",
       "      <td>-8.660254e-01</td>\n",
       "      <td>0.909091</td>\n",
       "    </tr>\n",
       "    <tr>\n",
       "      <th>2236</th>\n",
       "      <td>5263</td>\n",
       "      <td>0.554217</td>\n",
       "      <td>-0.992149</td>\n",
       "      <td>1</td>\n",
       "      <td>0</td>\n",
       "      <td>0.99</td>\n",
       "      <td>0.220213</td>\n",
       "      <td>0.435000</td>\n",
       "      <td>0.344151</td>\n",
       "      <td>0.197705</td>\n",
       "      <td>...</td>\n",
       "      <td>0</td>\n",
       "      <td>0</td>\n",
       "      <td>1</td>\n",
       "      <td>0</td>\n",
       "      <td>1</td>\n",
       "      <td>0</td>\n",
       "      <td>0</td>\n",
       "      <td>5.000000e-01</td>\n",
       "      <td>8.660254e-01</td>\n",
       "      <td>0.909091</td>\n",
       "    </tr>\n",
       "    <tr>\n",
       "      <th>2237</th>\n",
       "      <td>22</td>\n",
       "      <td>0.566265</td>\n",
       "      <td>-0.256077</td>\n",
       "      <td>1</td>\n",
       "      <td>0</td>\n",
       "      <td>0.99</td>\n",
       "      <td>0.714281</td>\n",
       "      <td>0.130948</td>\n",
       "      <td>0.600744</td>\n",
       "      <td>0.487337</td>\n",
       "      <td>...</td>\n",
       "      <td>0</td>\n",
       "      <td>0</td>\n",
       "      <td>0</td>\n",
       "      <td>1</td>\n",
       "      <td>0</td>\n",
       "      <td>1</td>\n",
       "      <td>0</td>\n",
       "      <td>1.000000e+00</td>\n",
       "      <td>6.123234e-17</td>\n",
       "      <td>1.000000</td>\n",
       "    </tr>\n",
       "    <tr>\n",
       "      <th>2238</th>\n",
       "      <td>528</td>\n",
       "      <td>0.542169</td>\n",
       "      <td>0.685318</td>\n",
       "      <td>0</td>\n",
       "      <td>0</td>\n",
       "      <td>0.99</td>\n",
       "      <td>0.764482</td>\n",
       "      <td>0.687205</td>\n",
       "      <td>0.879179</td>\n",
       "      <td>0.900504</td>\n",
       "      <td>...</td>\n",
       "      <td>0</td>\n",
       "      <td>0</td>\n",
       "      <td>0</td>\n",
       "      <td>1</td>\n",
       "      <td>1</td>\n",
       "      <td>0</td>\n",
       "      <td>0</td>\n",
       "      <td>-5.000000e-01</td>\n",
       "      <td>8.660254e-01</td>\n",
       "      <td>1.000000</td>\n",
       "    </tr>\n",
       "    <tr>\n",
       "      <th>2239</th>\n",
       "      <td>4070</td>\n",
       "      <td>0.650602</td>\n",
       "      <td>2.087204</td>\n",
       "      <td>0</td>\n",
       "      <td>1</td>\n",
       "      <td>0.99</td>\n",
       "      <td>0.701904</td>\n",
       "      <td>0.600391</td>\n",
       "      <td>0.847360</td>\n",
       "      <td>0.942344</td>\n",
       "      <td>...</td>\n",
       "      <td>1</td>\n",
       "      <td>0</td>\n",
       "      <td>1</td>\n",
       "      <td>0</td>\n",
       "      <td>1</td>\n",
       "      <td>0</td>\n",
       "      <td>0</td>\n",
       "      <td>5.000000e-01</td>\n",
       "      <td>8.660254e-01</td>\n",
       "      <td>1.000000</td>\n",
       "    </tr>\n",
       "  </tbody>\n",
       "</table>\n",
       "<p>2198 rows × 27 columns</p>\n",
       "</div>"
      ],
      "text/plain": [
       "         Id  Year_Birth    Income  Kidhome  Teenhome  Recency  MntWines  \\\n",
       "0      1826    0.638554  1.602923        0         0     0.00  0.717208   \n",
       "1         1    0.746988  0.264153        0         0     0.00  0.840097   \n",
       "2     10476    0.783133  0.755190        0         1     0.00  0.670153   \n",
       "3      1386    0.674699 -0.923724        1         1     0.00  0.315054   \n",
       "4      5371    0.409639 -1.454523        1         0     0.00  0.245160   \n",
       "...     ...         ...       ...      ...       ...      ...       ...   \n",
       "2235  10142    0.566265  0.717021        0         1     0.99  0.809860   \n",
       "2236   5263    0.554217 -0.992149        1         0     0.99  0.220213   \n",
       "2237     22    0.566265 -0.256077        1         0     0.99  0.714281   \n",
       "2238    528    0.542169  0.685318        0         0     0.99  0.764482   \n",
       "2239   4070    0.650602  2.087204        0         1     0.99  0.701904   \n",
       "\n",
       "      MntFruits  MntMeatProducts  MntFishProducts  ...  Response  Complain  \\\n",
       "0      0.877409         0.796666         0.847521  ...         1         0   \n",
       "1      0.304052         0.558016         0.350184  ...         1         0   \n",
       "2      0.453005         0.547101         0.487337  ...         0         0   \n",
       "3      0.000000         0.000000         0.000000  ...         0         0   \n",
       "4      0.523792         0.426414         0.431522  ...         1         0   \n",
       "...         ...              ...              ...  ...       ...       ...   \n",
       "2235   0.546043         0.648906         0.692868  ...         0         0   \n",
       "2236   0.435000         0.344151         0.197705  ...         0         0   \n",
       "2237   0.130948         0.600744         0.487337  ...         0         0   \n",
       "2238   0.687205         0.879179         0.900504  ...         0         0   \n",
       "2239   0.600391         0.847360         0.942344  ...         1         0   \n",
       "\n",
       "      Postgrad  Undergrad  Married  Seperated  Together  Customer_Month_Sin  \\\n",
       "0            0          1        0          1         0        1.224647e-16   \n",
       "1            0          1        0          0         0        1.224647e-16   \n",
       "2            0          1        1          0         0        5.000000e-01   \n",
       "3            0          1        0          0         1       -5.000000e-01   \n",
       "4            0          1        0          0         0       -8.660254e-01   \n",
       "...        ...        ...      ...        ...       ...                 ...   \n",
       "2235         1          0        0          1         0       -5.000000e-01   \n",
       "2236         1          0        1          0         0        5.000000e-01   \n",
       "2237         0          1        0          1         0        1.000000e+00   \n",
       "2238         0          1        1          0         0       -5.000000e-01   \n",
       "2239         1          0        1          0         0        5.000000e-01   \n",
       "\n",
       "      Customer_Month_Cos  Customer_Years  \n",
       "0          -1.000000e+00        0.818182  \n",
       "1          -1.000000e+00        0.818182  \n",
       "2          -8.660254e-01        0.818182  \n",
       "3           8.660254e-01        0.818182  \n",
       "4          -5.000000e-01        0.818182  \n",
       "...                  ...             ...  \n",
       "2235       -8.660254e-01        0.909091  \n",
       "2236        8.660254e-01        0.909091  \n",
       "2237        6.123234e-17        1.000000  \n",
       "2238        8.660254e-01        1.000000  \n",
       "2239        8.660254e-01        1.000000  \n",
       "\n",
       "[2198 rows x 27 columns]"
      ]
     },
     "execution_count": 33,
     "metadata": {},
     "output_type": "execute_result"
    }
   ],
   "source": [
    "superstore_data"
   ]
  },
  {
   "cell_type": "code",
   "execution_count": 34,
   "id": "c9f83c2a",
   "metadata": {
    "execution": {
     "iopub.execute_input": "2023-01-03T23:43:24.959353Z",
     "iopub.status.busy": "2023-01-03T23:43:24.958416Z",
     "iopub.status.idle": "2023-01-03T23:43:25.022272Z",
     "shell.execute_reply": "2023-01-03T23:43:25.021394Z"
    },
    "papermill": {
     "duration": 0.084669,
     "end_time": "2023-01-03T23:43:25.025207",
     "exception": false,
     "start_time": "2023-01-03T23:43:24.940538",
     "status": "completed"
    },
    "tags": []
   },
   "outputs": [],
   "source": [
    "from sklearn.model_selection import train_test_split"
   ]
  },
  {
   "cell_type": "code",
   "execution_count": 35,
   "id": "63a23469",
   "metadata": {
    "execution": {
     "iopub.execute_input": "2023-01-03T23:43:25.061362Z",
     "iopub.status.busy": "2023-01-03T23:43:25.060936Z",
     "iopub.status.idle": "2023-01-03T23:43:25.069197Z",
     "shell.execute_reply": "2023-01-03T23:43:25.068120Z"
    },
    "papermill": {
     "duration": 0.029232,
     "end_time": "2023-01-03T23:43:25.071647",
     "exception": false,
     "start_time": "2023-01-03T23:43:25.042415",
     "status": "completed"
    },
    "tags": []
   },
   "outputs": [],
   "source": [
    "X = superstore_data.drop([\"Response\"],axis=1)\n",
    "y = superstore_data[\"Response\"]"
   ]
  },
  {
   "cell_type": "code",
   "execution_count": 36,
   "id": "219d1f73",
   "metadata": {
    "execution": {
     "iopub.execute_input": "2023-01-03T23:43:25.107018Z",
     "iopub.status.busy": "2023-01-03T23:43:25.106584Z",
     "iopub.status.idle": "2023-01-03T23:43:25.114887Z",
     "shell.execute_reply": "2023-01-03T23:43:25.113647Z"
    },
    "papermill": {
     "duration": 0.028895,
     "end_time": "2023-01-03T23:43:25.117436",
     "exception": false,
     "start_time": "2023-01-03T23:43:25.088541",
     "status": "completed"
    },
    "tags": []
   },
   "outputs": [],
   "source": [
    "X_train,X_test,y_train,y_test = train_test_split(X,y,test_size=0.25)"
   ]
  },
  {
   "cell_type": "code",
   "execution_count": 37,
   "id": "27c35622",
   "metadata": {
    "execution": {
     "iopub.execute_input": "2023-01-03T23:43:25.153171Z",
     "iopub.status.busy": "2023-01-03T23:43:25.152761Z",
     "iopub.status.idle": "2023-01-03T23:43:25.388726Z",
     "shell.execute_reply": "2023-01-03T23:43:25.387627Z"
    },
    "papermill": {
     "duration": 0.257498,
     "end_time": "2023-01-03T23:43:25.391702",
     "exception": false,
     "start_time": "2023-01-03T23:43:25.134204",
     "status": "completed"
    },
    "tags": []
   },
   "outputs": [],
   "source": [
    "models = {}\n",
    "\n",
    "# Logistic Regression\n",
    "from sklearn.linear_model import LogisticRegression\n",
    "models['Logistic Regression'] = LogisticRegression(max_iter=500)\n",
    "\n",
    "# Support Vector Machines\n",
    "from sklearn.svm import LinearSVC\n",
    "models['Support Vector Machines'] = LinearSVC(max_iter=1000)\n",
    "\n",
    "# Decision Trees\n",
    "from sklearn.tree import DecisionTreeClassifier\n",
    "models['Decision Trees'] = DecisionTreeClassifier()\n",
    "\n",
    "# Random Forest\n",
    "from sklearn.ensemble import RandomForestClassifier\n",
    "models['Random Forest'] = RandomForestClassifier(n_estimators=300)\n",
    "\n",
    "# Naive Bayes\n",
    "from sklearn.naive_bayes import GaussianNB\n",
    "models['Naive Bayes'] = GaussianNB()\n",
    "\n",
    "# K-Nearest Neighbors\n",
    "from sklearn.neighbors import KNeighborsClassifier\n",
    "models['K-Nearest Neighbor'] = KNeighborsClassifier(n_neighbors=2)"
   ]
  },
  {
   "cell_type": "code",
   "execution_count": 38,
   "id": "fc866485",
   "metadata": {
    "execution": {
     "iopub.execute_input": "2023-01-03T23:43:25.427727Z",
     "iopub.status.busy": "2023-01-03T23:43:25.427327Z",
     "iopub.status.idle": "2023-01-03T23:43:27.248257Z",
     "shell.execute_reply": "2023-01-03T23:43:27.247015Z"
    },
    "papermill": {
     "duration": 1.843813,
     "end_time": "2023-01-03T23:43:27.252504",
     "exception": false,
     "start_time": "2023-01-03T23:43:25.408691",
     "status": "completed"
    },
    "tags": []
   },
   "outputs": [
    {
     "name": "stdout",
     "output_type": "stream",
     "text": [
      "Logistic Regression [0, 0, 0, 0, 0, 0, 1, 0, 0, 0] [0, 0, 0, 0, 0, 0, 1, 0, 0, 0]\n"
     ]
    },
    {
     "name": "stderr",
     "output_type": "stream",
     "text": [
      "/opt/conda/lib/python3.7/site-packages/sklearn/svm/_base.py:1208: ConvergenceWarning: Liblinear failed to converge, increase the number of iterations.\n",
      "  ConvergenceWarning,\n"
     ]
    },
    {
     "name": "stdout",
     "output_type": "stream",
     "text": [
      "Support Vector Machines [0, 1, 1, 1, 1, 0, 1, 0, 1, 0] [0, 0, 0, 0, 0, 0, 1, 0, 0, 0]\n",
      "Decision Trees [0, 0, 0, 1, 0, 0, 0, 0, 1, 0] [0, 0, 0, 0, 0, 0, 1, 0, 0, 0]\n",
      "Random Forest [0, 0, 0, 0, 0, 0, 0, 0, 0, 0] [0, 0, 0, 0, 0, 0, 1, 0, 0, 0]\n",
      "Naive Bayes [0, 0, 0, 0, 0, 0, 1, 0, 0, 0] [0, 0, 0, 0, 0, 0, 1, 0, 0, 0]\n",
      "K-Nearest Neighbor [0, 0, 0, 0, 0, 0, 1, 0, 0, 0] [0, 0, 0, 0, 0, 0, 1, 0, 0, 0]\n"
     ]
    }
   ],
   "source": [
    "from sklearn.metrics import accuracy_score, precision_score, recall_score, confusion_matrix\n",
    "\n",
    "accuracy, precision, recall, confusion = {}, {}, {}, {}\n",
    "\n",
    "for key in models.keys():\n",
    "    \n",
    "    # Fit the classifier\n",
    "    models[key].fit(X_train, y_train)\n",
    "    \n",
    "    # Make predictions\n",
    "    predictions = models[key].predict(X_test)\n",
    "    print(key,list(predictions[0:10]),list(y_test[0:10]))\n",
    "    # Calculate metrics\n",
    "    accuracy[key] = accuracy_score(predictions, y_test)\n",
    "    precision[key] = precision_score(predictions, y_test)\n",
    "    recall[key] = recall_score(predictions, y_test)\n",
    "    confusion[key] = confusion_matrix(y_test,predictions)"
   ]
  },
  {
   "cell_type": "code",
   "execution_count": 39,
   "id": "0d90012f",
   "metadata": {
    "execution": {
     "iopub.execute_input": "2023-01-03T23:43:27.319572Z",
     "iopub.status.busy": "2023-01-03T23:43:27.319153Z",
     "iopub.status.idle": "2023-01-03T23:43:27.336301Z",
     "shell.execute_reply": "2023-01-03T23:43:27.335065Z"
    },
    "papermill": {
     "duration": 0.041375,
     "end_time": "2023-01-03T23:43:27.338768",
     "exception": false,
     "start_time": "2023-01-03T23:43:27.297393",
     "status": "completed"
    },
    "tags": []
   },
   "outputs": [
    {
     "data": {
      "text/html": [
       "<div>\n",
       "<style scoped>\n",
       "    .dataframe tbody tr th:only-of-type {\n",
       "        vertical-align: middle;\n",
       "    }\n",
       "\n",
       "    .dataframe tbody tr th {\n",
       "        vertical-align: top;\n",
       "    }\n",
       "\n",
       "    .dataframe thead th {\n",
       "        text-align: right;\n",
       "    }\n",
       "</style>\n",
       "<table border=\"1\" class=\"dataframe\">\n",
       "  <thead>\n",
       "    <tr style=\"text-align: right;\">\n",
       "      <th></th>\n",
       "      <th>Accuracy</th>\n",
       "      <th>Precision</th>\n",
       "      <th>Recall</th>\n",
       "    </tr>\n",
       "  </thead>\n",
       "  <tbody>\n",
       "    <tr>\n",
       "      <th>Logistic Regression</th>\n",
       "      <td>0.863636</td>\n",
       "      <td>0.173333</td>\n",
       "      <td>0.500000</td>\n",
       "    </tr>\n",
       "    <tr>\n",
       "      <th>Support Vector Machines</th>\n",
       "      <td>0.280000</td>\n",
       "      <td>0.893333</td>\n",
       "      <td>0.147253</td>\n",
       "    </tr>\n",
       "    <tr>\n",
       "      <th>Decision Trees</th>\n",
       "      <td>0.810909</td>\n",
       "      <td>0.453333</td>\n",
       "      <td>0.350515</td>\n",
       "    </tr>\n",
       "    <tr>\n",
       "      <th>Random Forest</th>\n",
       "      <td>0.874545</td>\n",
       "      <td>0.213333</td>\n",
       "      <td>0.615385</td>\n",
       "    </tr>\n",
       "    <tr>\n",
       "      <th>Naive Bayes</th>\n",
       "      <td>0.772727</td>\n",
       "      <td>0.560000</td>\n",
       "      <td>0.313433</td>\n",
       "    </tr>\n",
       "    <tr>\n",
       "      <th>K-Nearest Neighbor</th>\n",
       "      <td>0.858182</td>\n",
       "      <td>0.026667</td>\n",
       "      <td>0.285714</td>\n",
       "    </tr>\n",
       "  </tbody>\n",
       "</table>\n",
       "</div>"
      ],
      "text/plain": [
       "                         Accuracy  Precision    Recall\n",
       "Logistic Regression      0.863636   0.173333  0.500000\n",
       "Support Vector Machines  0.280000   0.893333  0.147253\n",
       "Decision Trees           0.810909   0.453333  0.350515\n",
       "Random Forest            0.874545   0.213333  0.615385\n",
       "Naive Bayes              0.772727   0.560000  0.313433\n",
       "K-Nearest Neighbor       0.858182   0.026667  0.285714"
      ]
     },
     "execution_count": 39,
     "metadata": {},
     "output_type": "execute_result"
    }
   ],
   "source": [
    "import pandas as pd\n",
    "\n",
    "df_model = pd.DataFrame(index=models.keys(), columns=['Accuracy', 'Precision', 'Recall'])\n",
    "df_model['Accuracy'] = accuracy.values()\n",
    "df_model['Precision'] = precision.values()\n",
    "df_model['Recall'] = recall.values()\n",
    "\n",
    "df_model"
   ]
  },
  {
   "cell_type": "code",
   "execution_count": null,
   "id": "13852904",
   "metadata": {
    "papermill": {
     "duration": 0.017035,
     "end_time": "2023-01-03T23:43:27.373691",
     "exception": false,
     "start_time": "2023-01-03T23:43:27.356656",
     "status": "completed"
    },
    "tags": []
   },
   "outputs": [],
   "source": []
  }
 ],
 "metadata": {
  "kernelspec": {
   "display_name": "Python 3",
   "language": "python",
   "name": "python3"
  },
  "language_info": {
   "codemirror_mode": {
    "name": "ipython",
    "version": 3
   },
   "file_extension": ".py",
   "mimetype": "text/x-python",
   "name": "python",
   "nbconvert_exporter": "python",
   "pygments_lexer": "ipython3",
   "version": "3.8.8"
  },
  "papermill": {
   "default_parameters": {},
   "duration": 21.360158,
   "end_time": "2023-01-03T23:43:28.314466",
   "environment_variables": {},
   "exception": null,
   "input_path": "__notebook__.ipynb",
   "output_path": "__notebook__.ipynb",
   "parameters": {},
   "start_time": "2023-01-03T23:43:06.954308",
   "version": "2.3.4"
  }
 },
 "nbformat": 4,
 "nbformat_minor": 5
}
