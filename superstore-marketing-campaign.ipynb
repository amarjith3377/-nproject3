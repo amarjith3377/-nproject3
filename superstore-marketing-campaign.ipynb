{
 "cells": [
  {
   "cell_type": "markdown",
   "id": "1a83bfd8",
   "metadata": {
    "id": "CqU-BgQ4pF34",
    "papermill": {
     "duration": 0.017611,
     "end_time": "2023-01-19T09:16:51.971945",
     "exception": false,
     "start_time": "2023-01-19T09:16:51.954334",
     "status": "completed"
    },
    "tags": []
   },
   "source": [
    "# **Import library**"
   ]
  },
  {
   "cell_type": "code",
   "execution_count": 1,
   "id": "2d1cadf9",
   "metadata": {
    "execution": {
     "iopub.execute_input": "2023-01-19T09:16:52.001850Z",
     "iopub.status.busy": "2023-01-19T09:16:52.001006Z",
     "iopub.status.idle": "2023-01-19T09:16:52.011732Z",
     "shell.execute_reply": "2023-01-19T09:16:52.010535Z"
    },
    "executionInfo": {
     "elapsed": 541,
     "status": "ok",
     "timestamp": 1674117570515,
     "user": {
      "displayName": "JackyColab",
      "userId": "09488920115420130960"
     },
     "user_tz": -420
    },
    "id": "n33frqumog-n",
    "papermill": {
     "duration": 0.029161,
     "end_time": "2023-01-19T09:16:52.014913",
     "exception": false,
     "start_time": "2023-01-19T09:16:51.985752",
     "status": "completed"
    },
    "tags": []
   },
   "outputs": [],
   "source": [
    "import numpy as np\n",
    "import pandas as pd\n",
    "from matplotlib import pyplot as plt"
   ]
  },
  {
   "cell_type": "markdown",
   "id": "2ff67866",
   "metadata": {
    "id": "_cBFt9XhqGbm",
    "papermill": {
     "duration": 0.014146,
     "end_time": "2023-01-19T09:16:52.042962",
     "exception": false,
     "start_time": "2023-01-19T09:16:52.028816",
     "status": "completed"
    },
    "tags": []
   },
   "source": [
    "# **Upload data**"
   ]
  },
  {
   "cell_type": "code",
   "execution_count": 2,
   "id": "70b38622",
   "metadata": {
    "execution": {
     "iopub.execute_input": "2023-01-19T09:16:52.072524Z",
     "iopub.status.busy": "2023-01-19T09:16:52.072047Z",
     "iopub.status.idle": "2023-01-19T09:16:52.135054Z",
     "shell.execute_reply": "2023-01-19T09:16:52.134147Z"
    },
    "executionInfo": {
     "elapsed": 608,
     "status": "ok",
     "timestamp": 1674117573099,
     "user": {
      "displayName": "JackyColab",
      "userId": "09488920115420130960"
     },
     "user_tz": -420
    },
    "id": "hxw4n-fTqAqF",
    "outputId": "62a84ab4-1a49-48f1-fd38-f326d2eb038b",
    "papermill": {
     "duration": 0.080239,
     "end_time": "2023-01-19T09:16:52.137327",
     "exception": false,
     "start_time": "2023-01-19T09:16:52.057088",
     "status": "completed"
    },
    "tags": []
   },
   "outputs": [
    {
     "data": {
      "text/html": [
       "<div>\n",
       "<style scoped>\n",
       "    .dataframe tbody tr th:only-of-type {\n",
       "        vertical-align: middle;\n",
       "    }\n",
       "\n",
       "    .dataframe tbody tr th {\n",
       "        vertical-align: top;\n",
       "    }\n",
       "\n",
       "    .dataframe thead th {\n",
       "        text-align: right;\n",
       "    }\n",
       "</style>\n",
       "<table border=\"1\" class=\"dataframe\">\n",
       "  <thead>\n",
       "    <tr style=\"text-align: right;\">\n",
       "      <th></th>\n",
       "      <th>Id</th>\n",
       "      <th>Year_Birth</th>\n",
       "      <th>Education</th>\n",
       "      <th>Marital_Status</th>\n",
       "      <th>Income</th>\n",
       "      <th>Kidhome</th>\n",
       "      <th>Teenhome</th>\n",
       "      <th>Dt_Customer</th>\n",
       "      <th>Recency</th>\n",
       "      <th>MntWines</th>\n",
       "      <th>...</th>\n",
       "      <th>MntFishProducts</th>\n",
       "      <th>MntSweetProducts</th>\n",
       "      <th>MntGoldProds</th>\n",
       "      <th>NumDealsPurchases</th>\n",
       "      <th>NumWebPurchases</th>\n",
       "      <th>NumCatalogPurchases</th>\n",
       "      <th>NumStorePurchases</th>\n",
       "      <th>NumWebVisitsMonth</th>\n",
       "      <th>Response</th>\n",
       "      <th>Complain</th>\n",
       "    </tr>\n",
       "  </thead>\n",
       "  <tbody>\n",
       "    <tr>\n",
       "      <th>0</th>\n",
       "      <td>1826</td>\n",
       "      <td>1970</td>\n",
       "      <td>Graduation</td>\n",
       "      <td>Divorced</td>\n",
       "      <td>84835.0</td>\n",
       "      <td>0</td>\n",
       "      <td>0</td>\n",
       "      <td>6/16/2014</td>\n",
       "      <td>0</td>\n",
       "      <td>189</td>\n",
       "      <td>...</td>\n",
       "      <td>111</td>\n",
       "      <td>189</td>\n",
       "      <td>218</td>\n",
       "      <td>1</td>\n",
       "      <td>4</td>\n",
       "      <td>4</td>\n",
       "      <td>6</td>\n",
       "      <td>1</td>\n",
       "      <td>1</td>\n",
       "      <td>0</td>\n",
       "    </tr>\n",
       "    <tr>\n",
       "      <th>1</th>\n",
       "      <td>1</td>\n",
       "      <td>1961</td>\n",
       "      <td>Graduation</td>\n",
       "      <td>Single</td>\n",
       "      <td>57091.0</td>\n",
       "      <td>0</td>\n",
       "      <td>0</td>\n",
       "      <td>6/15/2014</td>\n",
       "      <td>0</td>\n",
       "      <td>464</td>\n",
       "      <td>...</td>\n",
       "      <td>7</td>\n",
       "      <td>0</td>\n",
       "      <td>37</td>\n",
       "      <td>1</td>\n",
       "      <td>7</td>\n",
       "      <td>3</td>\n",
       "      <td>7</td>\n",
       "      <td>5</td>\n",
       "      <td>1</td>\n",
       "      <td>0</td>\n",
       "    </tr>\n",
       "    <tr>\n",
       "      <th>2</th>\n",
       "      <td>10476</td>\n",
       "      <td>1958</td>\n",
       "      <td>Graduation</td>\n",
       "      <td>Married</td>\n",
       "      <td>67267.0</td>\n",
       "      <td>0</td>\n",
       "      <td>1</td>\n",
       "      <td>5/13/2014</td>\n",
       "      <td>0</td>\n",
       "      <td>134</td>\n",
       "      <td>...</td>\n",
       "      <td>15</td>\n",
       "      <td>2</td>\n",
       "      <td>30</td>\n",
       "      <td>1</td>\n",
       "      <td>3</td>\n",
       "      <td>2</td>\n",
       "      <td>5</td>\n",
       "      <td>2</td>\n",
       "      <td>0</td>\n",
       "      <td>0</td>\n",
       "    </tr>\n",
       "    <tr>\n",
       "      <th>3</th>\n",
       "      <td>1386</td>\n",
       "      <td>1967</td>\n",
       "      <td>Graduation</td>\n",
       "      <td>Together</td>\n",
       "      <td>32474.0</td>\n",
       "      <td>1</td>\n",
       "      <td>1</td>\n",
       "      <td>11/5/2014</td>\n",
       "      <td>0</td>\n",
       "      <td>10</td>\n",
       "      <td>...</td>\n",
       "      <td>0</td>\n",
       "      <td>0</td>\n",
       "      <td>0</td>\n",
       "      <td>1</td>\n",
       "      <td>1</td>\n",
       "      <td>0</td>\n",
       "      <td>2</td>\n",
       "      <td>7</td>\n",
       "      <td>0</td>\n",
       "      <td>0</td>\n",
       "    </tr>\n",
       "    <tr>\n",
       "      <th>4</th>\n",
       "      <td>5371</td>\n",
       "      <td>1989</td>\n",
       "      <td>Graduation</td>\n",
       "      <td>Single</td>\n",
       "      <td>21474.0</td>\n",
       "      <td>1</td>\n",
       "      <td>0</td>\n",
       "      <td>8/4/2014</td>\n",
       "      <td>0</td>\n",
       "      <td>6</td>\n",
       "      <td>...</td>\n",
       "      <td>11</td>\n",
       "      <td>0</td>\n",
       "      <td>34</td>\n",
       "      <td>2</td>\n",
       "      <td>3</td>\n",
       "      <td>1</td>\n",
       "      <td>2</td>\n",
       "      <td>7</td>\n",
       "      <td>1</td>\n",
       "      <td>0</td>\n",
       "    </tr>\n",
       "  </tbody>\n",
       "</table>\n",
       "<p>5 rows × 22 columns</p>\n",
       "</div>"
      ],
      "text/plain": [
       "      Id  Year_Birth   Education Marital_Status   Income  Kidhome  Teenhome  \\\n",
       "0   1826        1970  Graduation       Divorced  84835.0        0         0   \n",
       "1      1        1961  Graduation         Single  57091.0        0         0   \n",
       "2  10476        1958  Graduation        Married  67267.0        0         1   \n",
       "3   1386        1967  Graduation       Together  32474.0        1         1   \n",
       "4   5371        1989  Graduation         Single  21474.0        1         0   \n",
       "\n",
       "  Dt_Customer  Recency  MntWines  ...  MntFishProducts  MntSweetProducts  \\\n",
       "0   6/16/2014        0       189  ...              111               189   \n",
       "1   6/15/2014        0       464  ...                7                 0   \n",
       "2   5/13/2014        0       134  ...               15                 2   \n",
       "3   11/5/2014        0        10  ...                0                 0   \n",
       "4    8/4/2014        0         6  ...               11                 0   \n",
       "\n",
       "   MntGoldProds  NumDealsPurchases  NumWebPurchases  NumCatalogPurchases  \\\n",
       "0           218                  1                4                    4   \n",
       "1            37                  1                7                    3   \n",
       "2            30                  1                3                    2   \n",
       "3             0                  1                1                    0   \n",
       "4            34                  2                3                    1   \n",
       "\n",
       "   NumStorePurchases  NumWebVisitsMonth  Response  Complain  \n",
       "0                  6                  1         1         0  \n",
       "1                  7                  5         1         0  \n",
       "2                  5                  2         0         0  \n",
       "3                  2                  7         0         0  \n",
       "4                  2                  7         1         0  \n",
       "\n",
       "[5 rows x 22 columns]"
      ]
     },
     "execution_count": 2,
     "metadata": {},
     "output_type": "execute_result"
    }
   ],
   "source": [
    "load = pd.read_csv('/kaggle/input/superstore-marketing-campaign-dataset/superstore_data.csv')\n",
    "df = pd.DataFrame(load)\n",
    "df.head()"
   ]
  },
  {
   "cell_type": "code",
   "execution_count": 3,
   "id": "12aa6476",
   "metadata": {
    "execution": {
     "iopub.execute_input": "2023-01-19T09:16:52.167925Z",
     "iopub.status.busy": "2023-01-19T09:16:52.167229Z",
     "iopub.status.idle": "2023-01-19T09:16:52.173039Z",
     "shell.execute_reply": "2023-01-19T09:16:52.171674Z"
    },
    "executionInfo": {
     "elapsed": 7,
     "status": "ok",
     "timestamp": 1674117574712,
     "user": {
      "displayName": "JackyColab",
      "userId": "09488920115420130960"
     },
     "user_tz": -420
    },
    "id": "lnSyRQ2yrzi2",
    "outputId": "2fa1a3e5-a77d-4dfe-d6cf-08b20568ce8d",
    "papermill": {
     "duration": 0.02384,
     "end_time": "2023-01-19T09:16:52.175440",
     "exception": false,
     "start_time": "2023-01-19T09:16:52.151600",
     "status": "completed"
    },
    "tags": []
   },
   "outputs": [
    {
     "name": "stdout",
     "output_type": "stream",
     "text": [
      "(2240, 22)\n"
     ]
    }
   ],
   "source": [
    "print(df.shape)"
   ]
  },
  {
   "cell_type": "markdown",
   "id": "358df0c3",
   "metadata": {
    "id": "_U0IvK6QtXu-",
    "papermill": {
     "duration": 0.014275,
     "end_time": "2023-01-19T09:16:52.204312",
     "exception": false,
     "start_time": "2023-01-19T09:16:52.190037",
     "status": "completed"
    },
    "tags": []
   },
   "source": [
    "# **Visualize data**"
   ]
  },
  {
   "cell_type": "code",
   "execution_count": 4,
   "id": "b5a6cb9d",
   "metadata": {
    "execution": {
     "iopub.execute_input": "2023-01-19T09:16:52.234902Z",
     "iopub.status.busy": "2023-01-19T09:16:52.234178Z",
     "iopub.status.idle": "2023-01-19T09:16:52.241074Z",
     "shell.execute_reply": "2023-01-19T09:16:52.238803Z"
    },
    "executionInfo": {
     "elapsed": 532,
     "status": "ok",
     "timestamp": 1674117614274,
     "user": {
      "displayName": "JackyColab",
      "userId": "09488920115420130960"
     },
     "user_tz": -420
    },
    "id": "vVoKyAJpss6y",
    "outputId": "9487738b-0509-465e-c114-0917e1ecdb50",
    "papermill": {
     "duration": 0.025611,
     "end_time": "2023-01-19T09:16:52.244116",
     "exception": false,
     "start_time": "2023-01-19T09:16:52.218505",
     "status": "completed"
    },
    "tags": []
   },
   "outputs": [
    {
     "name": "stdout",
     "output_type": "stream",
     "text": [
      "Index(['Id', 'Year_Birth', 'Education', 'Marital_Status', 'Income', 'Kidhome',\n",
      "       'Teenhome', 'Dt_Customer', 'Recency', 'MntWines', 'MntFruits',\n",
      "       'MntMeatProducts', 'MntFishProducts', 'MntSweetProducts',\n",
      "       'MntGoldProds', 'NumDealsPurchases', 'NumWebPurchases',\n",
      "       'NumCatalogPurchases', 'NumStorePurchases', 'NumWebVisitsMonth',\n",
      "       'Response', 'Complain'],\n",
      "      dtype='object')\n"
     ]
    }
   ],
   "source": [
    "print(df.columns)"
   ]
  },
  {
   "cell_type": "code",
   "execution_count": 5,
   "id": "08aaeffa",
   "metadata": {
    "execution": {
     "iopub.execute_input": "2023-01-19T09:16:52.276252Z",
     "iopub.status.busy": "2023-01-19T09:16:52.275485Z",
     "iopub.status.idle": "2023-01-19T09:16:52.284120Z",
     "shell.execute_reply": "2023-01-19T09:16:52.282436Z"
    },
    "executionInfo": {
     "elapsed": 10,
     "status": "ok",
     "timestamp": 1674117616226,
     "user": {
      "displayName": "JackyColab",
      "userId": "09488920115420130960"
     },
     "user_tz": -420
    },
    "id": "VfyY3LddteM5",
    "outputId": "6801ce5a-af71-4e7d-f893-27ae554c15b5",
    "papermill": {
     "duration": 0.027139,
     "end_time": "2023-01-19T09:16:52.286554",
     "exception": false,
     "start_time": "2023-01-19T09:16:52.259415",
     "status": "completed"
    },
    "tags": []
   },
   "outputs": [
    {
     "name": "stdout",
     "output_type": "stream",
     "text": [
      "Id                      0\n",
      "Year_Birth              0\n",
      "Education               0\n",
      "Marital_Status          0\n",
      "Income                 24\n",
      "Kidhome                 0\n",
      "Teenhome                0\n",
      "Dt_Customer             0\n",
      "Recency                 0\n",
      "MntWines                0\n",
      "MntFruits               0\n",
      "MntMeatProducts         0\n",
      "MntFishProducts         0\n",
      "MntSweetProducts        0\n",
      "MntGoldProds            0\n",
      "NumDealsPurchases       0\n",
      "NumWebPurchases         0\n",
      "NumCatalogPurchases     0\n",
      "NumStorePurchases       0\n",
      "NumWebVisitsMonth       0\n",
      "Response                0\n",
      "Complain                0\n",
      "dtype: int64\n"
     ]
    }
   ],
   "source": [
    "print(df.isnull().sum())"
   ]
  },
  {
   "cell_type": "code",
   "execution_count": 6,
   "id": "3132abbe",
   "metadata": {
    "execution": {
     "iopub.execute_input": "2023-01-19T09:16:52.317692Z",
     "iopub.status.busy": "2023-01-19T09:16:52.316703Z",
     "iopub.status.idle": "2023-01-19T09:16:52.333622Z",
     "shell.execute_reply": "2023-01-19T09:16:52.332253Z"
    },
    "executionInfo": {
     "elapsed": 8,
     "status": "ok",
     "timestamp": 1674117618305,
     "user": {
      "displayName": "JackyColab",
      "userId": "09488920115420130960"
     },
     "user_tz": -420
    },
    "id": "sUDs8A_vttVZ",
    "outputId": "2526a1ba-6c6f-4d28-ea73-0fadfc33b6d8",
    "papermill": {
     "duration": 0.034986,
     "end_time": "2023-01-19T09:16:52.336113",
     "exception": false,
     "start_time": "2023-01-19T09:16:52.301127",
     "status": "completed"
    },
    "tags": []
   },
   "outputs": [
    {
     "name": "stdout",
     "output_type": "stream",
     "text": [
      "Id                     0\n",
      "Year_Birth             0\n",
      "Education              0\n",
      "Marital_Status         0\n",
      "Income                 0\n",
      "Kidhome                0\n",
      "Teenhome               0\n",
      "Dt_Customer            0\n",
      "Recency                0\n",
      "MntWines               0\n",
      "MntFruits              0\n",
      "MntMeatProducts        0\n",
      "MntFishProducts        0\n",
      "MntSweetProducts       0\n",
      "MntGoldProds           0\n",
      "NumDealsPurchases      0\n",
      "NumWebPurchases        0\n",
      "NumCatalogPurchases    0\n",
      "NumStorePurchases      0\n",
      "NumWebVisitsMonth      0\n",
      "Response               0\n",
      "Complain               0\n",
      "dtype: int64\n",
      "(2216, 22)\n"
     ]
    }
   ],
   "source": [
    "df = df.dropna(axis=0, how='any')\n",
    "print(df.isnull().sum())\n",
    "print(df.shape)"
   ]
  },
  {
   "cell_type": "code",
   "execution_count": 7,
   "id": "234a2266",
   "metadata": {
    "execution": {
     "iopub.execute_input": "2023-01-19T09:16:52.367096Z",
     "iopub.status.busy": "2023-01-19T09:16:52.366675Z",
     "iopub.status.idle": "2023-01-19T09:16:52.374344Z",
     "shell.execute_reply": "2023-01-19T09:16:52.373138Z"
    },
    "executionInfo": {
     "elapsed": 688,
     "status": "ok",
     "timestamp": 1674117620623,
     "user": {
      "displayName": "JackyColab",
      "userId": "09488920115420130960"
     },
     "user_tz": -420
    },
    "id": "BDOQCzTfu4wK",
    "outputId": "457032c1-0bb4-4fc4-8ed0-bd6265b1e5c9",
    "papermill": {
     "duration": 0.026821,
     "end_time": "2023-01-19T09:16:52.377782",
     "exception": false,
     "start_time": "2023-01-19T09:16:52.350961",
     "status": "completed"
    },
    "tags": []
   },
   "outputs": [
    {
     "name": "stdout",
     "output_type": "stream",
     "text": [
      "Id                       int64\n",
      "Year_Birth               int64\n",
      "Education               object\n",
      "Marital_Status          object\n",
      "Income                 float64\n",
      "Kidhome                  int64\n",
      "Teenhome                 int64\n",
      "Dt_Customer             object\n",
      "Recency                  int64\n",
      "MntWines                 int64\n",
      "MntFruits                int64\n",
      "MntMeatProducts          int64\n",
      "MntFishProducts          int64\n",
      "MntSweetProducts         int64\n",
      "MntGoldProds             int64\n",
      "NumDealsPurchases        int64\n",
      "NumWebPurchases          int64\n",
      "NumCatalogPurchases      int64\n",
      "NumStorePurchases        int64\n",
      "NumWebVisitsMonth        int64\n",
      "Response                 int64\n",
      "Complain                 int64\n",
      "dtype: object\n"
     ]
    }
   ],
   "source": [
    "print(df.dtypes)"
   ]
  },
  {
   "cell_type": "code",
   "execution_count": 8,
   "id": "2689943a",
   "metadata": {
    "execution": {
     "iopub.execute_input": "2023-01-19T09:16:52.410387Z",
     "iopub.status.busy": "2023-01-19T09:16:52.409645Z",
     "iopub.status.idle": "2023-01-19T09:16:52.422990Z",
     "shell.execute_reply": "2023-01-19T09:16:52.421786Z"
    },
    "executionInfo": {
     "elapsed": 5,
     "status": "ok",
     "timestamp": 1674117622282,
     "user": {
      "displayName": "JackyColab",
      "userId": "09488920115420130960"
     },
     "user_tz": -420
    },
    "id": "ahcStJ0lvNBt",
    "papermill": {
     "duration": 0.032406,
     "end_time": "2023-01-19T09:16:52.425896",
     "exception": false,
     "start_time": "2023-01-19T09:16:52.393490",
     "status": "completed"
    },
    "tags": []
   },
   "outputs": [],
   "source": [
    "num_df = df.drop(columns=['Id', 'Education', 'Marital_Status', 'Kidhome', 'Teenhome', 'Dt_Customer', 'Response', 'Complain'])\n",
    "obj_df = df.loc[:, ['Education', 'Marital_Status']]\n",
    "bin_df = df.loc[:, ['Kidhome', 'Teenhome', 'Complain']]\n",
    "label = df['Response']"
   ]
  },
  {
   "cell_type": "code",
   "execution_count": 9,
   "id": "b9cd185e",
   "metadata": {
    "execution": {
     "iopub.execute_input": "2023-01-19T09:16:52.456997Z",
     "iopub.status.busy": "2023-01-19T09:16:52.456595Z",
     "iopub.status.idle": "2023-01-19T09:16:52.463504Z",
     "shell.execute_reply": "2023-01-19T09:16:52.462264Z"
    },
    "executionInfo": {
     "elapsed": 4,
     "status": "ok",
     "timestamp": 1674117624765,
     "user": {
      "displayName": "JackyColab",
      "userId": "09488920115420130960"
     },
     "user_tz": -420
    },
    "id": "Ghc7xTZqvqn-",
    "outputId": "9d3abcd9-7537-421c-f4cf-cff99b927a75",
    "papermill": {
     "duration": 0.026694,
     "end_time": "2023-01-19T09:16:52.467363",
     "exception": false,
     "start_time": "2023-01-19T09:16:52.440669",
     "status": "completed"
    },
    "tags": []
   },
   "outputs": [
    {
     "name": "stdout",
     "output_type": "stream",
     "text": [
      "num_df: (2216, 14)\n",
      "obj_df: (2216, 2)\n",
      "bin_df: (2216, 3)\n",
      "label: (2216,)\n"
     ]
    }
   ],
   "source": [
    "print('num_df:', num_df.shape)\n",
    "print('obj_df:', obj_df.shape)\n",
    "print('bin_df:', bin_df.shape)\n",
    "print('label:', label.shape)"
   ]
  },
  {
   "cell_type": "code",
   "execution_count": 10,
   "id": "8c735e9b",
   "metadata": {
    "execution": {
     "iopub.execute_input": "2023-01-19T09:16:52.499857Z",
     "iopub.status.busy": "2023-01-19T09:16:52.499450Z",
     "iopub.status.idle": "2023-01-19T09:16:52.514677Z",
     "shell.execute_reply": "2023-01-19T09:16:52.513510Z"
    },
    "executionInfo": {
     "elapsed": 16,
     "status": "ok",
     "timestamp": 1674117626846,
     "user": {
      "displayName": "JackyColab",
      "userId": "09488920115420130960"
     },
     "user_tz": -420
    },
    "id": "r_DxC4b9w9US",
    "outputId": "d43cdbc2-b200-4167-c72c-8009fec8636d",
    "papermill": {
     "duration": 0.034772,
     "end_time": "2023-01-19T09:16:52.516970",
     "exception": false,
     "start_time": "2023-01-19T09:16:52.482198",
     "status": "completed"
    },
    "tags": []
   },
   "outputs": [
    {
     "data": {
      "text/html": [
       "<div>\n",
       "<style scoped>\n",
       "    .dataframe tbody tr th:only-of-type {\n",
       "        vertical-align: middle;\n",
       "    }\n",
       "\n",
       "    .dataframe tbody tr th {\n",
       "        vertical-align: top;\n",
       "    }\n",
       "\n",
       "    .dataframe thead th {\n",
       "        text-align: right;\n",
       "    }\n",
       "</style>\n",
       "<table border=\"1\" class=\"dataframe\">\n",
       "  <thead>\n",
       "    <tr style=\"text-align: right;\">\n",
       "      <th></th>\n",
       "      <th>Year_Birth</th>\n",
       "      <th>Income</th>\n",
       "      <th>Recency</th>\n",
       "      <th>MntWines</th>\n",
       "      <th>MntFruits</th>\n",
       "      <th>MntMeatProducts</th>\n",
       "      <th>MntFishProducts</th>\n",
       "      <th>MntSweetProducts</th>\n",
       "      <th>MntGoldProds</th>\n",
       "      <th>NumDealsPurchases</th>\n",
       "      <th>NumWebPurchases</th>\n",
       "      <th>NumCatalogPurchases</th>\n",
       "      <th>NumStorePurchases</th>\n",
       "      <th>NumWebVisitsMonth</th>\n",
       "    </tr>\n",
       "  </thead>\n",
       "  <tbody>\n",
       "    <tr>\n",
       "      <th>0</th>\n",
       "      <td>1970</td>\n",
       "      <td>84835.0</td>\n",
       "      <td>0</td>\n",
       "      <td>189</td>\n",
       "      <td>104</td>\n",
       "      <td>379</td>\n",
       "      <td>111</td>\n",
       "      <td>189</td>\n",
       "      <td>218</td>\n",
       "      <td>1</td>\n",
       "      <td>4</td>\n",
       "      <td>4</td>\n",
       "      <td>6</td>\n",
       "      <td>1</td>\n",
       "    </tr>\n",
       "    <tr>\n",
       "      <th>1</th>\n",
       "      <td>1961</td>\n",
       "      <td>57091.0</td>\n",
       "      <td>0</td>\n",
       "      <td>464</td>\n",
       "      <td>5</td>\n",
       "      <td>64</td>\n",
       "      <td>7</td>\n",
       "      <td>0</td>\n",
       "      <td>37</td>\n",
       "      <td>1</td>\n",
       "      <td>7</td>\n",
       "      <td>3</td>\n",
       "      <td>7</td>\n",
       "      <td>5</td>\n",
       "    </tr>\n",
       "    <tr>\n",
       "      <th>2</th>\n",
       "      <td>1958</td>\n",
       "      <td>67267.0</td>\n",
       "      <td>0</td>\n",
       "      <td>134</td>\n",
       "      <td>11</td>\n",
       "      <td>59</td>\n",
       "      <td>15</td>\n",
       "      <td>2</td>\n",
       "      <td>30</td>\n",
       "      <td>1</td>\n",
       "      <td>3</td>\n",
       "      <td>2</td>\n",
       "      <td>5</td>\n",
       "      <td>2</td>\n",
       "    </tr>\n",
       "    <tr>\n",
       "      <th>3</th>\n",
       "      <td>1967</td>\n",
       "      <td>32474.0</td>\n",
       "      <td>0</td>\n",
       "      <td>10</td>\n",
       "      <td>0</td>\n",
       "      <td>1</td>\n",
       "      <td>0</td>\n",
       "      <td>0</td>\n",
       "      <td>0</td>\n",
       "      <td>1</td>\n",
       "      <td>1</td>\n",
       "      <td>0</td>\n",
       "      <td>2</td>\n",
       "      <td>7</td>\n",
       "    </tr>\n",
       "    <tr>\n",
       "      <th>4</th>\n",
       "      <td>1989</td>\n",
       "      <td>21474.0</td>\n",
       "      <td>0</td>\n",
       "      <td>6</td>\n",
       "      <td>16</td>\n",
       "      <td>24</td>\n",
       "      <td>11</td>\n",
       "      <td>0</td>\n",
       "      <td>34</td>\n",
       "      <td>2</td>\n",
       "      <td>3</td>\n",
       "      <td>1</td>\n",
       "      <td>2</td>\n",
       "      <td>7</td>\n",
       "    </tr>\n",
       "  </tbody>\n",
       "</table>\n",
       "</div>"
      ],
      "text/plain": [
       "   Year_Birth   Income  Recency  MntWines  MntFruits  MntMeatProducts  \\\n",
       "0        1970  84835.0        0       189        104              379   \n",
       "1        1961  57091.0        0       464          5               64   \n",
       "2        1958  67267.0        0       134         11               59   \n",
       "3        1967  32474.0        0        10          0                1   \n",
       "4        1989  21474.0        0         6         16               24   \n",
       "\n",
       "   MntFishProducts  MntSweetProducts  MntGoldProds  NumDealsPurchases  \\\n",
       "0              111               189           218                  1   \n",
       "1                7                 0            37                  1   \n",
       "2               15                 2            30                  1   \n",
       "3                0                 0             0                  1   \n",
       "4               11                 0            34                  2   \n",
       "\n",
       "   NumWebPurchases  NumCatalogPurchases  NumStorePurchases  NumWebVisitsMonth  \n",
       "0                4                    4                  6                  1  \n",
       "1                7                    3                  7                  5  \n",
       "2                3                    2                  5                  2  \n",
       "3                1                    0                  2                  7  \n",
       "4                3                    1                  2                  7  "
      ]
     },
     "execution_count": 10,
     "metadata": {},
     "output_type": "execute_result"
    }
   ],
   "source": [
    "num_df.head()"
   ]
  },
  {
   "cell_type": "code",
   "execution_count": 11,
   "id": "d5fcf287",
   "metadata": {
    "execution": {
     "iopub.execute_input": "2023-01-19T09:16:52.550239Z",
     "iopub.status.busy": "2023-01-19T09:16:52.549424Z",
     "iopub.status.idle": "2023-01-19T09:16:52.603948Z",
     "shell.execute_reply": "2023-01-19T09:16:52.602800Z"
    },
    "executionInfo": {
     "elapsed": 16,
     "status": "ok",
     "timestamp": 1674117628812,
     "user": {
      "displayName": "JackyColab",
      "userId": "09488920115420130960"
     },
     "user_tz": -420
    },
    "id": "od-CcsMdSEbq",
    "outputId": "bbd0aa55-4d52-48c4-c842-cb52b9c9b572",
    "papermill": {
     "duration": 0.073523,
     "end_time": "2023-01-19T09:16:52.606263",
     "exception": false,
     "start_time": "2023-01-19T09:16:52.532740",
     "status": "completed"
    },
    "tags": []
   },
   "outputs": [
    {
     "data": {
      "text/html": [
       "<div>\n",
       "<style scoped>\n",
       "    .dataframe tbody tr th:only-of-type {\n",
       "        vertical-align: middle;\n",
       "    }\n",
       "\n",
       "    .dataframe tbody tr th {\n",
       "        vertical-align: top;\n",
       "    }\n",
       "\n",
       "    .dataframe thead th {\n",
       "        text-align: right;\n",
       "    }\n",
       "</style>\n",
       "<table border=\"1\" class=\"dataframe\">\n",
       "  <thead>\n",
       "    <tr style=\"text-align: right;\">\n",
       "      <th></th>\n",
       "      <th>Year_Birth</th>\n",
       "      <th>Income</th>\n",
       "      <th>Recency</th>\n",
       "      <th>MntWines</th>\n",
       "      <th>MntFruits</th>\n",
       "      <th>MntMeatProducts</th>\n",
       "      <th>MntFishProducts</th>\n",
       "      <th>MntSweetProducts</th>\n",
       "      <th>MntGoldProds</th>\n",
       "      <th>NumDealsPurchases</th>\n",
       "      <th>NumWebPurchases</th>\n",
       "      <th>NumCatalogPurchases</th>\n",
       "      <th>NumStorePurchases</th>\n",
       "      <th>NumWebVisitsMonth</th>\n",
       "    </tr>\n",
       "  </thead>\n",
       "  <tbody>\n",
       "    <tr>\n",
       "      <th>count</th>\n",
       "      <td>2216.000000</td>\n",
       "      <td>2216.000000</td>\n",
       "      <td>2216.000000</td>\n",
       "      <td>2216.000000</td>\n",
       "      <td>2216.000000</td>\n",
       "      <td>2216.000000</td>\n",
       "      <td>2216.000000</td>\n",
       "      <td>2216.000000</td>\n",
       "      <td>2216.000000</td>\n",
       "      <td>2216.000000</td>\n",
       "      <td>2216.000000</td>\n",
       "      <td>2216.000000</td>\n",
       "      <td>2216.000000</td>\n",
       "      <td>2216.000000</td>\n",
       "    </tr>\n",
       "    <tr>\n",
       "      <th>mean</th>\n",
       "      <td>1968.820397</td>\n",
       "      <td>52247.251354</td>\n",
       "      <td>49.012635</td>\n",
       "      <td>305.091606</td>\n",
       "      <td>26.356047</td>\n",
       "      <td>166.995939</td>\n",
       "      <td>37.637635</td>\n",
       "      <td>27.028881</td>\n",
       "      <td>43.965253</td>\n",
       "      <td>2.323556</td>\n",
       "      <td>4.085289</td>\n",
       "      <td>2.671029</td>\n",
       "      <td>5.800993</td>\n",
       "      <td>5.319043</td>\n",
       "    </tr>\n",
       "    <tr>\n",
       "      <th>std</th>\n",
       "      <td>11.985554</td>\n",
       "      <td>25173.076661</td>\n",
       "      <td>28.948352</td>\n",
       "      <td>337.327920</td>\n",
       "      <td>39.793917</td>\n",
       "      <td>224.283273</td>\n",
       "      <td>54.752082</td>\n",
       "      <td>41.072046</td>\n",
       "      <td>51.815414</td>\n",
       "      <td>1.923716</td>\n",
       "      <td>2.740951</td>\n",
       "      <td>2.926734</td>\n",
       "      <td>3.250785</td>\n",
       "      <td>2.425359</td>\n",
       "    </tr>\n",
       "    <tr>\n",
       "      <th>min</th>\n",
       "      <td>1893.000000</td>\n",
       "      <td>1730.000000</td>\n",
       "      <td>0.000000</td>\n",
       "      <td>0.000000</td>\n",
       "      <td>0.000000</td>\n",
       "      <td>0.000000</td>\n",
       "      <td>0.000000</td>\n",
       "      <td>0.000000</td>\n",
       "      <td>0.000000</td>\n",
       "      <td>0.000000</td>\n",
       "      <td>0.000000</td>\n",
       "      <td>0.000000</td>\n",
       "      <td>0.000000</td>\n",
       "      <td>0.000000</td>\n",
       "    </tr>\n",
       "    <tr>\n",
       "      <th>25%</th>\n",
       "      <td>1959.000000</td>\n",
       "      <td>35303.000000</td>\n",
       "      <td>24.000000</td>\n",
       "      <td>24.000000</td>\n",
       "      <td>2.000000</td>\n",
       "      <td>16.000000</td>\n",
       "      <td>3.000000</td>\n",
       "      <td>1.000000</td>\n",
       "      <td>9.000000</td>\n",
       "      <td>1.000000</td>\n",
       "      <td>2.000000</td>\n",
       "      <td>0.000000</td>\n",
       "      <td>3.000000</td>\n",
       "      <td>3.000000</td>\n",
       "    </tr>\n",
       "    <tr>\n",
       "      <th>50%</th>\n",
       "      <td>1970.000000</td>\n",
       "      <td>51381.500000</td>\n",
       "      <td>49.000000</td>\n",
       "      <td>174.500000</td>\n",
       "      <td>8.000000</td>\n",
       "      <td>68.000000</td>\n",
       "      <td>12.000000</td>\n",
       "      <td>8.000000</td>\n",
       "      <td>24.500000</td>\n",
       "      <td>2.000000</td>\n",
       "      <td>4.000000</td>\n",
       "      <td>2.000000</td>\n",
       "      <td>5.000000</td>\n",
       "      <td>6.000000</td>\n",
       "    </tr>\n",
       "    <tr>\n",
       "      <th>75%</th>\n",
       "      <td>1977.000000</td>\n",
       "      <td>68522.000000</td>\n",
       "      <td>74.000000</td>\n",
       "      <td>505.000000</td>\n",
       "      <td>33.000000</td>\n",
       "      <td>232.250000</td>\n",
       "      <td>50.000000</td>\n",
       "      <td>33.000000</td>\n",
       "      <td>56.000000</td>\n",
       "      <td>3.000000</td>\n",
       "      <td>6.000000</td>\n",
       "      <td>4.000000</td>\n",
       "      <td>8.000000</td>\n",
       "      <td>7.000000</td>\n",
       "    </tr>\n",
       "    <tr>\n",
       "      <th>max</th>\n",
       "      <td>1996.000000</td>\n",
       "      <td>666666.000000</td>\n",
       "      <td>99.000000</td>\n",
       "      <td>1493.000000</td>\n",
       "      <td>199.000000</td>\n",
       "      <td>1725.000000</td>\n",
       "      <td>259.000000</td>\n",
       "      <td>262.000000</td>\n",
       "      <td>321.000000</td>\n",
       "      <td>15.000000</td>\n",
       "      <td>27.000000</td>\n",
       "      <td>28.000000</td>\n",
       "      <td>13.000000</td>\n",
       "      <td>20.000000</td>\n",
       "    </tr>\n",
       "  </tbody>\n",
       "</table>\n",
       "</div>"
      ],
      "text/plain": [
       "        Year_Birth         Income      Recency     MntWines    MntFruits  \\\n",
       "count  2216.000000    2216.000000  2216.000000  2216.000000  2216.000000   \n",
       "mean   1968.820397   52247.251354    49.012635   305.091606    26.356047   \n",
       "std      11.985554   25173.076661    28.948352   337.327920    39.793917   \n",
       "min    1893.000000    1730.000000     0.000000     0.000000     0.000000   \n",
       "25%    1959.000000   35303.000000    24.000000    24.000000     2.000000   \n",
       "50%    1970.000000   51381.500000    49.000000   174.500000     8.000000   \n",
       "75%    1977.000000   68522.000000    74.000000   505.000000    33.000000   \n",
       "max    1996.000000  666666.000000    99.000000  1493.000000   199.000000   \n",
       "\n",
       "       MntMeatProducts  MntFishProducts  MntSweetProducts  MntGoldProds  \\\n",
       "count      2216.000000      2216.000000       2216.000000   2216.000000   \n",
       "mean        166.995939        37.637635         27.028881     43.965253   \n",
       "std         224.283273        54.752082         41.072046     51.815414   \n",
       "min           0.000000         0.000000          0.000000      0.000000   \n",
       "25%          16.000000         3.000000          1.000000      9.000000   \n",
       "50%          68.000000        12.000000          8.000000     24.500000   \n",
       "75%         232.250000        50.000000         33.000000     56.000000   \n",
       "max        1725.000000       259.000000        262.000000    321.000000   \n",
       "\n",
       "       NumDealsPurchases  NumWebPurchases  NumCatalogPurchases  \\\n",
       "count        2216.000000      2216.000000          2216.000000   \n",
       "mean            2.323556         4.085289             2.671029   \n",
       "std             1.923716         2.740951             2.926734   \n",
       "min             0.000000         0.000000             0.000000   \n",
       "25%             1.000000         2.000000             0.000000   \n",
       "50%             2.000000         4.000000             2.000000   \n",
       "75%             3.000000         6.000000             4.000000   \n",
       "max            15.000000        27.000000            28.000000   \n",
       "\n",
       "       NumStorePurchases  NumWebVisitsMonth  \n",
       "count        2216.000000        2216.000000  \n",
       "mean            5.800993           5.319043  \n",
       "std             3.250785           2.425359  \n",
       "min             0.000000           0.000000  \n",
       "25%             3.000000           3.000000  \n",
       "50%             5.000000           6.000000  \n",
       "75%             8.000000           7.000000  \n",
       "max            13.000000          20.000000  "
      ]
     },
     "execution_count": 11,
     "metadata": {},
     "output_type": "execute_result"
    }
   ],
   "source": [
    "num_df.describe()"
   ]
  },
  {
   "cell_type": "code",
   "execution_count": 12,
   "id": "06280566",
   "metadata": {
    "execution": {
     "iopub.execute_input": "2023-01-19T09:16:52.639607Z",
     "iopub.status.busy": "2023-01-19T09:16:52.638684Z",
     "iopub.status.idle": "2023-01-19T09:16:52.659138Z",
     "shell.execute_reply": "2023-01-19T09:16:52.657941Z"
    },
    "executionInfo": {
     "elapsed": 731,
     "status": "ok",
     "timestamp": 1674117631279,
     "user": {
      "displayName": "JackyColab",
      "userId": "09488920115420130960"
     },
     "user_tz": -420
    },
    "id": "tlmbDMX6Hlnu",
    "outputId": "93aeac51-2b79-4dad-f094-bffd328bc9ed",
    "papermill": {
     "duration": 0.040057,
     "end_time": "2023-01-19T09:16:52.661590",
     "exception": false,
     "start_time": "2023-01-19T09:16:52.621533",
     "status": "completed"
    },
    "tags": []
   },
   "outputs": [
    {
     "data": {
      "text/html": [
       "<div>\n",
       "<style scoped>\n",
       "    .dataframe tbody tr th:only-of-type {\n",
       "        vertical-align: middle;\n",
       "    }\n",
       "\n",
       "    .dataframe tbody tr th {\n",
       "        vertical-align: top;\n",
       "    }\n",
       "\n",
       "    .dataframe thead th {\n",
       "        text-align: right;\n",
       "    }\n",
       "</style>\n",
       "<table border=\"1\" class=\"dataframe\">\n",
       "  <thead>\n",
       "    <tr style=\"text-align: right;\">\n",
       "      <th></th>\n",
       "      <th>Kidhome</th>\n",
       "      <th>Teenhome</th>\n",
       "      <th>Complain</th>\n",
       "    </tr>\n",
       "  </thead>\n",
       "  <tbody>\n",
       "    <tr>\n",
       "      <th>count</th>\n",
       "      <td>2216.000000</td>\n",
       "      <td>2216.000000</td>\n",
       "      <td>2216.000000</td>\n",
       "    </tr>\n",
       "    <tr>\n",
       "      <th>mean</th>\n",
       "      <td>0.441787</td>\n",
       "      <td>0.505415</td>\n",
       "      <td>0.009477</td>\n",
       "    </tr>\n",
       "    <tr>\n",
       "      <th>std</th>\n",
       "      <td>0.536896</td>\n",
       "      <td>0.544181</td>\n",
       "      <td>0.096907</td>\n",
       "    </tr>\n",
       "    <tr>\n",
       "      <th>min</th>\n",
       "      <td>0.000000</td>\n",
       "      <td>0.000000</td>\n",
       "      <td>0.000000</td>\n",
       "    </tr>\n",
       "    <tr>\n",
       "      <th>25%</th>\n",
       "      <td>0.000000</td>\n",
       "      <td>0.000000</td>\n",
       "      <td>0.000000</td>\n",
       "    </tr>\n",
       "    <tr>\n",
       "      <th>50%</th>\n",
       "      <td>0.000000</td>\n",
       "      <td>0.000000</td>\n",
       "      <td>0.000000</td>\n",
       "    </tr>\n",
       "    <tr>\n",
       "      <th>75%</th>\n",
       "      <td>1.000000</td>\n",
       "      <td>1.000000</td>\n",
       "      <td>0.000000</td>\n",
       "    </tr>\n",
       "    <tr>\n",
       "      <th>max</th>\n",
       "      <td>2.000000</td>\n",
       "      <td>2.000000</td>\n",
       "      <td>1.000000</td>\n",
       "    </tr>\n",
       "  </tbody>\n",
       "</table>\n",
       "</div>"
      ],
      "text/plain": [
       "           Kidhome     Teenhome     Complain\n",
       "count  2216.000000  2216.000000  2216.000000\n",
       "mean      0.441787     0.505415     0.009477\n",
       "std       0.536896     0.544181     0.096907\n",
       "min       0.000000     0.000000     0.000000\n",
       "25%       0.000000     0.000000     0.000000\n",
       "50%       0.000000     0.000000     0.000000\n",
       "75%       1.000000     1.000000     0.000000\n",
       "max       2.000000     2.000000     1.000000"
      ]
     },
     "execution_count": 12,
     "metadata": {},
     "output_type": "execute_result"
    }
   ],
   "source": [
    "bin_df.describe()"
   ]
  },
  {
   "cell_type": "code",
   "execution_count": 13,
   "id": "ef7290fd",
   "metadata": {
    "execution": {
     "iopub.execute_input": "2023-01-19T09:16:52.695732Z",
     "iopub.status.busy": "2023-01-19T09:16:52.695037Z",
     "iopub.status.idle": "2023-01-19T09:16:52.705962Z",
     "shell.execute_reply": "2023-01-19T09:16:52.704860Z"
    },
    "executionInfo": {
     "elapsed": 558,
     "status": "ok",
     "timestamp": 1674117634526,
     "user": {
      "displayName": "JackyColab",
      "userId": "09488920115420130960"
     },
     "user_tz": -420
    },
    "id": "LoOUGU9gH7hh",
    "outputId": "2a62556b-e056-45da-fc12-bfdb8a5e8e1c",
    "papermill": {
     "duration": 0.031167,
     "end_time": "2023-01-19T09:16:52.708332",
     "exception": false,
     "start_time": "2023-01-19T09:16:52.677165",
     "status": "completed"
    },
    "tags": []
   },
   "outputs": [
    {
     "data": {
      "text/plain": [
       "count    2216.000000\n",
       "mean        0.150271\n",
       "std         0.357417\n",
       "min         0.000000\n",
       "25%         0.000000\n",
       "50%         0.000000\n",
       "75%         0.000000\n",
       "max         1.000000\n",
       "Name: Response, dtype: float64"
      ]
     },
     "execution_count": 13,
     "metadata": {},
     "output_type": "execute_result"
    }
   ],
   "source": [
    "label.describe()"
   ]
  },
  {
   "cell_type": "markdown",
   "id": "d282570b",
   "metadata": {
    "id": "iIT8AhDKxiSs",
    "papermill": {
     "duration": 0.015657,
     "end_time": "2023-01-19T09:16:52.740005",
     "exception": false,
     "start_time": "2023-01-19T09:16:52.724348",
     "status": "completed"
    },
    "tags": []
   },
   "source": [
    "## **Plot**"
   ]
  },
  {
   "cell_type": "code",
   "execution_count": 14,
   "id": "9e532f43",
   "metadata": {
    "execution": {
     "iopub.execute_input": "2023-01-19T09:16:52.773729Z",
     "iopub.status.busy": "2023-01-19T09:16:52.773043Z",
     "iopub.status.idle": "2023-01-19T09:16:52.779855Z",
     "shell.execute_reply": "2023-01-19T09:16:52.778966Z"
    },
    "executionInfo": {
     "elapsed": 7,
     "status": "ok",
     "timestamp": 1674117641225,
     "user": {
      "displayName": "JackyColab",
      "userId": "09488920115420130960"
     },
     "user_tz": -420
    },
    "id": "MhT5kdXoxP5m",
    "papermill": {
     "duration": 0.026299,
     "end_time": "2023-01-19T09:16:52.782170",
     "exception": false,
     "start_time": "2023-01-19T09:16:52.755871",
     "status": "completed"
    },
    "tags": []
   },
   "outputs": [],
   "source": [
    "def plot_digit(dataframe):\n",
    "  col_name = np.array(dataframe.columns)\n",
    "  bins = dataframe.shape[0]\n",
    "  for col in col_name:\n",
    "    fig, axs = plt.subplots()\n",
    "    axs.hist(dataframe[col],\n",
    "             bins=bins,\n",
    "             edgecolor='black')\n",
    "    plt.xlabel('Values')\n",
    "    plt.ylabel('Responses')\n",
    "    plt.title(col)\n",
    "    plt.tight_layout()\n",
    "    plt.show()"
   ]
  },
  {
   "cell_type": "code",
   "execution_count": 15,
   "id": "b2cffa8c",
   "metadata": {
    "execution": {
     "iopub.execute_input": "2023-01-19T09:16:52.815664Z",
     "iopub.status.busy": "2023-01-19T09:16:52.814933Z",
     "iopub.status.idle": "2023-01-19T09:17:53.010595Z",
     "shell.execute_reply": "2023-01-19T09:17:53.009488Z"
    },
    "executionInfo": {
     "elapsed": 46975,
     "status": "ok",
     "timestamp": 1674117689854,
     "user": {
      "displayName": "JackyColab",
      "userId": "09488920115420130960"
     },
     "user_tz": -420
    },
    "id": "ZaNt47HQ5cxX",
    "outputId": "219ad126-6acc-41d6-d929-043ed4580b6e",
    "papermill": {
     "duration": 60.215359,
     "end_time": "2023-01-19T09:17:53.012933",
     "exception": false,
     "start_time": "2023-01-19T09:16:52.797574",
     "status": "completed"
    },
    "tags": []
   },
   "outputs": [
    {
     "data": {
      "image/png": "[encoded data removed]",
      "text/plain": [
       "<Figure size 432x288 with 1 Axes>"
      ]
     },
     "metadata": {
      "needs_background": "light"
     },
     "output_type": "display_data"
    },
    {
     "data": {
      "image/png": "[encoded data removed]",
      "text/plain": [
       "<Figure size 432x288 with 1 Axes>"
      ]
     },
     "metadata": {
      "needs_background": "light"
     },
     "output_type": "display_data"
    },
    {
     "data": {
      "image/png": "[encoded data removed]",
      "text/plain": [
       "<Figure size 432x288 with 1 Axes>"
      ]
     },
     "metadata": {
      "needs_background": "light"
     },
     "output_type": "display_data"
    },
    {
     "data": {
      "image/png": "[encoded data removed]",
      "text/plain": [
       "<Figure size 432x288 with 1 Axes>"
      ]
     },
     "metadata": {
      "needs_background": "light"
     },
     "output_type": "display_data"
    },
    {
     "data": {
      "image/png": "[encoded data removed]",
      "text/plain": [
       "<Figure size 432x288 with 1 Axes>"
      ]
     },
     "metadata": {
      "needs_background": "light"
     },
     "output_type": "display_data"
    },
    {
     "data": {
      "image/png": "[encoded data removed]",
      "text/plain": [
       "<Figure size 432x288 with 1 Axes>"
      ]
     },
     "metadata": {
      "needs_background": "light"
     },
     "output_type": "display_data"
    },
    {
     "data": {
      "image/png": "[encoded data removed]",
      "text/plain": [
       "<Figure size 432x288 with 1 Axes>"
      ]
     },
     "metadata": {
      "needs_background": "light"
     },
     "output_type": "display_data"
    },
    {
     "data": {
      "image/png": "[encoded data removed]",
      "text/plain": [
       "<Figure size 432x288 with 1 Axes>"
      ]
     },
     "metadata": {
      "needs_background": "light"
     },
     "output_type": "display_data"
    },
    {
     "data": {
      "image/png": "[encoded data removed]",
      "text/plain": [
       "<Figure size 432x288 with 1 Axes>"
      ]
     },
     "metadata": {
      "needs_background": "light"
     },
     "output_type": "display_data"
    },
    {
     "data": {
      "image/png": "[encoded data removed]",
      "text/plain": [
       "<Figure size 432x288 with 1 Axes>"
      ]
     },
     "metadata": {
      "needs_background": "light"
     },
     "output_type": "display_data"
    },
    {
     "data": {
      "image/png": "[encoded data removed]",
      "text/plain": [
       "<Figure size 432x288 with 1 Axes>"
      ]
     },
     "metadata": {
      "needs_background": "light"
     },
     "output_type": "display_data"
    },
    {
     "data": {
      "image/png": "[encoded data removed]",
      "text/plain": [
       "<Figure size 432x288 with 1 Axes>"
      ]
     },
     "metadata": {
      "needs_background": "light"
     },
     "output_type": "display_data"
    },
    {
     "data": {
      "image/png": "[encoded data removed]",
      "text/plain": [
       "<Figure size 432x288 with 1 Axes>"
      ]
     },
     "metadata": {
      "needs_background": "light"
     },
     "output_type": "display_data"
    },
    {
     "data": {
      "image/png": "[encoded data removed]",
      "text/plain": [
       "<Figure size 432x288 with 1 Axes>"
      ]
     },
     "metadata": {
      "needs_background": "light"
     },
     "output_type": "display_data"
    }
   ],
   "source": [
    "plot_digit(num_df)"
   ]
  },
  {
   "cell_type": "markdown",
   "id": "a0c13246",
   "metadata": {
    "id": "zMfk0PygtLPT",
    "papermill": {
     "duration": 0.018585,
     "end_time": "2023-01-19T09:17:53.050932",
     "exception": false,
     "start_time": "2023-01-19T09:17:53.032347",
     "status": "completed"
    },
    "tags": []
   },
   "source": [
    "# **Feature engineering**"
   ]
  },
  {
   "cell_type": "markdown",
   "id": "ce9ee372",
   "metadata": {
    "id": "HdQbFhOdV1K7",
    "papermill": {
     "duration": 0.018382,
     "end_time": "2023-01-19T09:17:53.088169",
     "exception": false,
     "start_time": "2023-01-19T09:17:53.069787",
     "status": "completed"
    },
    "tags": []
   },
   "source": [
    "## **Numeric data to Z score**"
   ]
  },
  {
   "cell_type": "code",
   "execution_count": 16,
   "id": "cc2de86b",
   "metadata": {
    "execution": {
     "iopub.execute_input": "2023-01-19T09:17:53.128237Z",
     "iopub.status.busy": "2023-01-19T09:17:53.127827Z",
     "iopub.status.idle": "2023-01-19T09:17:53.866381Z",
     "shell.execute_reply": "2023-01-19T09:17:53.865308Z"
    },
    "executionInfo": {
     "elapsed": 1306,
     "status": "ok",
     "timestamp": 1674117694566,
     "user": {
      "displayName": "JackyColab",
      "userId": "09488920115420130960"
     },
     "user_tz": -420
    },
    "id": "DGwCQCi0tHku",
    "papermill": {
     "duration": 0.762242,
     "end_time": "2023-01-19T09:17:53.869242",
     "exception": false,
     "start_time": "2023-01-19T09:17:53.107000",
     "status": "completed"
    },
    "tags": []
   },
   "outputs": [],
   "source": [
    "from scipy.stats import zscore"
   ]
  },
  {
   "cell_type": "code",
   "execution_count": 17,
   "id": "17d44c62",
   "metadata": {
    "execution": {
     "iopub.execute_input": "2023-01-19T09:17:53.909746Z",
     "iopub.status.busy": "2023-01-19T09:17:53.909344Z",
     "iopub.status.idle": "2023-01-19T09:17:53.936295Z",
     "shell.execute_reply": "2023-01-19T09:17:53.934950Z"
    },
    "executionInfo": {
     "elapsed": 18,
     "status": "ok",
     "timestamp": 1674117696646,
     "user": {
      "displayName": "JackyColab",
      "userId": "09488920115420130960"
     },
     "user_tz": -420
    },
    "id": "v17i7U1zTqTn",
    "outputId": "9794be0e-2210-4e26-c8ab-f46a6be3a935",
    "papermill": {
     "duration": 0.049904,
     "end_time": "2023-01-19T09:17:53.938722",
     "exception": false,
     "start_time": "2023-01-19T09:17:53.888818",
     "status": "completed"
    },
    "tags": []
   },
   "outputs": [
    {
     "data": {
      "text/html": [
       "<div>\n",
       "<style scoped>\n",
       "    .dataframe tbody tr th:only-of-type {\n",
       "        vertical-align: middle;\n",
       "    }\n",
       "\n",
       "    .dataframe tbody tr th {\n",
       "        vertical-align: top;\n",
       "    }\n",
       "\n",
       "    .dataframe thead th {\n",
       "        text-align: right;\n",
       "    }\n",
       "</style>\n",
       "<table border=\"1\" class=\"dataframe\">\n",
       "  <thead>\n",
       "    <tr style=\"text-align: right;\">\n",
       "      <th></th>\n",
       "      <th>Year_Birth</th>\n",
       "      <th>Income</th>\n",
       "      <th>Recency</th>\n",
       "      <th>MntWines</th>\n",
       "      <th>MntFruits</th>\n",
       "      <th>MntMeatProducts</th>\n",
       "      <th>MntFishProducts</th>\n",
       "      <th>MntSweetProducts</th>\n",
       "      <th>MntGoldProds</th>\n",
       "      <th>NumDealsPurchases</th>\n",
       "      <th>NumWebPurchases</th>\n",
       "      <th>NumCatalogPurchases</th>\n",
       "      <th>NumStorePurchases</th>\n",
       "      <th>NumWebVisitsMonth</th>\n",
       "    </tr>\n",
       "  </thead>\n",
       "  <tbody>\n",
       "    <tr>\n",
       "      <th>0</th>\n",
       "      <td>0.098441</td>\n",
       "      <td>1.294840</td>\n",
       "      <td>-1.693488</td>\n",
       "      <td>-0.344228</td>\n",
       "      <td>1.951592</td>\n",
       "      <td>0.945465</td>\n",
       "      <td>1.340203</td>\n",
       "      <td>3.944475</td>\n",
       "      <td>3.359503</td>\n",
       "      <td>-0.688176</td>\n",
       "      <td>-0.031124</td>\n",
       "      <td>0.454182</td>\n",
       "      <td>0.061232</td>\n",
       "      <td>-1.781187</td>\n",
       "    </tr>\n",
       "    <tr>\n",
       "      <th>1</th>\n",
       "      <td>-0.652633</td>\n",
       "      <td>0.192461</td>\n",
       "      <td>-1.693488</td>\n",
       "      <td>0.471186</td>\n",
       "      <td>-0.536787</td>\n",
       "      <td>-0.459326</td>\n",
       "      <td>-0.559697</td>\n",
       "      <td>-0.658233</td>\n",
       "      <td>-0.134455</td>\n",
       "      <td>-0.688176</td>\n",
       "      <td>1.063634</td>\n",
       "      <td>0.112428</td>\n",
       "      <td>0.368919</td>\n",
       "      <td>-0.131574</td>\n",
       "    </tr>\n",
       "    <tr>\n",
       "      <th>2</th>\n",
       "      <td>-0.902990</td>\n",
       "      <td>0.596794</td>\n",
       "      <td>-1.693488</td>\n",
       "      <td>-0.507311</td>\n",
       "      <td>-0.385976</td>\n",
       "      <td>-0.481624</td>\n",
       "      <td>-0.413550</td>\n",
       "      <td>-0.609527</td>\n",
       "      <td>-0.269580</td>\n",
       "      <td>-0.688176</td>\n",
       "      <td>-0.396043</td>\n",
       "      <td>-0.229327</td>\n",
       "      <td>-0.246455</td>\n",
       "      <td>-1.368784</td>\n",
       "    </tr>\n",
       "    <tr>\n",
       "      <th>3</th>\n",
       "      <td>-0.151917</td>\n",
       "      <td>-0.785669</td>\n",
       "      <td>-1.693488</td>\n",
       "      <td>-0.874989</td>\n",
       "      <td>-0.662463</td>\n",
       "      <td>-0.740284</td>\n",
       "      <td>-0.687574</td>\n",
       "      <td>-0.658233</td>\n",
       "      <td>-0.848689</td>\n",
       "      <td>-0.688176</td>\n",
       "      <td>-1.125881</td>\n",
       "      <td>-0.912837</td>\n",
       "      <td>-1.169518</td>\n",
       "      <td>0.693232</td>\n",
       "    </tr>\n",
       "    <tr>\n",
       "      <th>4</th>\n",
       "      <td>1.684040</td>\n",
       "      <td>-1.222743</td>\n",
       "      <td>-1.693488</td>\n",
       "      <td>-0.886850</td>\n",
       "      <td>-0.260301</td>\n",
       "      <td>-0.637712</td>\n",
       "      <td>-0.486623</td>\n",
       "      <td>-0.658233</td>\n",
       "      <td>-0.192366</td>\n",
       "      <td>-0.168231</td>\n",
       "      <td>-0.396043</td>\n",
       "      <td>-0.571082</td>\n",
       "      <td>-1.169518</td>\n",
       "      <td>0.693232</td>\n",
       "    </tr>\n",
       "  </tbody>\n",
       "</table>\n",
       "</div>"
      ],
      "text/plain": [
       "   Year_Birth    Income   Recency  MntWines  MntFruits  MntMeatProducts  \\\n",
       "0    0.098441  1.294840 -1.693488 -0.344228   1.951592         0.945465   \n",
       "1   -0.652633  0.192461 -1.693488  0.471186  -0.536787        -0.459326   \n",
       "2   -0.902990  0.596794 -1.693488 -0.507311  -0.385976        -0.481624   \n",
       "3   -0.151917 -0.785669 -1.693488 -0.874989  -0.662463        -0.740284   \n",
       "4    1.684040 -1.222743 -1.693488 -0.886850  -0.260301        -0.637712   \n",
       "\n",
       "   MntFishProducts  MntSweetProducts  MntGoldProds  NumDealsPurchases  \\\n",
       "0         1.340203          3.944475      3.359503          -0.688176   \n",
       "1        -0.559697         -0.658233     -0.134455          -0.688176   \n",
       "2        -0.413550         -0.609527     -0.269580          -0.688176   \n",
       "3        -0.687574         -0.658233     -0.848689          -0.688176   \n",
       "4        -0.486623         -0.658233     -0.192366          -0.168231   \n",
       "\n",
       "   NumWebPurchases  NumCatalogPurchases  NumStorePurchases  NumWebVisitsMonth  \n",
       "0        -0.031124             0.454182           0.061232          -1.781187  \n",
       "1         1.063634             0.112428           0.368919          -0.131574  \n",
       "2        -0.396043            -0.229327          -0.246455          -1.368784  \n",
       "3        -1.125881            -0.912837          -1.169518           0.693232  \n",
       "4        -0.396043            -0.571082          -1.169518           0.693232  "
      ]
     },
     "execution_count": 17,
     "metadata": {},
     "output_type": "execute_result"
    }
   ],
   "source": [
    "z_df = zscore(num_df)\n",
    "z_df.head()"
   ]
  },
  {
   "cell_type": "code",
   "execution_count": 18,
   "id": "7a323e95",
   "metadata": {
    "execution": {
     "iopub.execute_input": "2023-01-19T09:17:53.978740Z",
     "iopub.status.busy": "2023-01-19T09:17:53.978370Z",
     "iopub.status.idle": "2023-01-19T09:17:54.034306Z",
     "shell.execute_reply": "2023-01-19T09:17:54.032964Z"
    },
    "executionInfo": {
     "elapsed": 930,
     "status": "ok",
     "timestamp": 1674117699516,
     "user": {
      "displayName": "JackyColab",
      "userId": "09488920115420130960"
     },
     "user_tz": -420
    },
    "id": "vCxe2lhrUN2w",
    "outputId": "30df52c1-e2f7-4718-d3f3-966390ce5190",
    "papermill": {
     "duration": 0.079006,
     "end_time": "2023-01-19T09:17:54.036943",
     "exception": false,
     "start_time": "2023-01-19T09:17:53.957937",
     "status": "completed"
    },
    "tags": []
   },
   "outputs": [
    {
     "data": {
      "text/html": [
       "<div>\n",
       "<style scoped>\n",
       "    .dataframe tbody tr th:only-of-type {\n",
       "        vertical-align: middle;\n",
       "    }\n",
       "\n",
       "    .dataframe tbody tr th {\n",
       "        vertical-align: top;\n",
       "    }\n",
       "\n",
       "    .dataframe thead th {\n",
       "        text-align: right;\n",
       "    }\n",
       "</style>\n",
       "<table border=\"1\" class=\"dataframe\">\n",
       "  <thead>\n",
       "    <tr style=\"text-align: right;\">\n",
       "      <th></th>\n",
       "      <th>Year_Birth</th>\n",
       "      <th>Income</th>\n",
       "      <th>Recency</th>\n",
       "      <th>MntWines</th>\n",
       "      <th>MntFruits</th>\n",
       "      <th>MntMeatProducts</th>\n",
       "      <th>MntFishProducts</th>\n",
       "      <th>MntSweetProducts</th>\n",
       "      <th>MntGoldProds</th>\n",
       "      <th>NumDealsPurchases</th>\n",
       "      <th>NumWebPurchases</th>\n",
       "      <th>NumCatalogPurchases</th>\n",
       "      <th>NumStorePurchases</th>\n",
       "      <th>NumWebVisitsMonth</th>\n",
       "    </tr>\n",
       "  </thead>\n",
       "  <tbody>\n",
       "    <tr>\n",
       "      <th>count</th>\n",
       "      <td>2.216000e+03</td>\n",
       "      <td>2.216000e+03</td>\n",
       "      <td>2.216000e+03</td>\n",
       "      <td>2.216000e+03</td>\n",
       "      <td>2.216000e+03</td>\n",
       "      <td>2.216000e+03</td>\n",
       "      <td>2.216000e+03</td>\n",
       "      <td>2.216000e+03</td>\n",
       "      <td>2.216000e+03</td>\n",
       "      <td>2.216000e+03</td>\n",
       "      <td>2.216000e+03</td>\n",
       "      <td>2.216000e+03</td>\n",
       "      <td>2.216000e+03</td>\n",
       "      <td>2.216000e+03</td>\n",
       "    </tr>\n",
       "    <tr>\n",
       "      <th>mean</th>\n",
       "      <td>6.441698e-15</td>\n",
       "      <td>5.691396e-17</td>\n",
       "      <td>-5.130272e-17</td>\n",
       "      <td>-3.206420e-17</td>\n",
       "      <td>-6.412841e-18</td>\n",
       "      <td>-5.210433e-17</td>\n",
       "      <td>-2.084173e-17</td>\n",
       "      <td>-1.282568e-17</td>\n",
       "      <td>-1.603210e-17</td>\n",
       "      <td>-6.653322e-17</td>\n",
       "      <td>-9.859742e-17</td>\n",
       "      <td>-7.374767e-17</td>\n",
       "      <td>7.134285e-17</td>\n",
       "      <td>-5.771557e-17</td>\n",
       "    </tr>\n",
       "    <tr>\n",
       "      <th>std</th>\n",
       "      <td>1.000226e+00</td>\n",
       "      <td>1.000226e+00</td>\n",
       "      <td>1.000226e+00</td>\n",
       "      <td>1.000226e+00</td>\n",
       "      <td>1.000226e+00</td>\n",
       "      <td>1.000226e+00</td>\n",
       "      <td>1.000226e+00</td>\n",
       "      <td>1.000226e+00</td>\n",
       "      <td>1.000226e+00</td>\n",
       "      <td>1.000226e+00</td>\n",
       "      <td>1.000226e+00</td>\n",
       "      <td>1.000226e+00</td>\n",
       "      <td>1.000226e+00</td>\n",
       "      <td>1.000226e+00</td>\n",
       "    </tr>\n",
       "    <tr>\n",
       "      <th>min</th>\n",
       "      <td>-6.327410e+00</td>\n",
       "      <td>-2.007250e+00</td>\n",
       "      <td>-1.693488e+00</td>\n",
       "      <td>-9.046404e-01</td>\n",
       "      <td>-6.624630e-01</td>\n",
       "      <td>-7.447440e-01</td>\n",
       "      <td>-6.875744e-01</td>\n",
       "      <td>-6.582331e-01</td>\n",
       "      <td>-8.486891e-01</td>\n",
       "      <td>-1.208121e+00</td>\n",
       "      <td>-1.490800e+00</td>\n",
       "      <td>-9.128373e-01</td>\n",
       "      <td>-1.784893e+00</td>\n",
       "      <td>-2.193591e+00</td>\n",
       "    </tr>\n",
       "    <tr>\n",
       "      <th>25%</th>\n",
       "      <td>-8.195377e-01</td>\n",
       "      <td>-6.732620e-01</td>\n",
       "      <td>-8.642385e-01</td>\n",
       "      <td>-8.334770e-01</td>\n",
       "      <td>-6.121927e-01</td>\n",
       "      <td>-6.733896e-01</td>\n",
       "      <td>-6.327696e-01</td>\n",
       "      <td>-6.338802e-01</td>\n",
       "      <td>-6.749564e-01</td>\n",
       "      <td>-6.881759e-01</td>\n",
       "      <td>-7.609619e-01</td>\n",
       "      <td>-9.128373e-01</td>\n",
       "      <td>-8.618303e-01</td>\n",
       "      <td>-9.563810e-01</td>\n",
       "    </tr>\n",
       "    <tr>\n",
       "      <th>50%</th>\n",
       "      <td>9.844093e-02</td>\n",
       "      <td>-3.439972e-02</td>\n",
       "      <td>-4.365786e-04</td>\n",
       "      <td>-3.872229e-01</td>\n",
       "      <td>-4.613818e-01</td>\n",
       "      <td>-4.414876e-01</td>\n",
       "      <td>-4.683552e-01</td>\n",
       "      <td>-4.634095e-01</td>\n",
       "      <td>-3.757501e-01</td>\n",
       "      <td>-1.682312e-01</td>\n",
       "      <td>-3.112352e-02</td>\n",
       "      <td>-2.293274e-01</td>\n",
       "      <td>-2.464554e-01</td>\n",
       "      <td>2.808287e-01</td>\n",
       "    </tr>\n",
       "    <tr>\n",
       "      <th>75%</th>\n",
       "      <td>6.826092e-01</td>\n",
       "      <td>6.466600e-01</td>\n",
       "      <td>8.633654e-01</td>\n",
       "      <td>5.927571e-01</td>\n",
       "      <td>1.669967e-01</td>\n",
       "      <td>2.910105e-01</td>\n",
       "      <td>2.258390e-01</td>\n",
       "      <td>1.454144e-01</td>\n",
       "      <td>2.323143e-01</td>\n",
       "      <td>3.517135e-01</td>\n",
       "      <td>6.987149e-01</td>\n",
       "      <td>4.541825e-01</td>\n",
       "      <td>6.766069e-01</td>\n",
       "      <td>6.932320e-01</td>\n",
       "    </tr>\n",
       "    <tr>\n",
       "      <th>max</th>\n",
       "      <td>2.268209e+00</td>\n",
       "      <td>2.441328e+01</td>\n",
       "      <td>1.727167e+00</td>\n",
       "      <td>3.522319e+00</td>\n",
       "      <td>4.339430e+00</td>\n",
       "      <td>6.948158e+00</td>\n",
       "      <td>4.043907e+00</td>\n",
       "      <td>5.722241e+00</td>\n",
       "      <td>5.347777e+00</td>\n",
       "      <td>6.591050e+00</td>\n",
       "      <td>8.362018e+00</td>\n",
       "      <td>8.656301e+00</td>\n",
       "      <td>2.215044e+00</td>\n",
       "      <td>6.054474e+00</td>\n",
       "    </tr>\n",
       "  </tbody>\n",
       "</table>\n",
       "</div>"
      ],
      "text/plain": [
       "         Year_Birth        Income       Recency      MntWines     MntFruits  \\\n",
       "count  2.216000e+03  2.216000e+03  2.216000e+03  2.216000e+03  2.216000e+03   \n",
       "mean   6.441698e-15  5.691396e-17 -5.130272e-17 -3.206420e-17 -6.412841e-18   \n",
       "std    1.000226e+00  1.000226e+00  1.000226e+00  1.000226e+00  1.000226e+00   \n",
       "min   -6.327410e+00 -2.007250e+00 -1.693488e+00 -9.046404e-01 -6.624630e-01   \n",
       "25%   -8.195377e-01 -6.732620e-01 -8.642385e-01 -8.334770e-01 -6.121927e-01   \n",
       "50%    9.844093e-02 -3.439972e-02 -4.365786e-04 -3.872229e-01 -4.613818e-01   \n",
       "75%    6.826092e-01  6.466600e-01  8.633654e-01  5.927571e-01  1.669967e-01   \n",
       "max    2.268209e+00  2.441328e+01  1.727167e+00  3.522319e+00  4.339430e+00   \n",
       "\n",
       "       MntMeatProducts  MntFishProducts  MntSweetProducts  MntGoldProds  \\\n",
       "count     2.216000e+03     2.216000e+03      2.216000e+03  2.216000e+03   \n",
       "mean     -5.210433e-17    -2.084173e-17     -1.282568e-17 -1.603210e-17   \n",
       "std       1.000226e+00     1.000226e+00      1.000226e+00  1.000226e+00   \n",
       "min      -7.447440e-01    -6.875744e-01     -6.582331e-01 -8.486891e-01   \n",
       "25%      -6.733896e-01    -6.327696e-01     -6.338802e-01 -6.749564e-01   \n",
       "50%      -4.414876e-01    -4.683552e-01     -4.634095e-01 -3.757501e-01   \n",
       "75%       2.910105e-01     2.258390e-01      1.454144e-01  2.323143e-01   \n",
       "max       6.948158e+00     4.043907e+00      5.722241e+00  5.347777e+00   \n",
       "\n",
       "       NumDealsPurchases  NumWebPurchases  NumCatalogPurchases  \\\n",
       "count       2.216000e+03     2.216000e+03         2.216000e+03   \n",
       "mean       -6.653322e-17    -9.859742e-17        -7.374767e-17   \n",
       "std         1.000226e+00     1.000226e+00         1.000226e+00   \n",
       "min        -1.208121e+00    -1.490800e+00        -9.128373e-01   \n",
       "25%        -6.881759e-01    -7.609619e-01        -9.128373e-01   \n",
       "50%        -1.682312e-01    -3.112352e-02        -2.293274e-01   \n",
       "75%         3.517135e-01     6.987149e-01         4.541825e-01   \n",
       "max         6.591050e+00     8.362018e+00         8.656301e+00   \n",
       "\n",
       "       NumStorePurchases  NumWebVisitsMonth  \n",
       "count       2.216000e+03       2.216000e+03  \n",
       "mean        7.134285e-17      -5.771557e-17  \n",
       "std         1.000226e+00       1.000226e+00  \n",
       "min        -1.784893e+00      -2.193591e+00  \n",
       "25%        -8.618303e-01      -9.563810e-01  \n",
       "50%        -2.464554e-01       2.808287e-01  \n",
       "75%         6.766069e-01       6.932320e-01  \n",
       "max         2.215044e+00       6.054474e+00  "
      ]
     },
     "execution_count": 18,
     "metadata": {},
     "output_type": "execute_result"
    }
   ],
   "source": [
    "z_df.describe()"
   ]
  },
  {
   "cell_type": "code",
   "execution_count": 19,
   "id": "08f42e6a",
   "metadata": {
    "execution": {
     "iopub.execute_input": "2023-01-19T09:17:54.079612Z",
     "iopub.status.busy": "2023-01-19T09:17:54.078789Z",
     "iopub.status.idle": "2023-01-19T09:18:52.990724Z",
     "shell.execute_reply": "2023-01-19T09:18:52.989547Z"
    },
    "executionInfo": {
     "elapsed": 48692,
     "status": "ok",
     "timestamp": 1674117750760,
     "user": {
      "displayName": "JackyColab",
      "userId": "09488920115420130960"
     },
     "user_tz": -420
    },
    "id": "SCB-87GgURmD",
    "outputId": "7047a867-3ad4-423a-ba41-cdf74a84ddda",
    "papermill": {
     "duration": 58.935545,
     "end_time": "2023-01-19T09:18:52.993053",
     "exception": false,
     "start_time": "2023-01-19T09:17:54.057508",
     "status": "completed"
    },
    "tags": []
   },
   "outputs": [
    {
     "data": {
      "image/png": "[encoded data removed]",
      "text/plain": [
       "<Figure size 432x288 with 1 Axes>"
      ]
     },
     "metadata": {
      "needs_background": "light"
     },
     "output_type": "display_data"
    },
    {
     "data": {
      "image/png": "[encoded data removed]",
      "text/plain": [
       "<Figure size 432x288 with 1 Axes>"
      ]
     },
     "metadata": {
      "needs_background": "light"
     },
     "output_type": "display_data"
    },
    {
     "data": {
      "image/png": "[encoded data removed]",
      "text/plain": [
       "<Figure size 432x288 with 1 Axes>"
      ]
     },
     "metadata": {
      "needs_background": "light"
     },
     "output_type": "display_data"
    },
    {
     "data": {
      "image/png": "[encoded data removed]",
      "text/plain": [
       "<Figure size 432x288 with 1 Axes>"
      ]
     },
     "metadata": {
      "needs_background": "light"
     },
     "output_type": "display_data"
    },
    {
     "data": {
      "image/png": "[encoded data removed]",
      "text/plain": [
       "<Figure size 432x288 with 1 Axes>"
      ]
     },
     "metadata": {
      "needs_background": "light"
     },
     "output_type": "display_data"
    },
    {
     "data": {
      "image/png": "[encoded data removed]",
      "text/plain": [
       "<Figure size 432x288 with 1 Axes>"
      ]
     },
     "metadata": {
      "needs_background": "light"
     },
     "output_type": "display_data"
    },
    {
     "data": {
      "image/png": "[encoded data removed]",
      "text/plain": [
       "<Figure size 432x288 with 1 Axes>"
      ]
     },
     "metadata": {
      "needs_background": "light"
     },
     "output_type": "display_data"
    },
    {
     "data": {
      "image/png": "[encoded data removed]",
      "text/plain": [
       "<Figure size 432x288 with 1 Axes>"
      ]
     },
     "metadata": {
      "needs_background": "light"
     },
     "output_type": "display_data"
    },
    {
     "data": {
      "image/png": "[encoded data removed]",
      "text/plain": [
       "<Figure size 432x288 with 1 Axes>"
      ]
     },
     "metadata": {
      "needs_background": "light"
     },
     "output_type": "display_data"
    },
    {
     "data": {
      "image/png": "[encoded data removed]",
      "text/plain": [
       "<Figure size 432x288 with 1 Axes>"
      ]
     },
     "metadata": {
      "needs_background": "light"
     },
     "output_type": "display_data"
    },
    {
     "data": {
      "image/png": "[encoded data removed]",
      "text/plain": [
       "<Figure size 432x288 with 1 Axes>"
      ]
     },
     "metadata": {
      "needs_background": "light"
     },
     "output_type": "display_data"
    },
    {
     "data": {
      "image/png": "[encoded data removed]",
      "text/plain": [
       "<Figure size 432x288 with 1 Axes>"
      ]
     },
     "metadata": {
      "needs_background": "light"
     },
     "output_type": "display_data"
    },
    {
     "data": {
      "image/png": "[encoded data removed]",
      "text/plain": [
       "<Figure size 432x288 with 1 Axes>"
      ]
     },
     "metadata": {
      "needs_background": "light"
     },
     "output_type": "display_data"
    },
    {
     "data": {
      "image/png": "[encoded data removed]",
      "text/plain": [
       "<Figure size 432x288 with 1 Axes>"
      ]
     },
     "metadata": {
      "needs_background": "light"
     },
     "output_type": "display_data"
    }
   ],
   "source": [
    "plot_digit(z_df)"
   ]
  },
  {
   "cell_type": "markdown",
   "id": "95c6ceb7",
   "metadata": {
    "id": "ljYvG-nkWKBM",
    "papermill": {
     "duration": 0.022749,
     "end_time": "2023-01-19T09:18:53.039054",
     "exception": false,
     "start_time": "2023-01-19T09:18:53.016305",
     "status": "completed"
    },
    "tags": []
   },
   "source": [
    "## **Object data to Onehot data**"
   ]
  },
  {
   "cell_type": "code",
   "execution_count": 20,
   "id": "952d738b",
   "metadata": {
    "execution": {
     "iopub.execute_input": "2023-01-19T09:18:53.087040Z",
     "iopub.status.busy": "2023-01-19T09:18:53.085916Z",
     "iopub.status.idle": "2023-01-19T09:18:53.096222Z",
     "shell.execute_reply": "2023-01-19T09:18:53.095195Z"
    },
    "executionInfo": {
     "elapsed": 608,
     "status": "ok",
     "timestamp": 1674117756246,
     "user": {
      "displayName": "JackyColab",
      "userId": "09488920115420130960"
     },
     "user_tz": -420
    },
    "id": "8mifPeCxKb5E",
    "outputId": "434ea282-a449-43be-aa6f-e72881643a53",
    "papermill": {
     "duration": 0.036534,
     "end_time": "2023-01-19T09:18:53.098442",
     "exception": false,
     "start_time": "2023-01-19T09:18:53.061908",
     "status": "completed"
    },
    "tags": []
   },
   "outputs": [
    {
     "data": {
      "text/html": [
       "<div>\n",
       "<style scoped>\n",
       "    .dataframe tbody tr th:only-of-type {\n",
       "        vertical-align: middle;\n",
       "    }\n",
       "\n",
       "    .dataframe tbody tr th {\n",
       "        vertical-align: top;\n",
       "    }\n",
       "\n",
       "    .dataframe thead th {\n",
       "        text-align: right;\n",
       "    }\n",
       "</style>\n",
       "<table border=\"1\" class=\"dataframe\">\n",
       "  <thead>\n",
       "    <tr style=\"text-align: right;\">\n",
       "      <th></th>\n",
       "      <th>Education</th>\n",
       "      <th>Marital_Status</th>\n",
       "    </tr>\n",
       "  </thead>\n",
       "  <tbody>\n",
       "    <tr>\n",
       "      <th>0</th>\n",
       "      <td>Graduation</td>\n",
       "      <td>Divorced</td>\n",
       "    </tr>\n",
       "    <tr>\n",
       "      <th>1</th>\n",
       "      <td>Graduation</td>\n",
       "      <td>Single</td>\n",
       "    </tr>\n",
       "    <tr>\n",
       "      <th>2</th>\n",
       "      <td>Graduation</td>\n",
       "      <td>Married</td>\n",
       "    </tr>\n",
       "    <tr>\n",
       "      <th>3</th>\n",
       "      <td>Graduation</td>\n",
       "      <td>Together</td>\n",
       "    </tr>\n",
       "    <tr>\n",
       "      <th>4</th>\n",
       "      <td>Graduation</td>\n",
       "      <td>Single</td>\n",
       "    </tr>\n",
       "  </tbody>\n",
       "</table>\n",
       "</div>"
      ],
      "text/plain": [
       "    Education Marital_Status\n",
       "0  Graduation       Divorced\n",
       "1  Graduation         Single\n",
       "2  Graduation        Married\n",
       "3  Graduation       Together\n",
       "4  Graduation         Single"
      ]
     },
     "execution_count": 20,
     "metadata": {},
     "output_type": "execute_result"
    }
   ],
   "source": [
    "obj_df.head()"
   ]
  },
  {
   "cell_type": "code",
   "execution_count": 21,
   "id": "4443a321",
   "metadata": {
    "execution": {
     "iopub.execute_input": "2023-01-19T09:18:53.146452Z",
     "iopub.status.busy": "2023-01-19T09:18:53.146009Z",
     "iopub.status.idle": "2023-01-19T09:18:53.164147Z",
     "shell.execute_reply": "2023-01-19T09:18:53.163353Z"
    },
    "executionInfo": {
     "elapsed": 16,
     "status": "ok",
     "timestamp": 1674117759246,
     "user": {
      "displayName": "JackyColab",
      "userId": "09488920115420130960"
     },
     "user_tz": -420
    },
    "id": "9h5HsPi5Ki3s",
    "outputId": "5f4a2467-430d-40f6-dacd-6ea036e55b3f",
    "papermill": {
     "duration": 0.044726,
     "end_time": "2023-01-19T09:18:53.166367",
     "exception": false,
     "start_time": "2023-01-19T09:18:53.121641",
     "status": "completed"
    },
    "tags": []
   },
   "outputs": [
    {
     "data": {
      "text/html": [
       "<div>\n",
       "<style scoped>\n",
       "    .dataframe tbody tr th:only-of-type {\n",
       "        vertical-align: middle;\n",
       "    }\n",
       "\n",
       "    .dataframe tbody tr th {\n",
       "        vertical-align: top;\n",
       "    }\n",
       "\n",
       "    .dataframe thead th {\n",
       "        text-align: right;\n",
       "    }\n",
       "</style>\n",
       "<table border=\"1\" class=\"dataframe\">\n",
       "  <thead>\n",
       "    <tr style=\"text-align: right;\">\n",
       "      <th></th>\n",
       "      <th>Education_2n Cycle</th>\n",
       "      <th>Education_Basic</th>\n",
       "      <th>Education_Graduation</th>\n",
       "      <th>Education_Master</th>\n",
       "      <th>Education_PhD</th>\n",
       "      <th>Marital_Status_Absurd</th>\n",
       "      <th>Marital_Status_Alone</th>\n",
       "      <th>Marital_Status_Divorced</th>\n",
       "      <th>Marital_Status_Married</th>\n",
       "      <th>Marital_Status_Single</th>\n",
       "      <th>Marital_Status_Together</th>\n",
       "      <th>Marital_Status_Widow</th>\n",
       "      <th>Marital_Status_YOLO</th>\n",
       "    </tr>\n",
       "  </thead>\n",
       "  <tbody>\n",
       "    <tr>\n",
       "      <th>0</th>\n",
       "      <td>0</td>\n",
       "      <td>0</td>\n",
       "      <td>1</td>\n",
       "      <td>0</td>\n",
       "      <td>0</td>\n",
       "      <td>0</td>\n",
       "      <td>0</td>\n",
       "      <td>1</td>\n",
       "      <td>0</td>\n",
       "      <td>0</td>\n",
       "      <td>0</td>\n",
       "      <td>0</td>\n",
       "      <td>0</td>\n",
       "    </tr>\n",
       "    <tr>\n",
       "      <th>1</th>\n",
       "      <td>0</td>\n",
       "      <td>0</td>\n",
       "      <td>1</td>\n",
       "      <td>0</td>\n",
       "      <td>0</td>\n",
       "      <td>0</td>\n",
       "      <td>0</td>\n",
       "      <td>0</td>\n",
       "      <td>0</td>\n",
       "      <td>1</td>\n",
       "      <td>0</td>\n",
       "      <td>0</td>\n",
       "      <td>0</td>\n",
       "    </tr>\n",
       "    <tr>\n",
       "      <th>2</th>\n",
       "      <td>0</td>\n",
       "      <td>0</td>\n",
       "      <td>1</td>\n",
       "      <td>0</td>\n",
       "      <td>0</td>\n",
       "      <td>0</td>\n",
       "      <td>0</td>\n",
       "      <td>0</td>\n",
       "      <td>1</td>\n",
       "      <td>0</td>\n",
       "      <td>0</td>\n",
       "      <td>0</td>\n",
       "      <td>0</td>\n",
       "    </tr>\n",
       "    <tr>\n",
       "      <th>3</th>\n",
       "      <td>0</td>\n",
       "      <td>0</td>\n",
       "      <td>1</td>\n",
       "      <td>0</td>\n",
       "      <td>0</td>\n",
       "      <td>0</td>\n",
       "      <td>0</td>\n",
       "      <td>0</td>\n",
       "      <td>0</td>\n",
       "      <td>0</td>\n",
       "      <td>1</td>\n",
       "      <td>0</td>\n",
       "      <td>0</td>\n",
       "    </tr>\n",
       "    <tr>\n",
       "      <th>4</th>\n",
       "      <td>0</td>\n",
       "      <td>0</td>\n",
       "      <td>1</td>\n",
       "      <td>0</td>\n",
       "      <td>0</td>\n",
       "      <td>0</td>\n",
       "      <td>0</td>\n",
       "      <td>0</td>\n",
       "      <td>0</td>\n",
       "      <td>1</td>\n",
       "      <td>0</td>\n",
       "      <td>0</td>\n",
       "      <td>0</td>\n",
       "    </tr>\n",
       "  </tbody>\n",
       "</table>\n",
       "</div>"
      ],
      "text/plain": [
       "   Education_2n Cycle  Education_Basic  Education_Graduation  \\\n",
       "0                   0                0                     1   \n",
       "1                   0                0                     1   \n",
       "2                   0                0                     1   \n",
       "3                   0                0                     1   \n",
       "4                   0                0                     1   \n",
       "\n",
       "   Education_Master  Education_PhD  Marital_Status_Absurd  \\\n",
       "0                 0              0                      0   \n",
       "1                 0              0                      0   \n",
       "2                 0              0                      0   \n",
       "3                 0              0                      0   \n",
       "4                 0              0                      0   \n",
       "\n",
       "   Marital_Status_Alone  Marital_Status_Divorced  Marital_Status_Married  \\\n",
       "0                     0                        1                       0   \n",
       "1                     0                        0                       0   \n",
       "2                     0                        0                       1   \n",
       "3                     0                        0                       0   \n",
       "4                     0                        0                       0   \n",
       "\n",
       "   Marital_Status_Single  Marital_Status_Together  Marital_Status_Widow  \\\n",
       "0                      0                        0                     0   \n",
       "1                      1                        0                     0   \n",
       "2                      0                        0                     0   \n",
       "3                      0                        1                     0   \n",
       "4                      1                        0                     0   \n",
       "\n",
       "   Marital_Status_YOLO  \n",
       "0                    0  \n",
       "1                    0  \n",
       "2                    0  \n",
       "3                    0  \n",
       "4                    0  "
      ]
     },
     "execution_count": 21,
     "metadata": {},
     "output_type": "execute_result"
    }
   ],
   "source": [
    "onehot_df = pd.get_dummies(obj_df)\n",
    "onehot_df.head()"
   ]
  },
  {
   "cell_type": "markdown",
   "id": "5520fbc7",
   "metadata": {
    "id": "ofR4bqpKWRQH",
    "papermill": {
     "duration": 0.023139,
     "end_time": "2023-01-19T09:18:53.212744",
     "exception": false,
     "start_time": "2023-01-19T09:18:53.189605",
     "status": "completed"
    },
    "tags": []
   },
   "source": [
    "## **Combine all features**"
   ]
  },
  {
   "cell_type": "code",
   "execution_count": 22,
   "id": "aa61f7b5",
   "metadata": {
    "execution": {
     "iopub.execute_input": "2023-01-19T09:18:53.261288Z",
     "iopub.status.busy": "2023-01-19T09:18:53.260534Z",
     "iopub.status.idle": "2023-01-19T09:18:53.283821Z",
     "shell.execute_reply": "2023-01-19T09:18:53.282724Z"
    },
    "executionInfo": {
     "elapsed": 555,
     "status": "ok",
     "timestamp": 1674117762996,
     "user": {
      "displayName": "JackyColab",
      "userId": "09488920115420130960"
     },
     "user_tz": -420
    },
    "id": "XYn2pTr2K8KT",
    "outputId": "3df408fd-7ae0-4744-ae43-4a485d49e1a1",
    "papermill": {
     "duration": 0.050031,
     "end_time": "2023-01-19T09:18:53.286018",
     "exception": false,
     "start_time": "2023-01-19T09:18:53.235987",
     "status": "completed"
    },
    "tags": []
   },
   "outputs": [
    {
     "data": {
      "text/html": [
       "<div>\n",
       "<style scoped>\n",
       "    .dataframe tbody tr th:only-of-type {\n",
       "        vertical-align: middle;\n",
       "    }\n",
       "\n",
       "    .dataframe tbody tr th {\n",
       "        vertical-align: top;\n",
       "    }\n",
       "\n",
       "    .dataframe thead th {\n",
       "        text-align: right;\n",
       "    }\n",
       "</style>\n",
       "<table border=\"1\" class=\"dataframe\">\n",
       "  <thead>\n",
       "    <tr style=\"text-align: right;\">\n",
       "      <th></th>\n",
       "      <th>Year_Birth</th>\n",
       "      <th>Income</th>\n",
       "      <th>Recency</th>\n",
       "      <th>MntWines</th>\n",
       "      <th>MntFruits</th>\n",
       "      <th>MntMeatProducts</th>\n",
       "      <th>MntFishProducts</th>\n",
       "      <th>MntSweetProducts</th>\n",
       "      <th>MntGoldProds</th>\n",
       "      <th>NumDealsPurchases</th>\n",
       "      <th>...</th>\n",
       "      <th>Education_Master</th>\n",
       "      <th>Education_PhD</th>\n",
       "      <th>Marital_Status_Absurd</th>\n",
       "      <th>Marital_Status_Alone</th>\n",
       "      <th>Marital_Status_Divorced</th>\n",
       "      <th>Marital_Status_Married</th>\n",
       "      <th>Marital_Status_Single</th>\n",
       "      <th>Marital_Status_Together</th>\n",
       "      <th>Marital_Status_Widow</th>\n",
       "      <th>Marital_Status_YOLO</th>\n",
       "    </tr>\n",
       "  </thead>\n",
       "  <tbody>\n",
       "    <tr>\n",
       "      <th>0</th>\n",
       "      <td>0.098441</td>\n",
       "      <td>1.294840</td>\n",
       "      <td>-1.693488</td>\n",
       "      <td>-0.344228</td>\n",
       "      <td>1.951592</td>\n",
       "      <td>0.945465</td>\n",
       "      <td>1.340203</td>\n",
       "      <td>3.944475</td>\n",
       "      <td>3.359503</td>\n",
       "      <td>-0.688176</td>\n",
       "      <td>...</td>\n",
       "      <td>0</td>\n",
       "      <td>0</td>\n",
       "      <td>0</td>\n",
       "      <td>0</td>\n",
       "      <td>1</td>\n",
       "      <td>0</td>\n",
       "      <td>0</td>\n",
       "      <td>0</td>\n",
       "      <td>0</td>\n",
       "      <td>0</td>\n",
       "    </tr>\n",
       "    <tr>\n",
       "      <th>1</th>\n",
       "      <td>-0.652633</td>\n",
       "      <td>0.192461</td>\n",
       "      <td>-1.693488</td>\n",
       "      <td>0.471186</td>\n",
       "      <td>-0.536787</td>\n",
       "      <td>-0.459326</td>\n",
       "      <td>-0.559697</td>\n",
       "      <td>-0.658233</td>\n",
       "      <td>-0.134455</td>\n",
       "      <td>-0.688176</td>\n",
       "      <td>...</td>\n",
       "      <td>0</td>\n",
       "      <td>0</td>\n",
       "      <td>0</td>\n",
       "      <td>0</td>\n",
       "      <td>0</td>\n",
       "      <td>0</td>\n",
       "      <td>1</td>\n",
       "      <td>0</td>\n",
       "      <td>0</td>\n",
       "      <td>0</td>\n",
       "    </tr>\n",
       "    <tr>\n",
       "      <th>2</th>\n",
       "      <td>-0.902990</td>\n",
       "      <td>0.596794</td>\n",
       "      <td>-1.693488</td>\n",
       "      <td>-0.507311</td>\n",
       "      <td>-0.385976</td>\n",
       "      <td>-0.481624</td>\n",
       "      <td>-0.413550</td>\n",
       "      <td>-0.609527</td>\n",
       "      <td>-0.269580</td>\n",
       "      <td>-0.688176</td>\n",
       "      <td>...</td>\n",
       "      <td>0</td>\n",
       "      <td>0</td>\n",
       "      <td>0</td>\n",
       "      <td>0</td>\n",
       "      <td>0</td>\n",
       "      <td>1</td>\n",
       "      <td>0</td>\n",
       "      <td>0</td>\n",
       "      <td>0</td>\n",
       "      <td>0</td>\n",
       "    </tr>\n",
       "    <tr>\n",
       "      <th>3</th>\n",
       "      <td>-0.151917</td>\n",
       "      <td>-0.785669</td>\n",
       "      <td>-1.693488</td>\n",
       "      <td>-0.874989</td>\n",
       "      <td>-0.662463</td>\n",
       "      <td>-0.740284</td>\n",
       "      <td>-0.687574</td>\n",
       "      <td>-0.658233</td>\n",
       "      <td>-0.848689</td>\n",
       "      <td>-0.688176</td>\n",
       "      <td>...</td>\n",
       "      <td>0</td>\n",
       "      <td>0</td>\n",
       "      <td>0</td>\n",
       "      <td>0</td>\n",
       "      <td>0</td>\n",
       "      <td>0</td>\n",
       "      <td>0</td>\n",
       "      <td>1</td>\n",
       "      <td>0</td>\n",
       "      <td>0</td>\n",
       "    </tr>\n",
       "    <tr>\n",
       "      <th>4</th>\n",
       "      <td>1.684040</td>\n",
       "      <td>-1.222743</td>\n",
       "      <td>-1.693488</td>\n",
       "      <td>-0.886850</td>\n",
       "      <td>-0.260301</td>\n",
       "      <td>-0.637712</td>\n",
       "      <td>-0.486623</td>\n",
       "      <td>-0.658233</td>\n",
       "      <td>-0.192366</td>\n",
       "      <td>-0.168231</td>\n",
       "      <td>...</td>\n",
       "      <td>0</td>\n",
       "      <td>0</td>\n",
       "      <td>0</td>\n",
       "      <td>0</td>\n",
       "      <td>0</td>\n",
       "      <td>0</td>\n",
       "      <td>1</td>\n",
       "      <td>0</td>\n",
       "      <td>0</td>\n",
       "      <td>0</td>\n",
       "    </tr>\n",
       "  </tbody>\n",
       "</table>\n",
       "<p>5 rows × 30 columns</p>\n",
       "</div>"
      ],
      "text/plain": [
       "   Year_Birth    Income   Recency  MntWines  MntFruits  MntMeatProducts  \\\n",
       "0    0.098441  1.294840 -1.693488 -0.344228   1.951592         0.945465   \n",
       "1   -0.652633  0.192461 -1.693488  0.471186  -0.536787        -0.459326   \n",
       "2   -0.902990  0.596794 -1.693488 -0.507311  -0.385976        -0.481624   \n",
       "3   -0.151917 -0.785669 -1.693488 -0.874989  -0.662463        -0.740284   \n",
       "4    1.684040 -1.222743 -1.693488 -0.886850  -0.260301        -0.637712   \n",
       "\n",
       "   MntFishProducts  MntSweetProducts  MntGoldProds  NumDealsPurchases  ...  \\\n",
       "0         1.340203          3.944475      3.359503          -0.688176  ...   \n",
       "1        -0.559697         -0.658233     -0.134455          -0.688176  ...   \n",
       "2        -0.413550         -0.609527     -0.269580          -0.688176  ...   \n",
       "3        -0.687574         -0.658233     -0.848689          -0.688176  ...   \n",
       "4        -0.486623         -0.658233     -0.192366          -0.168231  ...   \n",
       "\n",
       "   Education_Master  Education_PhD  Marital_Status_Absurd  \\\n",
       "0                 0              0                      0   \n",
       "1                 0              0                      0   \n",
       "2                 0              0                      0   \n",
       "3                 0              0                      0   \n",
       "4                 0              0                      0   \n",
       "\n",
       "   Marital_Status_Alone  Marital_Status_Divorced  Marital_Status_Married  \\\n",
       "0                     0                        1                       0   \n",
       "1                     0                        0                       0   \n",
       "2                     0                        0                       1   \n",
       "3                     0                        0                       0   \n",
       "4                     0                        0                       0   \n",
       "\n",
       "   Marital_Status_Single  Marital_Status_Together  Marital_Status_Widow  \\\n",
       "0                      0                        0                     0   \n",
       "1                      1                        0                     0   \n",
       "2                      0                        0                     0   \n",
       "3                      0                        1                     0   \n",
       "4                      1                        0                     0   \n",
       "\n",
       "   Marital_Status_YOLO  \n",
       "0                    0  \n",
       "1                    0  \n",
       "2                    0  \n",
       "3                    0  \n",
       "4                    0  \n",
       "\n",
       "[5 rows x 30 columns]"
      ]
     },
     "execution_count": 22,
     "metadata": {},
     "output_type": "execute_result"
    }
   ],
   "source": [
    "features = pd.concat([z_df, bin_df, onehot_df], axis=1)\n",
    "features.head()"
   ]
  },
  {
   "cell_type": "markdown",
   "id": "1909467c",
   "metadata": {
    "id": "A-ByJejWVYCk",
    "papermill": {
     "duration": 0.02276,
     "end_time": "2023-01-19T09:18:53.332350",
     "exception": false,
     "start_time": "2023-01-19T09:18:53.309590",
     "status": "completed"
    },
    "tags": []
   },
   "source": [
    "# **Model**"
   ]
  },
  {
   "cell_type": "code",
   "execution_count": 23,
   "id": "814a1a52",
   "metadata": {
    "execution": {
     "iopub.execute_input": "2023-01-19T09:18:53.380286Z",
     "iopub.status.busy": "2023-01-19T09:18:53.379855Z",
     "iopub.status.idle": "2023-01-19T09:18:59.683108Z",
     "shell.execute_reply": "2023-01-19T09:18:59.681980Z"
    },
    "executionInfo": {
     "elapsed": 667,
     "status": "ok",
     "timestamp": 1674117767658,
     "user": {
      "displayName": "JackyColab",
      "userId": "09488920115420130960"
     },
     "user_tz": -420
    },
    "id": "HxYvqpFMVXQ8",
    "papermill": {
     "duration": 6.330461,
     "end_time": "2023-01-19T09:18:59.685876",
     "exception": false,
     "start_time": "2023-01-19T09:18:53.355415",
     "status": "completed"
    },
    "tags": []
   },
   "outputs": [],
   "source": [
    "import tensorflow as tf\n",
    "from tensorflow.keras.layers import Dense, InputLayer\n",
    "from tensorflow.keras.models import Sequential, Model\n",
    "from tensorflow.keras.optimizers import Adam\n",
    "from tensorflow.keras.losses import BinaryCrossentropy\n",
    "from sklearn.model_selection import train_test_split\n",
    "from sklearn.metrics import confusion_matrix, classification_report, ConfusionMatrixDisplay"
   ]
  },
  {
   "cell_type": "markdown",
   "id": "c31b9784",
   "metadata": {
    "id": "6JbtO0qNpcPn",
    "papermill": {
     "duration": 0.025252,
     "end_time": "2023-01-19T09:18:59.738608",
     "exception": false,
     "start_time": "2023-01-19T09:18:59.713356",
     "status": "completed"
    },
    "tags": []
   },
   "source": [
    "## **Split data**"
   ]
  },
  {
   "cell_type": "code",
   "execution_count": 24,
   "id": "bfbb08dc",
   "metadata": {
    "execution": {
     "iopub.execute_input": "2023-01-19T09:18:59.787957Z",
     "iopub.status.busy": "2023-01-19T09:18:59.786724Z",
     "iopub.status.idle": "2023-01-19T09:18:59.797244Z",
     "shell.execute_reply": "2023-01-19T09:18:59.796107Z"
    },
    "executionInfo": {
     "elapsed": 4,
     "status": "ok",
     "timestamp": 1674117770190,
     "user": {
      "displayName": "JackyColab",
      "userId": "09488920115420130960"
     },
     "user_tz": -420
    },
    "id": "vP-6CEH7pgdk",
    "papermill": {
     "duration": 0.037474,
     "end_time": "2023-01-19T09:18:59.799693",
     "exception": false,
     "start_time": "2023-01-19T09:18:59.762219",
     "status": "completed"
    },
    "tags": []
   },
   "outputs": [],
   "source": [
    "x_train, x_test, y_train, y_test = train_test_split(features,\n",
    "                                                    label,\n",
    "                                                    test_size=0.2,\n",
    "                                                    random_state=101)"
   ]
  },
  {
   "cell_type": "code",
   "execution_count": 25,
   "id": "7ff02bbc",
   "metadata": {
    "execution": {
     "iopub.execute_input": "2023-01-19T09:18:59.850462Z",
     "iopub.status.busy": "2023-01-19T09:18:59.849702Z",
     "iopub.status.idle": "2023-01-19T09:18:59.856179Z",
     "shell.execute_reply": "2023-01-19T09:18:59.855091Z"
    },
    "executionInfo": {
     "elapsed": 9,
     "status": "ok",
     "timestamp": 1674117771847,
     "user": {
      "displayName": "JackyColab",
      "userId": "09488920115420130960"
     },
     "user_tz": -420
    },
    "id": "jDv21Fi7pyN_",
    "outputId": "ecc35a93-2910-4b25-93c6-d01724cf4593",
    "papermill": {
     "duration": 0.035066,
     "end_time": "2023-01-19T09:18:59.859314",
     "exception": false,
     "start_time": "2023-01-19T09:18:59.824248",
     "status": "completed"
    },
    "tags": []
   },
   "outputs": [
    {
     "name": "stdout",
     "output_type": "stream",
     "text": [
      "(1772, 30)\n",
      "(1772,)\n",
      "(444, 30)\n",
      "(444,)\n"
     ]
    }
   ],
   "source": [
    "print(x_train.shape)\n",
    "print(y_train.shape)\n",
    "print(x_test.shape)\n",
    "print(y_test.shape)"
   ]
  },
  {
   "cell_type": "markdown",
   "id": "59856191",
   "metadata": {
    "id": "1PygNbWue8HT",
    "papermill": {
     "duration": 0.02345,
     "end_time": "2023-01-19T09:18:59.907761",
     "exception": false,
     "start_time": "2023-01-19T09:18:59.884311",
     "status": "completed"
    },
    "tags": []
   },
   "source": [
    "## **Create model**"
   ]
  },
  {
   "cell_type": "code",
   "execution_count": 26,
   "id": "a6ad6fb8",
   "metadata": {
    "execution": {
     "iopub.execute_input": "2023-01-19T09:18:59.957467Z",
     "iopub.status.busy": "2023-01-19T09:18:59.956653Z",
     "iopub.status.idle": "2023-01-19T09:19:00.240208Z",
     "shell.execute_reply": "2023-01-19T09:19:00.239365Z"
    },
    "executionInfo": {
     "elapsed": 727,
     "status": "ok",
     "timestamp": 1674118077128,
     "user": {
      "displayName": "JackyColab",
      "userId": "09488920115420130960"
     },
     "user_tz": -420
    },
    "id": "83U87lUKYR7F",
    "papermill": {
     "duration": 0.3119,
     "end_time": "2023-01-19T09:19:00.243220",
     "exception": false,
     "start_time": "2023-01-19T09:18:59.931320",
     "status": "completed"
    },
    "tags": []
   },
   "outputs": [
    {
     "name": "stderr",
     "output_type": "stream",
     "text": [
      "2023-01-19 09:19:00.003497: I tensorflow/core/common_runtime/process_util.cc:146] Creating new thread pool with default inter op setting: 2. Tune using inter_op_parallelism_threads for best performance.\n"
     ]
    }
   ],
   "source": [
    "from tensorflow.python import metrics\n",
    "from tensorflow.python.ops.math_ops import sigmoid\n",
    "model = Sequential()\n",
    "model.add(InputLayer(input_shape=(features.shape[1], ), name='input'))\n",
    "model.add(Dense(units=8, activation='sigmoid', name='hidden2'))\n",
    "model.add(Dense(units=1, activation='sigmoid', name='output'))\n",
    "\n",
    "model.compile(optimizer=Adam(),\n",
    "              loss='binary_crossentropy',\n",
    "              metrics='accuracy')"
   ]
  },
  {
   "cell_type": "code",
   "execution_count": 27,
   "id": "a1ca9fd4",
   "metadata": {
    "execution": {
     "iopub.execute_input": "2023-01-19T09:19:00.298103Z",
     "iopub.status.busy": "2023-01-19T09:19:00.297677Z",
     "iopub.status.idle": "2023-01-19T09:19:00.303819Z",
     "shell.execute_reply": "2023-01-19T09:19:00.302681Z"
    },
    "executionInfo": {
     "elapsed": 12,
     "status": "ok",
     "timestamp": 1674118079297,
     "user": {
      "displayName": "JackyColab",
      "userId": "09488920115420130960"
     },
     "user_tz": -420
    },
    "id": "NdBZcJTeeKa-",
    "outputId": "577ab26f-4272-4bb9-a737-f8c1c439e03e",
    "papermill": {
     "duration": 0.033309,
     "end_time": "2023-01-19T09:19:00.306170",
     "exception": false,
     "start_time": "2023-01-19T09:19:00.272861",
     "status": "completed"
    },
    "tags": []
   },
   "outputs": [
    {
     "name": "stdout",
     "output_type": "stream",
     "text": [
      "Model: \"sequential\"\n",
      "_________________________________________________________________\n",
      "Layer (type)                 Output Shape              Param #   \n",
      "=================================================================\n",
      "hidden2 (Dense)              (None, 8)                 248       \n",
      "_________________________________________________________________\n",
      "output (Dense)               (None, 1)                 9         \n",
      "=================================================================\n",
      "Total params: 257\n",
      "Trainable params: 257\n",
      "Non-trainable params: 0\n",
      "_________________________________________________________________\n"
     ]
    }
   ],
   "source": [
    "model.summary()"
   ]
  },
  {
   "cell_type": "markdown",
   "id": "b84b95c9",
   "metadata": {
    "id": "QBdB6eo7fDuT",
    "papermill": {
     "duration": 0.022901,
     "end_time": "2023-01-19T09:19:00.352377",
     "exception": false,
     "start_time": "2023-01-19T09:19:00.329476",
     "status": "completed"
    },
    "tags": []
   },
   "source": [
    "## **Train & Evaluate model**"
   ]
  },
  {
   "cell_type": "code",
   "execution_count": 28,
   "id": "cd5def21",
   "metadata": {
    "execution": {
     "iopub.execute_input": "2023-01-19T09:19:00.401923Z",
     "iopub.status.busy": "2023-01-19T09:19:00.401024Z",
     "iopub.status.idle": "2023-01-19T09:19:08.277421Z",
     "shell.execute_reply": "2023-01-19T09:19:08.276278Z"
    },
    "executionInfo": {
     "elapsed": 11254,
     "status": "ok",
     "timestamp": 1674118095017,
     "user": {
      "displayName": "JackyColab",
      "userId": "09488920115420130960"
     },
     "user_tz": -420
    },
    "id": "wdGxxBC6bn4C",
    "outputId": "57e3c32b-9114-40a8-e344-295e3597282e",
    "papermill": {
     "duration": 7.904177,
     "end_time": "2023-01-19T09:19:08.280051",
     "exception": false,
     "start_time": "2023-01-19T09:19:00.375874",
     "status": "completed"
    },
    "tags": []
   },
   "outputs": [
    {
     "name": "stderr",
     "output_type": "stream",
     "text": [
      "2023-01-19 09:19:00.492022: I tensorflow/compiler/mlir/mlir_graph_optimization_pass.cc:185] None of the MLIR Optimization Passes are enabled (registered 2)\n"
     ]
    },
    {
     "name": "stdout",
     "output_type": "stream",
     "text": [
      "Epoch 1/110\n",
      "18/18 [==============================] - 1s 15ms/step - loss: 0.6855 - accuracy: 0.5830 - val_loss: 0.6672 - val_accuracy: 0.5991\n",
      "Epoch 2/110\n",
      "18/18 [==============================] - 0s 3ms/step - loss: 0.6443 - accuracy: 0.6648 - val_loss: 0.6279 - val_accuracy: 0.7050\n",
      "Epoch 3/110\n",
      "18/18 [==============================] - 0s 3ms/step - loss: 0.6080 - accuracy: 0.7325 - val_loss: 0.5933 - val_accuracy: 0.7793\n",
      "Epoch 4/110\n",
      "18/18 [==============================] - 0s 3ms/step - loss: 0.5765 - accuracy: 0.7968 - val_loss: 0.5628 - val_accuracy: 0.8221\n",
      "Epoch 5/110\n",
      "18/18 [==============================] - 0s 3ms/step - loss: 0.5489 - accuracy: 0.8194 - val_loss: 0.5362 - val_accuracy: 0.8626\n",
      "Epoch 6/110\n",
      "18/18 [==============================] - 0s 4ms/step - loss: 0.5252 - accuracy: 0.8431 - val_loss: 0.5125 - val_accuracy: 0.8559\n",
      "Epoch 7/110\n",
      "18/18 [==============================] - 0s 3ms/step - loss: 0.5045 - accuracy: 0.8471 - val_loss: 0.4919 - val_accuracy: 0.8649\n",
      "Epoch 8/110\n",
      "18/18 [==============================] - 0s 3ms/step - loss: 0.4864 - accuracy: 0.8482 - val_loss: 0.4748 - val_accuracy: 0.8626\n",
      "Epoch 9/110\n",
      "18/18 [==============================] - 0s 3ms/step - loss: 0.4712 - accuracy: 0.8465 - val_loss: 0.4594 - val_accuracy: 0.8626\n",
      "Epoch 10/110\n",
      "18/18 [==============================] - 0s 3ms/step - loss: 0.4578 - accuracy: 0.8459 - val_loss: 0.4465 - val_accuracy: 0.8626\n",
      "Epoch 11/110\n",
      "18/18 [==============================] - 0s 3ms/step - loss: 0.4466 - accuracy: 0.8459 - val_loss: 0.4348 - val_accuracy: 0.8649\n",
      "Epoch 12/110\n",
      "18/18 [==============================] - 0s 3ms/step - loss: 0.4366 - accuracy: 0.8459 - val_loss: 0.4250 - val_accuracy: 0.8649\n",
      "Epoch 13/110\n",
      "18/18 [==============================] - 0s 3ms/step - loss: 0.4282 - accuracy: 0.8459 - val_loss: 0.4165 - val_accuracy: 0.8649\n",
      "Epoch 14/110\n",
      "18/18 [==============================] - 0s 3ms/step - loss: 0.4208 - accuracy: 0.8459 - val_loss: 0.4092 - val_accuracy: 0.8649\n",
      "Epoch 15/110\n",
      "18/18 [==============================] - 0s 3ms/step - loss: 0.4146 - accuracy: 0.8459 - val_loss: 0.4028 - val_accuracy: 0.8649\n",
      "Epoch 16/110\n",
      "18/18 [==============================] - 0s 3ms/step - loss: 0.4090 - accuracy: 0.8459 - val_loss: 0.3976 - val_accuracy: 0.8649\n",
      "Epoch 17/110\n",
      "18/18 [==============================] - 0s 3ms/step - loss: 0.4041 - accuracy: 0.8459 - val_loss: 0.3926 - val_accuracy: 0.8649\n",
      "Epoch 18/110\n",
      "18/18 [==============================] - 0s 3ms/step - loss: 0.3998 - accuracy: 0.8459 - val_loss: 0.3885 - val_accuracy: 0.8649\n",
      "Epoch 19/110\n",
      "18/18 [==============================] - 0s 3ms/step - loss: 0.3960 - accuracy: 0.8459 - val_loss: 0.3845 - val_accuracy: 0.8649\n",
      "Epoch 20/110\n",
      "18/18 [==============================] - 0s 3ms/step - loss: 0.3925 - accuracy: 0.8459 - val_loss: 0.3812 - val_accuracy: 0.8649\n",
      "Epoch 21/110\n",
      "18/18 [==============================] - 0s 3ms/step - loss: 0.3894 - accuracy: 0.8459 - val_loss: 0.3786 - val_accuracy: 0.8649\n",
      "Epoch 22/110\n",
      "18/18 [==============================] - 0s 3ms/step - loss: 0.3865 - accuracy: 0.8459 - val_loss: 0.3760 - val_accuracy: 0.8649\n",
      "Epoch 23/110\n",
      "18/18 [==============================] - 0s 3ms/step - loss: 0.3838 - accuracy: 0.8459 - val_loss: 0.3734 - val_accuracy: 0.8649\n",
      "Epoch 24/110\n",
      "18/18 [==============================] - 0s 3ms/step - loss: 0.3814 - accuracy: 0.8459 - val_loss: 0.3712 - val_accuracy: 0.8626\n",
      "Epoch 25/110\n",
      "18/18 [==============================] - 0s 3ms/step - loss: 0.3790 - accuracy: 0.8459 - val_loss: 0.3697 - val_accuracy: 0.8626\n",
      "Epoch 26/110\n",
      "18/18 [==============================] - 0s 3ms/step - loss: 0.3769 - accuracy: 0.8459 - val_loss: 0.3674 - val_accuracy: 0.8626\n",
      "Epoch 27/110\n",
      "18/18 [==============================] - 0s 3ms/step - loss: 0.3747 - accuracy: 0.8459 - val_loss: 0.3658 - val_accuracy: 0.8626\n",
      "Epoch 28/110\n",
      "18/18 [==============================] - 0s 3ms/step - loss: 0.3729 - accuracy: 0.8459 - val_loss: 0.3641 - val_accuracy: 0.8626\n",
      "Epoch 29/110\n",
      "18/18 [==============================] - 0s 3ms/step - loss: 0.3709 - accuracy: 0.8459 - val_loss: 0.3625 - val_accuracy: 0.8604\n",
      "Epoch 30/110\n",
      "18/18 [==============================] - 0s 3ms/step - loss: 0.3691 - accuracy: 0.8459 - val_loss: 0.3613 - val_accuracy: 0.8604\n",
      "Epoch 31/110\n",
      "18/18 [==============================] - 0s 3ms/step - loss: 0.3673 - accuracy: 0.8459 - val_loss: 0.3598 - val_accuracy: 0.8604\n",
      "Epoch 32/110\n",
      "18/18 [==============================] - 0s 3ms/step - loss: 0.3657 - accuracy: 0.8459 - val_loss: 0.3587 - val_accuracy: 0.8604\n",
      "Epoch 33/110\n",
      "18/18 [==============================] - 0s 3ms/step - loss: 0.3639 - accuracy: 0.8459 - val_loss: 0.3571 - val_accuracy: 0.8604\n",
      "Epoch 34/110\n",
      "18/18 [==============================] - 0s 3ms/step - loss: 0.3623 - accuracy: 0.8459 - val_loss: 0.3559 - val_accuracy: 0.8604\n",
      "Epoch 35/110\n",
      "18/18 [==============================] - 0s 3ms/step - loss: 0.3607 - accuracy: 0.8459 - val_loss: 0.3548 - val_accuracy: 0.8604\n",
      "Epoch 36/110\n",
      "18/18 [==============================] - 0s 3ms/step - loss: 0.3591 - accuracy: 0.8459 - val_loss: 0.3537 - val_accuracy: 0.8604\n",
      "Epoch 37/110\n",
      "18/18 [==============================] - 0s 4ms/step - loss: 0.3575 - accuracy: 0.8459 - val_loss: 0.3526 - val_accuracy: 0.8604\n",
      "Epoch 38/110\n",
      "18/18 [==============================] - 0s 3ms/step - loss: 0.3561 - accuracy: 0.8459 - val_loss: 0.3514 - val_accuracy: 0.8604\n",
      "Epoch 39/110\n",
      "18/18 [==============================] - 0s 3ms/step - loss: 0.3545 - accuracy: 0.8459 - val_loss: 0.3504 - val_accuracy: 0.8604\n",
      "Epoch 40/110\n",
      "18/18 [==============================] - 0s 3ms/step - loss: 0.3531 - accuracy: 0.8454 - val_loss: 0.3494 - val_accuracy: 0.8604\n",
      "Epoch 41/110\n",
      "18/18 [==============================] - 0s 3ms/step - loss: 0.3516 - accuracy: 0.8454 - val_loss: 0.3485 - val_accuracy: 0.8626\n",
      "Epoch 42/110\n",
      "18/18 [==============================] - 0s 3ms/step - loss: 0.3502 - accuracy: 0.8459 - val_loss: 0.3473 - val_accuracy: 0.8626\n",
      "Epoch 43/110\n",
      "18/18 [==============================] - 0s 3ms/step - loss: 0.3488 - accuracy: 0.8459 - val_loss: 0.3466 - val_accuracy: 0.8626\n",
      "Epoch 44/110\n",
      "18/18 [==============================] - 0s 3ms/step - loss: 0.3474 - accuracy: 0.8465 - val_loss: 0.3456 - val_accuracy: 0.8626\n",
      "Epoch 45/110\n",
      "18/18 [==============================] - 0s 3ms/step - loss: 0.3461 - accuracy: 0.8465 - val_loss: 0.3448 - val_accuracy: 0.8626\n",
      "Epoch 46/110\n",
      "18/18 [==============================] - 0s 3ms/step - loss: 0.3448 - accuracy: 0.8465 - val_loss: 0.3437 - val_accuracy: 0.8626\n",
      "Epoch 47/110\n",
      "18/18 [==============================] - 0s 3ms/step - loss: 0.3435 - accuracy: 0.8476 - val_loss: 0.3429 - val_accuracy: 0.8626\n",
      "Epoch 48/110\n",
      "18/18 [==============================] - 0s 3ms/step - loss: 0.3422 - accuracy: 0.8476 - val_loss: 0.3421 - val_accuracy: 0.8626\n",
      "Epoch 49/110\n",
      "18/18 [==============================] - 0s 3ms/step - loss: 0.3410 - accuracy: 0.8488 - val_loss: 0.3415 - val_accuracy: 0.8626\n",
      "Epoch 50/110\n",
      "18/18 [==============================] - 0s 3ms/step - loss: 0.3398 - accuracy: 0.8493 - val_loss: 0.3405 - val_accuracy: 0.8649\n",
      "Epoch 51/110\n",
      "18/18 [==============================] - 0s 3ms/step - loss: 0.3385 - accuracy: 0.8493 - val_loss: 0.3398 - val_accuracy: 0.8694\n",
      "Epoch 52/110\n",
      "18/18 [==============================] - 0s 3ms/step - loss: 0.3374 - accuracy: 0.8505 - val_loss: 0.3393 - val_accuracy: 0.8694\n",
      "Epoch 53/110\n",
      "18/18 [==============================] - 0s 3ms/step - loss: 0.3362 - accuracy: 0.8510 - val_loss: 0.3382 - val_accuracy: 0.8694\n",
      "Epoch 54/110\n",
      "18/18 [==============================] - 0s 3ms/step - loss: 0.3352 - accuracy: 0.8544 - val_loss: 0.3379 - val_accuracy: 0.8694\n",
      "Epoch 55/110\n",
      "18/18 [==============================] - 0s 3ms/step - loss: 0.3340 - accuracy: 0.8538 - val_loss: 0.3374 - val_accuracy: 0.8694\n",
      "Epoch 56/110\n",
      "18/18 [==============================] - 0s 4ms/step - loss: 0.3330 - accuracy: 0.8538 - val_loss: 0.3361 - val_accuracy: 0.8694\n",
      "Epoch 57/110\n",
      "18/18 [==============================] - 0s 4ms/step - loss: 0.3319 - accuracy: 0.8538 - val_loss: 0.3355 - val_accuracy: 0.8694\n",
      "Epoch 58/110\n",
      "18/18 [==============================] - 0s 3ms/step - loss: 0.3308 - accuracy: 0.8533 - val_loss: 0.3349 - val_accuracy: 0.8671\n",
      "Epoch 59/110\n",
      "18/18 [==============================] - 0s 3ms/step - loss: 0.3298 - accuracy: 0.8538 - val_loss: 0.3346 - val_accuracy: 0.8671\n",
      "Epoch 60/110\n",
      "18/18 [==============================] - 0s 3ms/step - loss: 0.3288 - accuracy: 0.8538 - val_loss: 0.3341 - val_accuracy: 0.8671\n",
      "Epoch 61/110\n",
      "18/18 [==============================] - 0s 4ms/step - loss: 0.3279 - accuracy: 0.8538 - val_loss: 0.3335 - val_accuracy: 0.8671\n",
      "Epoch 62/110\n",
      "18/18 [==============================] - 0s 3ms/step - loss: 0.3270 - accuracy: 0.8555 - val_loss: 0.3329 - val_accuracy: 0.8694\n",
      "Epoch 63/110\n",
      "18/18 [==============================] - 0s 3ms/step - loss: 0.3260 - accuracy: 0.8572 - val_loss: 0.3327 - val_accuracy: 0.8671\n",
      "Epoch 64/110\n",
      "18/18 [==============================] - 0s 3ms/step - loss: 0.3252 - accuracy: 0.8567 - val_loss: 0.3325 - val_accuracy: 0.8671\n",
      "Epoch 65/110\n",
      "18/18 [==============================] - 0s 3ms/step - loss: 0.3243 - accuracy: 0.8561 - val_loss: 0.3317 - val_accuracy: 0.8694\n",
      "Epoch 66/110\n",
      "18/18 [==============================] - 0s 3ms/step - loss: 0.3234 - accuracy: 0.8555 - val_loss: 0.3313 - val_accuracy: 0.8694\n",
      "Epoch 67/110\n",
      "18/18 [==============================] - 0s 3ms/step - loss: 0.3226 - accuracy: 0.8555 - val_loss: 0.3309 - val_accuracy: 0.8694\n",
      "Epoch 68/110\n",
      "18/18 [==============================] - 0s 3ms/step - loss: 0.3219 - accuracy: 0.8561 - val_loss: 0.3304 - val_accuracy: 0.8694\n",
      "Epoch 69/110\n",
      "18/18 [==============================] - 0s 3ms/step - loss: 0.3211 - accuracy: 0.8567 - val_loss: 0.3302 - val_accuracy: 0.8671\n",
      "Epoch 70/110\n",
      "18/18 [==============================] - 0s 4ms/step - loss: 0.3204 - accuracy: 0.8567 - val_loss: 0.3297 - val_accuracy: 0.8671\n",
      "Epoch 71/110\n",
      "18/18 [==============================] - 0s 3ms/step - loss: 0.3196 - accuracy: 0.8584 - val_loss: 0.3292 - val_accuracy: 0.8671\n",
      "Epoch 72/110\n",
      "18/18 [==============================] - 0s 4ms/step - loss: 0.3190 - accuracy: 0.8595 - val_loss: 0.3290 - val_accuracy: 0.8671\n",
      "Epoch 73/110\n",
      "18/18 [==============================] - 0s 3ms/step - loss: 0.3183 - accuracy: 0.8606 - val_loss: 0.3286 - val_accuracy: 0.8649\n",
      "Epoch 74/110\n",
      "18/18 [==============================] - 0s 3ms/step - loss: 0.3176 - accuracy: 0.8600 - val_loss: 0.3285 - val_accuracy: 0.8649\n",
      "Epoch 75/110\n",
      "18/18 [==============================] - 0s 3ms/step - loss: 0.3170 - accuracy: 0.8612 - val_loss: 0.3285 - val_accuracy: 0.8671\n",
      "Epoch 76/110\n",
      "18/18 [==============================] - 0s 3ms/step - loss: 0.3164 - accuracy: 0.8617 - val_loss: 0.3280 - val_accuracy: 0.8671\n",
      "Epoch 77/110\n",
      "18/18 [==============================] - 0s 4ms/step - loss: 0.3159 - accuracy: 0.8623 - val_loss: 0.3277 - val_accuracy: 0.8716\n",
      "Epoch 78/110\n",
      "18/18 [==============================] - 0s 3ms/step - loss: 0.3152 - accuracy: 0.8640 - val_loss: 0.3276 - val_accuracy: 0.8716\n",
      "Epoch 79/110\n",
      "18/18 [==============================] - 0s 3ms/step - loss: 0.3147 - accuracy: 0.8634 - val_loss: 0.3276 - val_accuracy: 0.8694\n",
      "Epoch 80/110\n",
      "18/18 [==============================] - 0s 3ms/step - loss: 0.3142 - accuracy: 0.8640 - val_loss: 0.3277 - val_accuracy: 0.8694\n",
      "Epoch 81/110\n",
      "18/18 [==============================] - 0s 3ms/step - loss: 0.3136 - accuracy: 0.8651 - val_loss: 0.3274 - val_accuracy: 0.8671\n",
      "Epoch 82/110\n",
      "18/18 [==============================] - 0s 3ms/step - loss: 0.3131 - accuracy: 0.8646 - val_loss: 0.3270 - val_accuracy: 0.8649\n",
      "Epoch 83/110\n",
      "18/18 [==============================] - 0s 3ms/step - loss: 0.3126 - accuracy: 0.8640 - val_loss: 0.3269 - val_accuracy: 0.8649\n",
      "Epoch 84/110\n",
      "18/18 [==============================] - 0s 3ms/step - loss: 0.3122 - accuracy: 0.8651 - val_loss: 0.3266 - val_accuracy: 0.8604\n",
      "Epoch 85/110\n",
      "18/18 [==============================] - 0s 3ms/step - loss: 0.3117 - accuracy: 0.8651 - val_loss: 0.3269 - val_accuracy: 0.8604\n",
      "Epoch 86/110\n",
      "18/18 [==============================] - 0s 3ms/step - loss: 0.3113 - accuracy: 0.8640 - val_loss: 0.3268 - val_accuracy: 0.8604\n",
      "Epoch 87/110\n",
      "18/18 [==============================] - 0s 3ms/step - loss: 0.3109 - accuracy: 0.8640 - val_loss: 0.3262 - val_accuracy: 0.8604\n",
      "Epoch 88/110\n",
      "18/18 [==============================] - 0s 3ms/step - loss: 0.3106 - accuracy: 0.8640 - val_loss: 0.3261 - val_accuracy: 0.8604\n",
      "Epoch 89/110\n",
      "18/18 [==============================] - 0s 3ms/step - loss: 0.3101 - accuracy: 0.8646 - val_loss: 0.3262 - val_accuracy: 0.8604\n",
      "Epoch 90/110\n",
      "18/18 [==============================] - 0s 3ms/step - loss: 0.3098 - accuracy: 0.8668 - val_loss: 0.3267 - val_accuracy: 0.8604\n",
      "Epoch 91/110\n",
      "18/18 [==============================] - 0s 3ms/step - loss: 0.3094 - accuracy: 0.8663 - val_loss: 0.3262 - val_accuracy: 0.8604\n",
      "Epoch 92/110\n",
      "18/18 [==============================] - 0s 3ms/step - loss: 0.3091 - accuracy: 0.8657 - val_loss: 0.3259 - val_accuracy: 0.8581\n",
      "Epoch 93/110\n",
      "18/18 [==============================] - 0s 3ms/step - loss: 0.3086 - accuracy: 0.8668 - val_loss: 0.3263 - val_accuracy: 0.8559\n",
      "Epoch 94/110\n",
      "18/18 [==============================] - 0s 3ms/step - loss: 0.3084 - accuracy: 0.8668 - val_loss: 0.3263 - val_accuracy: 0.8559\n",
      "Epoch 95/110\n",
      "18/18 [==============================] - 0s 3ms/step - loss: 0.3080 - accuracy: 0.8663 - val_loss: 0.3264 - val_accuracy: 0.8559\n",
      "Epoch 96/110\n",
      "18/18 [==============================] - 0s 3ms/step - loss: 0.3077 - accuracy: 0.8663 - val_loss: 0.3263 - val_accuracy: 0.8559\n",
      "Epoch 97/110\n",
      "18/18 [==============================] - 0s 3ms/step - loss: 0.3075 - accuracy: 0.8663 - val_loss: 0.3266 - val_accuracy: 0.8559\n",
      "Epoch 98/110\n",
      "18/18 [==============================] - 0s 3ms/step - loss: 0.3071 - accuracy: 0.8668 - val_loss: 0.3266 - val_accuracy: 0.8559\n",
      "Epoch 99/110\n",
      "18/18 [==============================] - 0s 4ms/step - loss: 0.3068 - accuracy: 0.8668 - val_loss: 0.3264 - val_accuracy: 0.8559\n",
      "Epoch 100/110\n",
      "18/18 [==============================] - 0s 3ms/step - loss: 0.3066 - accuracy: 0.8668 - val_loss: 0.3263 - val_accuracy: 0.8559\n",
      "Epoch 101/110\n",
      "18/18 [==============================] - 0s 3ms/step - loss: 0.3064 - accuracy: 0.8674 - val_loss: 0.3263 - val_accuracy: 0.8559\n",
      "Epoch 102/110\n",
      "18/18 [==============================] - 0s 3ms/step - loss: 0.3061 - accuracy: 0.8679 - val_loss: 0.3264 - val_accuracy: 0.8559\n",
      "Epoch 103/110\n",
      "18/18 [==============================] - 0s 3ms/step - loss: 0.3059 - accuracy: 0.8674 - val_loss: 0.3264 - val_accuracy: 0.8559\n",
      "Epoch 104/110\n",
      "18/18 [==============================] - 0s 3ms/step - loss: 0.3057 - accuracy: 0.8674 - val_loss: 0.3268 - val_accuracy: 0.8559\n",
      "Epoch 105/110\n",
      "18/18 [==============================] - 0s 3ms/step - loss: 0.3054 - accuracy: 0.8663 - val_loss: 0.3264 - val_accuracy: 0.8559\n",
      "Epoch 106/110\n",
      "18/18 [==============================] - 0s 3ms/step - loss: 0.3052 - accuracy: 0.8663 - val_loss: 0.3264 - val_accuracy: 0.8559\n",
      "Epoch 107/110\n",
      "18/18 [==============================] - 0s 3ms/step - loss: 0.3050 - accuracy: 0.8668 - val_loss: 0.3264 - val_accuracy: 0.8559\n",
      "Epoch 108/110\n",
      "18/18 [==============================] - 0s 3ms/step - loss: 0.3048 - accuracy: 0.8663 - val_loss: 0.3268 - val_accuracy: 0.8559\n",
      "Epoch 109/110\n",
      "18/18 [==============================] - 0s 3ms/step - loss: 0.3047 - accuracy: 0.8663 - val_loss: 0.3265 - val_accuracy: 0.8559\n",
      "Epoch 110/110\n",
      "18/18 [==============================] - 0s 3ms/step - loss: 0.3044 - accuracy: 0.8663 - val_loss: 0.3265 - val_accuracy: 0.8536\n"
     ]
    }
   ],
   "source": [
    "history = model.fit(x=x_train, \n",
    "          y=y_train, \n",
    "          batch_size=100,\n",
    "          epochs=110,\n",
    "          verbose=1,\n",
    "          validation_data=(x_test, y_test))"
   ]
  },
  {
   "cell_type": "code",
   "execution_count": 29,
   "id": "f3fbe34b",
   "metadata": {
    "execution": {
     "iopub.execute_input": "2023-01-19T09:19:08.358858Z",
     "iopub.status.busy": "2023-01-19T09:19:08.358443Z",
     "iopub.status.idle": "2023-01-19T09:19:08.374721Z",
     "shell.execute_reply": "2023-01-19T09:19:08.373774Z"
    },
    "executionInfo": {
     "elapsed": 730,
     "status": "ok",
     "timestamp": 1674118102343,
     "user": {
      "displayName": "JackyColab",
      "userId": "09488920115420130960"
     },
     "user_tz": -420
    },
    "id": "xULmOQ-cgbBe",
    "outputId": "a6100809-6610-4847-9704-5ab85b5a473f",
    "papermill": {
     "duration": 0.057977,
     "end_time": "2023-01-19T09:19:08.376839",
     "exception": false,
     "start_time": "2023-01-19T09:19:08.318862",
     "status": "completed"
    },
    "tags": []
   },
   "outputs": [
    {
     "data": {
      "text/html": [
       "<div>\n",
       "<style scoped>\n",
       "    .dataframe tbody tr th:only-of-type {\n",
       "        vertical-align: middle;\n",
       "    }\n",
       "\n",
       "    .dataframe tbody tr th {\n",
       "        vertical-align: top;\n",
       "    }\n",
       "\n",
       "    .dataframe thead th {\n",
       "        text-align: right;\n",
       "    }\n",
       "</style>\n",
       "<table border=\"1\" class=\"dataframe\">\n",
       "  <thead>\n",
       "    <tr style=\"text-align: right;\">\n",
       "      <th></th>\n",
       "      <th>loss</th>\n",
       "      <th>accuracy</th>\n",
       "      <th>val_loss</th>\n",
       "      <th>val_accuracy</th>\n",
       "    </tr>\n",
       "  </thead>\n",
       "  <tbody>\n",
       "    <tr>\n",
       "      <th>0</th>\n",
       "      <td>0.685480</td>\n",
       "      <td>0.582957</td>\n",
       "      <td>0.667233</td>\n",
       "      <td>0.599099</td>\n",
       "    </tr>\n",
       "    <tr>\n",
       "      <th>1</th>\n",
       "      <td>0.644345</td>\n",
       "      <td>0.664786</td>\n",
       "      <td>0.627907</td>\n",
       "      <td>0.704955</td>\n",
       "    </tr>\n",
       "    <tr>\n",
       "      <th>2</th>\n",
       "      <td>0.608018</td>\n",
       "      <td>0.732506</td>\n",
       "      <td>0.593322</td>\n",
       "      <td>0.779279</td>\n",
       "    </tr>\n",
       "    <tr>\n",
       "      <th>3</th>\n",
       "      <td>0.576515</td>\n",
       "      <td>0.796840</td>\n",
       "      <td>0.562780</td>\n",
       "      <td>0.822072</td>\n",
       "    </tr>\n",
       "    <tr>\n",
       "      <th>4</th>\n",
       "      <td>0.548918</td>\n",
       "      <td>0.819413</td>\n",
       "      <td>0.536215</td>\n",
       "      <td>0.862613</td>\n",
       "    </tr>\n",
       "    <tr>\n",
       "      <th>...</th>\n",
       "      <td>...</td>\n",
       "      <td>...</td>\n",
       "      <td>...</td>\n",
       "      <td>...</td>\n",
       "    </tr>\n",
       "    <tr>\n",
       "      <th>105</th>\n",
       "      <td>0.305213</td>\n",
       "      <td>0.866253</td>\n",
       "      <td>0.326387</td>\n",
       "      <td>0.855856</td>\n",
       "    </tr>\n",
       "    <tr>\n",
       "      <th>106</th>\n",
       "      <td>0.304954</td>\n",
       "      <td>0.866817</td>\n",
       "      <td>0.326424</td>\n",
       "      <td>0.855856</td>\n",
       "    </tr>\n",
       "    <tr>\n",
       "      <th>107</th>\n",
       "      <td>0.304840</td>\n",
       "      <td>0.866253</td>\n",
       "      <td>0.326773</td>\n",
       "      <td>0.855856</td>\n",
       "    </tr>\n",
       "    <tr>\n",
       "      <th>108</th>\n",
       "      <td>0.304698</td>\n",
       "      <td>0.866253</td>\n",
       "      <td>0.326549</td>\n",
       "      <td>0.855856</td>\n",
       "    </tr>\n",
       "    <tr>\n",
       "      <th>109</th>\n",
       "      <td>0.304417</td>\n",
       "      <td>0.866253</td>\n",
       "      <td>0.326516</td>\n",
       "      <td>0.853604</td>\n",
       "    </tr>\n",
       "  </tbody>\n",
       "</table>\n",
       "<p>110 rows × 4 columns</p>\n",
       "</div>"
      ],
      "text/plain": [
       "         loss  accuracy  val_loss  val_accuracy\n",
       "0    0.685480  0.582957  0.667233      0.599099\n",
       "1    0.644345  0.664786  0.627907      0.704955\n",
       "2    0.608018  0.732506  0.593322      0.779279\n",
       "3    0.576515  0.796840  0.562780      0.822072\n",
       "4    0.548918  0.819413  0.536215      0.862613\n",
       "..        ...       ...       ...           ...\n",
       "105  0.305213  0.866253  0.326387      0.855856\n",
       "106  0.304954  0.866817  0.326424      0.855856\n",
       "107  0.304840  0.866253  0.326773      0.855856\n",
       "108  0.304698  0.866253  0.326549      0.855856\n",
       "109  0.304417  0.866253  0.326516      0.853604\n",
       "\n",
       "[110 rows x 4 columns]"
      ]
     },
     "execution_count": 29,
     "metadata": {},
     "output_type": "execute_result"
    }
   ],
   "source": [
    "hist = pd.DataFrame(history.history)\n",
    "hist"
   ]
  },
  {
   "cell_type": "code",
   "execution_count": 30,
   "id": "b62903a6",
   "metadata": {
    "execution": {
     "iopub.execute_input": "2023-01-19T09:19:08.455175Z",
     "iopub.status.busy": "2023-01-19T09:19:08.454053Z",
     "iopub.status.idle": "2023-01-19T09:19:08.467267Z",
     "shell.execute_reply": "2023-01-19T09:19:08.466402Z"
    },
    "executionInfo": {
     "elapsed": 22,
     "status": "ok",
     "timestamp": 1674118104908,
     "user": {
      "displayName": "JackyColab",
      "userId": "09488920115420130960"
     },
     "user_tz": -420
    },
    "id": "aTaq8m3viC9n",
    "outputId": "2f1f8c91-5162-4720-ab9b-44271e50de75",
    "papermill": {
     "duration": 0.053961,
     "end_time": "2023-01-19T09:19:08.469333",
     "exception": false,
     "start_time": "2023-01-19T09:19:08.415372",
     "status": "completed"
    },
    "tags": []
   },
   "outputs": [
    {
     "data": {
      "text/html": [
       "<div>\n",
       "<style scoped>\n",
       "    .dataframe tbody tr th:only-of-type {\n",
       "        vertical-align: middle;\n",
       "    }\n",
       "\n",
       "    .dataframe tbody tr th {\n",
       "        vertical-align: top;\n",
       "    }\n",
       "\n",
       "    .dataframe thead th {\n",
       "        text-align: right;\n",
       "    }\n",
       "</style>\n",
       "<table border=\"1\" class=\"dataframe\">\n",
       "  <thead>\n",
       "    <tr style=\"text-align: right;\">\n",
       "      <th></th>\n",
       "      <th>loss</th>\n",
       "      <th>val_loss</th>\n",
       "    </tr>\n",
       "  </thead>\n",
       "  <tbody>\n",
       "    <tr>\n",
       "      <th>0</th>\n",
       "      <td>0.685480</td>\n",
       "      <td>0.667233</td>\n",
       "    </tr>\n",
       "    <tr>\n",
       "      <th>1</th>\n",
       "      <td>0.644345</td>\n",
       "      <td>0.627907</td>\n",
       "    </tr>\n",
       "    <tr>\n",
       "      <th>2</th>\n",
       "      <td>0.608018</td>\n",
       "      <td>0.593322</td>\n",
       "    </tr>\n",
       "    <tr>\n",
       "      <th>3</th>\n",
       "      <td>0.576515</td>\n",
       "      <td>0.562780</td>\n",
       "    </tr>\n",
       "    <tr>\n",
       "      <th>4</th>\n",
       "      <td>0.548918</td>\n",
       "      <td>0.536215</td>\n",
       "    </tr>\n",
       "    <tr>\n",
       "      <th>...</th>\n",
       "      <td>...</td>\n",
       "      <td>...</td>\n",
       "    </tr>\n",
       "    <tr>\n",
       "      <th>105</th>\n",
       "      <td>0.305213</td>\n",
       "      <td>0.326387</td>\n",
       "    </tr>\n",
       "    <tr>\n",
       "      <th>106</th>\n",
       "      <td>0.304954</td>\n",
       "      <td>0.326424</td>\n",
       "    </tr>\n",
       "    <tr>\n",
       "      <th>107</th>\n",
       "      <td>0.304840</td>\n",
       "      <td>0.326773</td>\n",
       "    </tr>\n",
       "    <tr>\n",
       "      <th>108</th>\n",
       "      <td>0.304698</td>\n",
       "      <td>0.326549</td>\n",
       "    </tr>\n",
       "    <tr>\n",
       "      <th>109</th>\n",
       "      <td>0.304417</td>\n",
       "      <td>0.326516</td>\n",
       "    </tr>\n",
       "  </tbody>\n",
       "</table>\n",
       "<p>110 rows × 2 columns</p>\n",
       "</div>"
      ],
      "text/plain": [
       "         loss  val_loss\n",
       "0    0.685480  0.667233\n",
       "1    0.644345  0.627907\n",
       "2    0.608018  0.593322\n",
       "3    0.576515  0.562780\n",
       "4    0.548918  0.536215\n",
       "..        ...       ...\n",
       "105  0.305213  0.326387\n",
       "106  0.304954  0.326424\n",
       "107  0.304840  0.326773\n",
       "108  0.304698  0.326549\n",
       "109  0.304417  0.326516\n",
       "\n",
       "[110 rows x 2 columns]"
      ]
     },
     "execution_count": 30,
     "metadata": {},
     "output_type": "execute_result"
    }
   ],
   "source": [
    "hist_loss = hist.loc[:, ['loss', 'val_loss']]\n",
    "hist_loss"
   ]
  },
  {
   "cell_type": "code",
   "execution_count": 31,
   "id": "19d92afa",
   "metadata": {
    "execution": {
     "iopub.execute_input": "2023-01-19T09:19:08.546486Z",
     "iopub.status.busy": "2023-01-19T09:19:08.546074Z",
     "iopub.status.idle": "2023-01-19T09:19:08.560173Z",
     "shell.execute_reply": "2023-01-19T09:19:08.558997Z"
    },
    "executionInfo": {
     "elapsed": 15,
     "status": "ok",
     "timestamp": 1674118107246,
     "user": {
      "displayName": "JackyColab",
      "userId": "09488920115420130960"
     },
     "user_tz": -420
    },
    "id": "C1MY-9O7i_AW",
    "outputId": "de9f4928-c935-4ea4-e97f-192d0d82f991",
    "papermill": {
     "duration": 0.055249,
     "end_time": "2023-01-19T09:19:08.562552",
     "exception": false,
     "start_time": "2023-01-19T09:19:08.507303",
     "status": "completed"
    },
    "tags": []
   },
   "outputs": [
    {
     "data": {
      "text/html": [
       "<div>\n",
       "<style scoped>\n",
       "    .dataframe tbody tr th:only-of-type {\n",
       "        vertical-align: middle;\n",
       "    }\n",
       "\n",
       "    .dataframe tbody tr th {\n",
       "        vertical-align: top;\n",
       "    }\n",
       "\n",
       "    .dataframe thead th {\n",
       "        text-align: right;\n",
       "    }\n",
       "</style>\n",
       "<table border=\"1\" class=\"dataframe\">\n",
       "  <thead>\n",
       "    <tr style=\"text-align: right;\">\n",
       "      <th></th>\n",
       "      <th>accuracy</th>\n",
       "      <th>val_accuracy</th>\n",
       "    </tr>\n",
       "  </thead>\n",
       "  <tbody>\n",
       "    <tr>\n",
       "      <th>0</th>\n",
       "      <td>0.582957</td>\n",
       "      <td>0.599099</td>\n",
       "    </tr>\n",
       "    <tr>\n",
       "      <th>1</th>\n",
       "      <td>0.664786</td>\n",
       "      <td>0.704955</td>\n",
       "    </tr>\n",
       "    <tr>\n",
       "      <th>2</th>\n",
       "      <td>0.732506</td>\n",
       "      <td>0.779279</td>\n",
       "    </tr>\n",
       "    <tr>\n",
       "      <th>3</th>\n",
       "      <td>0.796840</td>\n",
       "      <td>0.822072</td>\n",
       "    </tr>\n",
       "    <tr>\n",
       "      <th>4</th>\n",
       "      <td>0.819413</td>\n",
       "      <td>0.862613</td>\n",
       "    </tr>\n",
       "    <tr>\n",
       "      <th>...</th>\n",
       "      <td>...</td>\n",
       "      <td>...</td>\n",
       "    </tr>\n",
       "    <tr>\n",
       "      <th>105</th>\n",
       "      <td>0.866253</td>\n",
       "      <td>0.855856</td>\n",
       "    </tr>\n",
       "    <tr>\n",
       "      <th>106</th>\n",
       "      <td>0.866817</td>\n",
       "      <td>0.855856</td>\n",
       "    </tr>\n",
       "    <tr>\n",
       "      <th>107</th>\n",
       "      <td>0.866253</td>\n",
       "      <td>0.855856</td>\n",
       "    </tr>\n",
       "    <tr>\n",
       "      <th>108</th>\n",
       "      <td>0.866253</td>\n",
       "      <td>0.855856</td>\n",
       "    </tr>\n",
       "    <tr>\n",
       "      <th>109</th>\n",
       "      <td>0.866253</td>\n",
       "      <td>0.853604</td>\n",
       "    </tr>\n",
       "  </tbody>\n",
       "</table>\n",
       "<p>110 rows × 2 columns</p>\n",
       "</div>"
      ],
      "text/plain": [
       "     accuracy  val_accuracy\n",
       "0    0.582957      0.599099\n",
       "1    0.664786      0.704955\n",
       "2    0.732506      0.779279\n",
       "3    0.796840      0.822072\n",
       "4    0.819413      0.862613\n",
       "..        ...           ...\n",
       "105  0.866253      0.855856\n",
       "106  0.866817      0.855856\n",
       "107  0.866253      0.855856\n",
       "108  0.866253      0.855856\n",
       "109  0.866253      0.853604\n",
       "\n",
       "[110 rows x 2 columns]"
      ]
     },
     "execution_count": 31,
     "metadata": {},
     "output_type": "execute_result"
    }
   ],
   "source": [
    "hist_acc = hist.loc[:, ['accuracy', 'val_accuracy']]\n",
    "hist_acc"
   ]
  },
  {
   "cell_type": "code",
   "execution_count": 32,
   "id": "e6bb98f8",
   "metadata": {
    "execution": {
     "iopub.execute_input": "2023-01-19T09:19:08.648000Z",
     "iopub.status.busy": "2023-01-19T09:19:08.647602Z",
     "iopub.status.idle": "2023-01-19T09:19:08.653434Z",
     "shell.execute_reply": "2023-01-19T09:19:08.652283Z"
    },
    "executionInfo": {
     "elapsed": 7,
     "status": "ok",
     "timestamp": 1674118109448,
     "user": {
      "displayName": "JackyColab",
      "userId": "09488920115420130960"
     },
     "user_tz": -420
    },
    "id": "wZfmu321e5C0",
    "papermill": {
     "duration": 0.052082,
     "end_time": "2023-01-19T09:19:08.656008",
     "exception": false,
     "start_time": "2023-01-19T09:19:08.603926",
     "status": "completed"
    },
    "tags": []
   },
   "outputs": [],
   "source": [
    "def plot_loss(history_loss):\n",
    "  plt.figure()\n",
    "  plt.title('Loss')\n",
    "  plt.plot(history_loss)\n",
    "  plt.xlabel(\"Epoch\")\n",
    "  plt.ylabel(\"Value\")\n",
    "  plt.legend(['loss', 'val_loss'])\n",
    "  plt.tight_layout()\n",
    "  plt.show()"
   ]
  },
  {
   "cell_type": "code",
   "execution_count": 33,
   "id": "83921738",
   "metadata": {
    "execution": {
     "iopub.execute_input": "2023-01-19T09:19:08.735242Z",
     "iopub.status.busy": "2023-01-19T09:19:08.734780Z",
     "iopub.status.idle": "2023-01-19T09:19:08.740819Z",
     "shell.execute_reply": "2023-01-19T09:19:08.739771Z"
    },
    "executionInfo": {
     "elapsed": 5,
     "status": "ok",
     "timestamp": 1674118111783,
     "user": {
      "displayName": "JackyColab",
      "userId": "09488920115420130960"
     },
     "user_tz": -420
    },
    "id": "A4DWbfeIi4P6",
    "papermill": {
     "duration": 0.046812,
     "end_time": "2023-01-19T09:19:08.742903",
     "exception": false,
     "start_time": "2023-01-19T09:19:08.696091",
     "status": "completed"
    },
    "tags": []
   },
   "outputs": [],
   "source": [
    "def plot_acc(history_acc):\n",
    "  plt.figure()\n",
    "  plt.title('Accuracy')\n",
    "  plt.plot(history_acc)\n",
    "  plt.xlabel(\"Epoch\")\n",
    "  plt.ylabel(\"Value\")\n",
    "  plt.legend(['accuracy', 'val_accuracy'])\n",
    "  plt.tight_layout()\n",
    "  plt.show()"
   ]
  },
  {
   "cell_type": "code",
   "execution_count": 34,
   "id": "2b53486e",
   "metadata": {
    "execution": {
     "iopub.execute_input": "2023-01-19T09:19:08.822129Z",
     "iopub.status.busy": "2023-01-19T09:19:08.821469Z",
     "iopub.status.idle": "2023-01-19T09:19:09.159425Z",
     "shell.execute_reply": "2023-01-19T09:19:09.158408Z"
    },
    "executionInfo": {
     "elapsed": 915,
     "status": "ok",
     "timestamp": 1674118114686,
     "user": {
      "displayName": "JackyColab",
      "userId": "09488920115420130960"
     },
     "user_tz": -420
    },
    "id": "K2ACD8rxgQRD",
    "outputId": "9c0a5381-075e-4b06-dee0-e535faa4efa5",
    "papermill": {
     "duration": 0.380106,
     "end_time": "2023-01-19T09:19:09.161737",
     "exception": false,
     "start_time": "2023-01-19T09:19:08.781631",
     "status": "completed"
    },
    "tags": []
   },
   "outputs": [
    {
     "data": {
      "image/png": "[encoded data removed]",
      "text/plain": [
       "<Figure size 432x288 with 1 Axes>"
      ]
     },
     "metadata": {
      "needs_background": "light"
     },
     "output_type": "display_data"
    },
    {
     "data": {
      "image/png": "[encoded data removed]",
      "text/plain": [
       "<Figure size 432x288 with 1 Axes>"
      ]
     },
     "metadata": {
      "needs_background": "light"
     },
     "output_type": "display_data"
    }
   ],
   "source": [
    "plot_loss(hist_loss)\n",
    "plot_acc(hist_acc)"
   ]
  },
  {
   "cell_type": "code",
   "execution_count": 35,
   "id": "65febfc2",
   "metadata": {
    "execution": {
     "iopub.execute_input": "2023-01-19T09:19:09.241214Z",
     "iopub.status.busy": "2023-01-19T09:19:09.240784Z",
     "iopub.status.idle": "2023-01-19T09:19:09.386554Z",
     "shell.execute_reply": "2023-01-19T09:19:09.385440Z"
    },
    "executionInfo": {
     "elapsed": 580,
     "status": "ok",
     "timestamp": 1674118121238,
     "user": {
      "displayName": "JackyColab",
      "userId": "09488920115420130960"
     },
     "user_tz": -420
    },
    "id": "SQTSWNGesZSq",
    "outputId": "d1e29301-1190-4ef7-e5e6-7b224c383653",
    "papermill": {
     "duration": 0.188472,
     "end_time": "2023-01-19T09:19:09.389337",
     "exception": false,
     "start_time": "2023-01-19T09:19:09.200865",
     "status": "completed"
    },
    "tags": []
   },
   "outputs": [],
   "source": [
    "y_pred = model.predict(x_test)\n",
    "y_pred = np.around(y_pred)"
   ]
  },
  {
   "cell_type": "code",
   "execution_count": 36,
   "id": "68c877b3",
   "metadata": {
    "execution": {
     "iopub.execute_input": "2023-01-19T09:19:09.468849Z",
     "iopub.status.busy": "2023-01-19T09:19:09.468465Z",
     "iopub.status.idle": "2023-01-19T09:19:09.635438Z",
     "shell.execute_reply": "2023-01-19T09:19:09.634051Z"
    },
    "executionInfo": {
     "elapsed": 801,
     "status": "ok",
     "timestamp": 1674118123644,
     "user": {
      "displayName": "JackyColab",
      "userId": "09488920115420130960"
     },
     "user_tz": -420
    },
    "id": "3ZhFzdFLrr3H",
    "outputId": "e880d8ec-33c2-4dae-f121-251cba5ca1cc",
    "papermill": {
     "duration": 0.209868,
     "end_time": "2023-01-19T09:19:09.638252",
     "exception": false,
     "start_time": "2023-01-19T09:19:09.428384",
     "status": "completed"
    },
    "tags": []
   },
   "outputs": [
    {
     "data": {
      "image/png": "[encoded data removed]",
      "text/plain": [
       "<Figure size 432x288 with 2 Axes>"
      ]
     },
     "metadata": {
      "needs_background": "light"
     },
     "output_type": "display_data"
    }
   ],
   "source": [
    "confusion = confusion_matrix(y_test, y_pred)\n",
    "cm_display = ConfusionMatrixDisplay(confusion)\n",
    "cm_display.plot()\n",
    "plt.show()"
   ]
  },
  {
   "cell_type": "code",
   "execution_count": 37,
   "id": "15b621cd",
   "metadata": {
    "execution": {
     "iopub.execute_input": "2023-01-19T09:19:09.719034Z",
     "iopub.status.busy": "2023-01-19T09:19:09.718609Z",
     "iopub.status.idle": "2023-01-19T09:19:09.731008Z",
     "shell.execute_reply": "2023-01-19T09:19:09.729513Z"
    },
    "executionInfo": {
     "elapsed": 767,
     "status": "ok",
     "timestamp": 1674118127929,
     "user": {
      "displayName": "JackyColab",
      "userId": "09488920115420130960"
     },
     "user_tz": -420
    },
    "id": "t4xd21rGtFIH",
    "outputId": "bc44bafd-a0fb-45c7-a624-0eeb915cfaa1",
    "papermill": {
     "duration": 0.056013,
     "end_time": "2023-01-19T09:19:09.733407",
     "exception": false,
     "start_time": "2023-01-19T09:19:09.677394",
     "status": "completed"
    },
    "tags": []
   },
   "outputs": [
    {
     "name": "stdout",
     "output_type": "stream",
     "text": [
      "              precision    recall  f1-score   support\n",
      "\n",
      "           0       0.89      0.95      0.92       384\n",
      "           1       0.42      0.23      0.30        60\n",
      "\n",
      "    accuracy                           0.85       444\n",
      "   macro avg       0.66      0.59      0.61       444\n",
      "weighted avg       0.83      0.85      0.83       444\n",
      "\n"
     ]
    }
   ],
   "source": [
    "report = classification_report(y_test, y_pred)\n",
    "print(report)"
   ]
  },
  {
   "cell_type": "markdown",
   "id": "3b014343",
   "metadata": {
    "id": "VtsTBgcIN4Ms",
    "papermill": {
     "duration": 0.039301,
     "end_time": "2023-01-19T09:19:09.811768",
     "exception": false,
     "start_time": "2023-01-19T09:19:09.772467",
     "status": "completed"
    },
    "tags": []
   },
   "source": [
    "# **Review**\n",
    "> The model isn't good enough because the number of data class 1 I trained is too small."
   ]
  }
 ],
 "metadata": {
  "kernelspec": {
   "display_name": "Python 3",
   "language": "python",
   "name": "python3"
  },
  "language_info": {
   "codemirror_mode": {
    "name": "ipython",
    "version": 3
   },
   "file_extension": ".py",
   "mimetype": "text/x-python",
   "name": "python",
   "nbconvert_exporter": "python",
   "pygments_lexer": "ipython3",
   "version": "3.8.8"
  },
  "papermill": {
   "default_parameters": {},
   "duration": 150.247351,
   "end_time": "2023-01-19T09:19:13.429780",
   "environment_variables": {},
   "exception": null,
   "input_path": "__notebook__.ipynb",
   "output_path": "__notebook__.ipynb",
   "parameters": {},
   "start_time": "2023-01-19T09:16:43.182429",
   "version": "2.3.4"
  }
 },
 "nbformat": 4,
 "nbformat_minor": 5
}
